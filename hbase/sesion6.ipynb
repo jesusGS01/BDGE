{
  "nbformat": 4,
  "nbformat_minor": 0,
  "metadata": {
    "kernelspec": {
      "display_name": "Python 3",
      "language": "python",
      "name": "python3"
    },
    "language_info": {
      "codemirror_mode": {
        "name": "ipython",
        "version": 3
      },
      "file_extension": ".py",
      "mimetype": "text/x-python",
      "name": "python",
      "nbconvert_exporter": "python",
      "pygments_lexer": "ipython3",
      "version": "3.7.3"
    },
    "colab": {
      "name": "sesion6.ipynb",
      "provenance": [],
      "include_colab_link": true
    }
  },
  "cells": [
    {
      "cell_type": "markdown",
      "metadata": {
        "id": "view-in-github",
        "colab_type": "text"
      },
      "source": [
        "<a href=\"https://colab.research.google.com/github/jesusGS01/BDGE/blob/main/hbase/sesion6.ipynb\" target=\"_parent\"><img src=\"https://colab.research.google.com/assets/colab-badge.svg\" alt=\"Open In Colab\"/></a>"
      ]
    },
    {
      "cell_type": "markdown",
      "metadata": {
        "id": "ft50fw517yvk"
      },
      "source": [
        "# NoSQL (HBase) (sesión 6)"
      ]
    },
    {
      "cell_type": "markdown",
      "metadata": {
        "id": "wiopea6aOBbi"
      },
      "source": [
        "![hbase-logo.e139b77f7031062f738f0fc28210e0ffa6ca26c8.png](data:image/png;base64,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)\n",
        "\n"
      ]
    },
    {
      "cell_type": "markdown",
      "metadata": {
        "id": "4HLSQ6r6Ok9v"
      },
      "source": [
        "Esta hoja muestra cómo acceder a bases de datos HBase y también a conectar la salida con Jupyter.\n",
        "\n",
        "Se puede utilizar el *shell* propio de HBase en la máquina virtual.\n",
        "\n",
        "Con HBase vamos a simular un modo _semi-clúster_ con una sola máquina.\n"
      ]
    },
    {
      "cell_type": "markdown",
      "metadata": {
        "id": "julNKL3JQZRW"
      },
      "source": [
        "Instalamos la versión 8 de Java y la seleccionamos como opción por defecto:\n"
      ]
    },
    {
      "cell_type": "code",
      "metadata": {
        "id": "K60d3mLKZg6x"
      },
      "source": [
        "%%capture\n",
        "import os       #importing os to set environment variable\n",
        "def install_java():\n",
        "  !apt-get update -qq > /dev/null\n",
        "  !apt-get install -y openjdk-8-jdk-headless -qq > /dev/null      #install openjdk\n",
        "  os.environ[\"JAVA_HOME\"] = \"/usr/lib/jvm/java-8-openjdk-amd64\"     #set environment variable\n",
        "  !java -version       #check java version\n",
        "install_java()\n",
        "!update-java-alternatives -s java-1.8.0-openjdk-amd64"
      ],
      "execution_count": 1,
      "outputs": []
    },
    {
      "cell_type": "code",
      "metadata": {
        "id": "rg0KEOMXbKpW",
        "colab": {
          "base_uri": "https://localhost:8080/"
        },
        "outputId": "b0bf73f0-87a4-438e-9602-9192e63af0e4"
      },
      "source": [
        "!pip install bs4 lxml"
      ],
      "execution_count": 2,
      "outputs": [
        {
          "output_type": "stream",
          "name": "stdout",
          "text": [
            "Collecting bs4\n",
            "  Downloading bs4-0.0.1.tar.gz (1.1 kB)\n",
            "  Preparing metadata (setup.py) ... \u001b[?25l\u001b[?25hdone\n",
            "Requirement already satisfied: lxml in /usr/local/lib/python3.10/dist-packages (4.9.3)\n",
            "Requirement already satisfied: beautifulsoup4 in /usr/local/lib/python3.10/dist-packages (from bs4) (4.11.2)\n",
            "Requirement already satisfied: soupsieve>1.2 in /usr/local/lib/python3.10/dist-packages (from beautifulsoup4->bs4) (2.5)\n",
            "Building wheels for collected packages: bs4\n",
            "  Building wheel for bs4 (setup.py) ... \u001b[?25l\u001b[?25hdone\n",
            "  Created wheel for bs4: filename=bs4-0.0.1-py3-none-any.whl size=1257 sha256=f1ff3f5520093af4c19f90783e52e1bc396bd0202c5dc81e0de57c56962e8a1f\n",
            "  Stored in directory: /root/.cache/pip/wheels/25/42/45/b773edc52acb16cd2db4cf1a0b47117e2f69bb4eb300ed0e70\n",
            "Successfully built bs4\n",
            "Installing collected packages: bs4\n",
            "Successfully installed bs4-0.0.1\n"
          ]
        }
      ]
    },
    {
      "cell_type": "code",
      "metadata": {
        "id": "62f5Meq7bNIP"
      },
      "source": [
        "# Determinar qué versión 2.x es mayor de hbase\n",
        "from bs4 import BeautifulSoup\n",
        "from urllib.request import Request, urlopen\n",
        "import re\n",
        "\n",
        "version_re = re.compile(r'^(2\\.[0-9]+(\\.[0-9]+)?)')\n",
        "req = Request(\"https://downloads.apache.org/hbase/\")\n",
        "html_page = urlopen(req)\n",
        "\n",
        "soup = BeautifulSoup(html_page)\n",
        "\n",
        "bigger2x = '2.0.0'  # Base version 2.x.x\n",
        "for link in soup.findAll('a'):\n",
        "  mresult = version_re.match(link.get_text())\n",
        "  if mresult and mresult.group(0) > bigger2x:\n",
        "    bigger2x = mresult.group(0)"
      ],
      "execution_count": 3,
      "outputs": []
    },
    {
      "cell_type": "code",
      "metadata": {
        "id": "nqEVgAChMFcR",
        "colab": {
          "base_uri": "https://localhost:8080/"
        },
        "outputId": "2dc8c57b-0ba6-4091-abd8-860bbedee3dd"
      },
      "source": [
        "%env HBASE_VERSION=$bigger2x"
      ],
      "execution_count": 4,
      "outputs": [
        {
          "output_type": "stream",
          "name": "stdout",
          "text": [
            "env: HBASE_VERSION=2.5.6\n"
          ]
        }
      ]
    },
    {
      "cell_type": "code",
      "metadata": {
        "id": "9hv1DUSoFOys"
      },
      "source": [
        "%%bash\n",
        "wget -q https://downloads.apache.org/hbase/$HBASE_VERSION/hbase-$HBASE_VERSION-bin.tar.gz\n",
        "tar -xzf hbase-$HBASE_VERSION-bin.tar.gz"
      ],
      "execution_count": 5,
      "outputs": []
    },
    {
      "cell_type": "code",
      "metadata": {
        "id": "uMmB5l_oaNJD",
        "colab": {
          "base_uri": "https://localhost:8080/"
        },
        "outputId": "73b85c26-4232-4817-98ad-65a80d050fb6"
      },
      "source": [
        "%%bash\n",
        "hbase-$HBASE_VERSION/bin/start-hbase.sh\n",
        "hbase-$HBASE_VERSION/bin/hbase-daemon.sh restart thrift"
      ],
      "execution_count": 6,
      "outputs": [
        {
          "output_type": "stream",
          "name": "stdout",
          "text": [
            "running master, logging to /content/hbase-2.5.6/bin/../logs/hbase--master-52dc362b88ac.out\n",
            "running thrift, logging to /content/hbase-2.5.6/bin/../logs/hbase--thrift-52dc362b88ac.out\n",
            "running thrift, logging to /content/hbase-2.5.6/bin/../logs/hbase--thrift-52dc362b88ac.out\n",
            "no thrift to stop because no pid file /tmp/hbase--thrift.pid\n",
            "running thrift, logging to /content/hbase-2.5.6/bin/../logs/hbase--thrift-52dc362b88ac.out\n"
          ]
        }
      ]
    },
    {
      "cell_type": "code",
      "metadata": {
        "id": "_PjCnzExOBbo"
      },
      "source": [
        "from pprint import pprint as pp\n",
        "import pandas as pd\n",
        "import matplotlib.pyplot as plt\n",
        "import matplotlib\n",
        "\n",
        "%matplotlib inline\n",
        "matplotlib.style.use('ggplot')"
      ],
      "execution_count": 7,
      "outputs": []
    },
    {
      "cell_type": "markdown",
      "metadata": {
        "id": "h8JfspqJOBb_"
      },
      "source": [
        "Usaremos la librería `happybase` para python. La cargamos a continuación y hacemos la conexión."
      ]
    },
    {
      "cell_type": "code",
      "metadata": {
        "id": "IVq4QcNzOBcQ",
        "colab": {
          "base_uri": "https://localhost:8080/"
        },
        "outputId": "d83f3cb5-dbac-4933-a463-10d571b175a9"
      },
      "source": [
        "!pip install happybase"
      ],
      "execution_count": 8,
      "outputs": [
        {
          "output_type": "stream",
          "name": "stdout",
          "text": [
            "Collecting happybase\n",
            "  Downloading happybase-1.2.0.tar.gz (40 kB)\n",
            "\u001b[2K     \u001b[90m━━━━━━━━━━━━━━━━━━━━━━━━━━━━━━━━━━━━━━━━\u001b[0m \u001b[32m40.5/40.5 kB\u001b[0m \u001b[31m371.7 kB/s\u001b[0m eta \u001b[36m0:00:00\u001b[0m\n",
            "\u001b[?25h  Preparing metadata (setup.py) ... \u001b[?25l\u001b[?25hdone\n",
            "Requirement already satisfied: six in /usr/local/lib/python3.10/dist-packages (from happybase) (1.16.0)\n",
            "Collecting thriftpy2>=0.4 (from happybase)\n",
            "  Downloading thriftpy2-0.4.17.tar.gz (519 kB)\n",
            "\u001b[2K     \u001b[90m━━━━━━━━━━━━━━━━━━━━━━━━━━━━━━━━━━━━━━━━\u001b[0m \u001b[32m519.4/519.4 kB\u001b[0m \u001b[31m6.9 MB/s\u001b[0m eta \u001b[36m0:00:00\u001b[0m\n",
            "\u001b[?25h  Installing build dependencies ... \u001b[?25l\u001b[?25hdone\n",
            "  Getting requirements to build wheel ... \u001b[?25l\u001b[?25hdone\n",
            "  Installing backend dependencies ... \u001b[?25l\u001b[?25hdone\n",
            "  Preparing metadata (pyproject.toml) ... \u001b[?25l\u001b[?25hdone\n",
            "Collecting ply<4.0,>=3.4 (from thriftpy2>=0.4->happybase)\n",
            "  Downloading ply-3.11-py2.py3-none-any.whl (49 kB)\n",
            "\u001b[2K     \u001b[90m━━━━━━━━━━━━━━━━━━━━━━━━━━━━━━━━━━━━━━━━\u001b[0m \u001b[32m49.6/49.6 kB\u001b[0m \u001b[31m5.3 MB/s\u001b[0m eta \u001b[36m0:00:00\u001b[0m\n",
            "\u001b[?25hBuilding wheels for collected packages: happybase, thriftpy2\n",
            "  Building wheel for happybase (setup.py) ... \u001b[?25l\u001b[?25hdone\n",
            "  Created wheel for happybase: filename=happybase-1.2.0-py2.py3-none-any.whl size=26602 sha256=6f4deb0c7ac298fec0eb0df528dd353d9f5eefae3a1ebca32e1c9105004dd3d4\n",
            "  Stored in directory: /root/.cache/pip/wheels/95/d9/40/aef1e677ca6b53d419ead4f533d2a44198a1ce0b7b36b2437f\n",
            "  Building wheel for thriftpy2 (pyproject.toml) ... \u001b[?25l\u001b[?25hdone\n",
            "  Created wheel for thriftpy2: filename=thriftpy2-0.4.17-cp310-cp310-linux_x86_64.whl size=1382276 sha256=ace45c8a987981626cb35bc3147eea61c031368f482e15ec680b9ebd389f2f37\n",
            "  Stored in directory: /root/.cache/pip/wheels/b3/ca/c1/bd8e4cd94145e4e79882fdf705ca021a7a7632248ce6d1d4f4\n",
            "Successfully built happybase thriftpy2\n",
            "Installing collected packages: ply, thriftpy2, happybase\n",
            "Successfully installed happybase-1.2.0 ply-3.11 thriftpy2-0.4.17\n"
          ]
        }
      ]
    },
    {
      "cell_type": "code",
      "metadata": {
        "id": "PP5jW7W0IWrF"
      },
      "source": [
        "import gzip\n",
        "from urllib.request import Request,urlopen\n",
        "import io\n",
        "import os\n",
        "import os.path as path\n",
        "\n",
        "def download_csv(baseurl, filename):\n",
        "    file = path.abspath(path.join(os.getcwd(),filename))\n",
        "    request = Request(baseurl + '/' + filename+'.gz?raw=true')\n",
        "    response = urlopen(request)\n",
        "    buf = io.BytesIO(response.read())\n",
        "    f = gzip.GzipFile(fileobj=buf)\n",
        "    data = f.read()\n",
        "    with open (filename, 'wb') as ff:\n",
        "      ff.write(data)\n",
        "\n",
        "baseurl = 'https://github.com/dsevilla/bdge-data/blob/master/es.stackoverflow/'\n",
        "download_csv(baseurl, 'Posts.csv')\n",
        "download_csv(baseurl, 'Users.csv')\n",
        "download_csv(baseurl, 'Tags.csv')\n",
        "download_csv(baseurl, 'Comments.csv')\n",
        "download_csv(baseurl, 'Votes.csv')"
      ],
      "execution_count": 9,
      "outputs": []
    },
    {
      "cell_type": "code",
      "metadata": {
        "id": "VnqPwDMR7ywp"
      },
      "source": [
        "import happybase\n",
        "from contextlib import contextmanager\n",
        "\n",
        "HBASEHOST = 'localhost'\n",
        "\n",
        "class Connection():\n",
        "\n",
        "    def __init__(self, host):\n",
        "        self.host = host\n",
        "        self._genpool()\n",
        "\n",
        "    def _genpool(self):\n",
        "        self.pool = happybase.ConnectionPool(size=5, host=self.host)\n",
        "\n",
        "    @contextmanager\n",
        "    def connection(self):\n",
        "        for _ in range(5): # Probar 5 veces a regenerar el pool\n",
        "            for _ in range(5): # Probar 5 veces a conectar\n",
        "                with self.pool.connection() as connection:\n",
        "                    try:\n",
        "                        connection.tables()\n",
        "                        yield connection\n",
        "                        return\n",
        "                    except Exception as e:\n",
        "                        pass\n",
        "            self._genpool()\n",
        "        raise Exception(\"HBase Connection Error\")"
      ],
      "execution_count": 10,
      "outputs": []
    },
    {
      "cell_type": "code",
      "metadata": {
        "id": "T8CWSFZa7yw7"
      },
      "source": [
        "hbasecon = Connection(HBASEHOST)"
      ],
      "execution_count": 11,
      "outputs": []
    },
    {
      "cell_type": "code",
      "metadata": {
        "id": "30jYcJud7yxF",
        "colab": {
          "base_uri": "https://localhost:8080/"
        },
        "outputId": "31268778-2307-4d62-98ff-34cf77358628"
      },
      "source": [
        "with hbasecon.connection() as connection:\n",
        "    print(connection.tables())"
      ],
      "execution_count": 12,
      "outputs": [
        {
          "output_type": "stream",
          "name": "stdout",
          "text": [
            "[]\n"
          ]
        }
      ]
    },
    {
      "cell_type": "markdown",
      "metadata": {
        "id": "GT37NUcY7yxQ"
      },
      "source": [
        "Para la carga inicial, vamos a crear todas las tablas con una única familia de columnas, `rawdata`, donde meteremos toda la información _raw_ comprimida. Después podremos hacer reorganizaciones de los datos para hacer el acceso más eficiente. Es una de las muchas ventajas de no tener un esquema."
      ]
    },
    {
      "cell_type": "code",
      "metadata": {
        "id": "DLLkGnnQ7yxR",
        "colab": {
          "base_uri": "https://localhost:8080/"
        },
        "outputId": "687c046c-6c57-41a9-d208-f2444aa35151"
      },
      "source": [
        "# Create tables\n",
        "tables = ['posts', 'votes', 'users', 'tags', 'comments']\n",
        "for t in tables:\n",
        "    try:\n",
        "        with hbasecon.connection() as connection:\n",
        "            connection.create_table(\n",
        "                t,\n",
        "                {\n",
        "                    'rawdata': dict(max_versions=1,compression='GZ')\n",
        "                })\n",
        "    except Exception as e:\n",
        "        print(\"Database already exists: {0}. {1}\".format(t, e))\n",
        "        pass\n",
        "with hbasecon.connection() as connection:\n",
        "    print(connection.tables())"
      ],
      "execution_count": 13,
      "outputs": [
        {
          "output_type": "stream",
          "name": "stdout",
          "text": [
            "[b'comments', b'posts', b'tags', b'users', b'votes']\n"
          ]
        }
      ]
    },
    {
      "cell_type": "markdown",
      "metadata": {
        "id": "Y07GxAB77yxX"
      },
      "source": [
        "El código de importación es siempre el mismo, ya que se coge la primera fila del CSV que contiene el nombre de las columnas y se utiliza para generar nombres de columnas dentro de la familia de columnas dada como parámetro. La función `csv_to_hbase()` acepta un fichero CSV a abrir, un nombre de tabla y una familia de columnas donde agregar las columnas del fichero CSV. En nuestro caso siempre va a ser `rawdata`."
      ]
    },
    {
      "cell_type": "code",
      "metadata": {
        "id": "1dAKqxpH7yxZ"
      },
      "source": [
        "import csv\n",
        "\n",
        "def csv_to_hbase(file, tablename, column_family):\n",
        "    with hbasecon.connection() as connection, open(file) as f:\n",
        "        table = connection.table(tablename)\n",
        "\n",
        "        # La llamada csv.reader() crea un iterador sobre un fichero CSV\n",
        "        reader = csv.reader(f, dialect='excel')\n",
        "\n",
        "        # Se leen las columnas. Sus nombres se usarán para crear las diferentes columnas en la familia\n",
        "        columns = next(reader)\n",
        "        columns = [column_family + ':' + c for c in columns]\n",
        "\n",
        "        with table.batch(batch_size=500) as b:\n",
        "            for row in reader:\n",
        "                # La primera columna se usará como Row Key\n",
        "                b.put(row[0], dict(zip(columns, row)))"
      ],
      "execution_count": 14,
      "outputs": []
    },
    {
      "cell_type": "code",
      "metadata": {
        "id": "3mkoAxWY7yxg",
        "colab": {
          "base_uri": "https://localhost:8080/"
        },
        "outputId": "b6c31258-41dc-420b-e595-15ca17d43227"
      },
      "source": [
        "for t in tables:\n",
        "    print(\"Importando tabla {0}...\".format(t))\n",
        "    %time csv_to_hbase(t.capitalize() + '.csv', t, 'rawdata')"
      ],
      "execution_count": 15,
      "outputs": [
        {
          "output_type": "stream",
          "name": "stdout",
          "text": [
            "Importando tabla posts...\n",
            "CPU times: user 10.2 s, sys: 425 ms, total: 10.6 s\n",
            "Wall time: 40.8 s\n",
            "Importando tabla votes...\n",
            "CPU times: user 4.55 s, sys: 136 ms, total: 4.68 s\n",
            "Wall time: 15.1 s\n",
            "Importando tabla users...\n",
            "CPU times: user 3.22 s, sys: 82.6 ms, total: 3.3 s\n",
            "Wall time: 10.7 s\n",
            "Importando tabla tags...\n",
            "CPU times: user 50.3 ms, sys: 943 µs, total: 51.3 ms\n",
            "Wall time: 182 ms\n",
            "Importando tabla comments...\n",
            "CPU times: user 3.93 s, sys: 121 ms, total: 4.05 s\n",
            "Wall time: 11.3 s\n"
          ]
        }
      ]
    },
    {
      "cell_type": "markdown",
      "metadata": {
        "id": "JRlhb2x17yxo"
      },
      "source": [
        "### Consultas sencillas desde Python\n",
        "\n",
        "A continuación veremos algunas consultas sencillas desde python usando el API de `happybase`."
      ]
    },
    {
      "cell_type": "code",
      "metadata": {
        "id": "AbUFk3zV7yxq"
      },
      "source": [
        "def posts():\n",
        "  with hbasecon.connection() as connection:\n",
        "    return connection.table('posts')"
      ],
      "execution_count": 16,
      "outputs": []
    },
    {
      "cell_type": "markdown",
      "metadata": {
        "id": "72e7fcjE7yxz"
      },
      "source": [
        "Obtener el Post con `Id` 5. La orden más sencilla e inmediata de HBase es obtener una fila, opcionalmente limitando las columnas a mostrar:"
      ]
    },
    {
      "cell_type": "code",
      "metadata": {
        "id": "1Wii2xrl7yx2",
        "colab": {
          "base_uri": "https://localhost:8080/"
        },
        "outputId": "e602b00d-e705-4040-e75f-194b7210180f"
      },
      "source": [
        "posts().row(b'5',columns=[b'rawdata:Body'])"
      ],
      "execution_count": 17,
      "outputs": [
        {
          "output_type": "execute_result",
          "data": {
            "text/plain": [
              "{b'rawdata:Body': b'<p>\\xc2\\xbfCu\\xc3\\xa1l es la forma m\\xc3\\xa1s eficiente de separar un string en <code>c++</code>? como el que se muestra en el c\\xc3\\xb3digo, el cual contiene espacios entre las palabras, este es el m\\xc3\\xa9todo que yo estoy usando actualmente.</p><br/><br/><pre><code>#include <iostream><br/>#include <sstream><br/><br/>int main(int argc, char** argv){<br/><br/>    std::string str(\"Texto para dividir\");<br/>    std::istringstream isstream(str);<br/><br/>    while(!isstream.eof()){<br/><br/>        std::string tempStr;<br/><br/>        isstream >> tempStr;<br/><br/>        std::cout << tempStr << std::endl;<br/>    }<br/><br/>    return 0;<br/>}<br/></code></pre><br/>'}"
            ]
          },
          "metadata": {},
          "execution_count": 17
        }
      ]
    },
    {
      "cell_type": "markdown",
      "metadata": {
        "id": "I_AL9JlL7yyB"
      },
      "source": [
        "El siguiente código permite mostrar de forma amigable las tablas extraídas de la base de datos en forma de diccionario:"
      ]
    },
    {
      "cell_type": "code",
      "metadata": {
        "id": "4ZfMeUZv7yyD"
      },
      "source": [
        "# http://stackoverflow.com/a/30525061/62365\n",
        "class DictTable(dict):\n",
        "    # Overridden dict class which takes a dict in the form {'a': 2, 'b': 3},\n",
        "    # and renders an HTML Table in IPython Notebook.\n",
        "    def _repr_html_(self):\n",
        "        htmltext = [\"<table width=100%>\"]\n",
        "        for key, value in self.items():\n",
        "            htmltext.append(\"<tr>\")\n",
        "            htmltext.append(\"<td>{0}</td>\".format(key.decode('utf-8')))\n",
        "            htmltext.append(\"<td>{0}</td>\".format(value.decode('utf-8')))\n",
        "            htmltext.append(\"</tr>\")\n",
        "        htmltext.append(\"</table>\")\n",
        "        return ''.join(htmltext)"
      ],
      "execution_count": 18,
      "outputs": []
    },
    {
      "cell_type": "code",
      "metadata": {
        "scrolled": true,
        "id": "OTKDiVrr7yyN",
        "colab": {
          "base_uri": "https://localhost:8080/",
          "height": 862
        },
        "outputId": "2cad820a-cb2e-4d3d-ee8b-b557869e940a"
      },
      "source": [
        "# Muestra cómo queda la fila del Id del Post 9997\n",
        "DictTable(posts().row(b'5'))"
      ],
      "execution_count": 19,
      "outputs": [
        {
          "output_type": "execute_result",
          "data": {
            "text/plain": [
              "{b'rawdata:AcceptedAnswerId': b'208',\n",
              " b'rawdata:AnswerCount': b'6',\n",
              " b'rawdata:Body': b'<p>\\xc2\\xbfCu\\xc3\\xa1l es la forma m\\xc3\\xa1s eficiente de separar un string en <code>c++</code>? como el que se muestra en el c\\xc3\\xb3digo, el cual contiene espacios entre las palabras, este es el m\\xc3\\xa9todo que yo estoy usando actualmente.</p><br/><br/><pre><code>#include <iostream><br/>#include <sstream><br/><br/>int main(int argc, char** argv){<br/><br/>    std::string str(\"Texto para dividir\");<br/>    std::istringstream isstream(str);<br/><br/>    while(!isstream.eof()){<br/><br/>        std::string tempStr;<br/><br/>        isstream >> tempStr;<br/><br/>        std::cout << tempStr << std::endl;<br/>    }<br/><br/>    return 0;<br/>}<br/></code></pre><br/>',\n",
              " b'rawdata:ClosedDate': b'',\n",
              " b'rawdata:CommentCount': b'1',\n",
              " b'rawdata:CommunityOwnedDate': b'',\n",
              " b'rawdata:CreationDate': b'2015-10-30T01:15:27.267',\n",
              " b'rawdata:FavoriteCount': b'',\n",
              " b'rawdata:Id': b'5',\n",
              " b'rawdata:LastActivityDate': b'2017-03-04T04:16:19.167',\n",
              " b'rawdata:LastEditDate': b'2016-09-27T17:46:24.900',\n",
              " b'rawdata:LastEditorDisplayName': b'',\n",
              " b'rawdata:LastEditorUserId': b'729',\n",
              " b'rawdata:OwnerDisplayName': b'',\n",
              " b'rawdata:OwnerUserId': b'24',\n",
              " b'rawdata:ParentId': b'',\n",
              " b'rawdata:PostTypeId': b'1',\n",
              " b'rawdata:Score': b'19',\n",
              " b'rawdata:Tags': b'<c++><string>',\n",
              " b'rawdata:Title': b\"\\xc2\\xbfC\\xc3\\xb3mo separar las palabras que contiene un string en C++? 'Split '\",\n",
              " b'rawdata:ViewCount': b'7231'}"
            ],
            "text/html": [
              "<table width=100%><tr><td>rawdata:AcceptedAnswerId</td><td>208</td></tr><tr><td>rawdata:AnswerCount</td><td>6</td></tr><tr><td>rawdata:Body</td><td><p>¿Cuál es la forma más eficiente de separar un string en <code>c++</code>? como el que se muestra en el código, el cual contiene espacios entre las palabras, este es el método que yo estoy usando actualmente.</p><br/><br/><pre><code>#include <iostream><br/>#include <sstream><br/><br/>int main(int argc, char** argv){<br/><br/>    std::string str(\"Texto para dividir\");<br/>    std::istringstream isstream(str);<br/><br/>    while(!isstream.eof()){<br/><br/>        std::string tempStr;<br/><br/>        isstream >> tempStr;<br/><br/>        std::cout << tempStr << std::endl;<br/>    }<br/><br/>    return 0;<br/>}<br/></code></pre><br/></td></tr><tr><td>rawdata:ClosedDate</td><td></td></tr><tr><td>rawdata:CommentCount</td><td>1</td></tr><tr><td>rawdata:CommunityOwnedDate</td><td></td></tr><tr><td>rawdata:CreationDate</td><td>2015-10-30T01:15:27.267</td></tr><tr><td>rawdata:FavoriteCount</td><td></td></tr><tr><td>rawdata:Id</td><td>5</td></tr><tr><td>rawdata:LastActivityDate</td><td>2017-03-04T04:16:19.167</td></tr><tr><td>rawdata:LastEditDate</td><td>2016-09-27T17:46:24.900</td></tr><tr><td>rawdata:LastEditorDisplayName</td><td></td></tr><tr><td>rawdata:LastEditorUserId</td><td>729</td></tr><tr><td>rawdata:OwnerDisplayName</td><td></td></tr><tr><td>rawdata:OwnerUserId</td><td>24</td></tr><tr><td>rawdata:ParentId</td><td></td></tr><tr><td>rawdata:PostTypeId</td><td>1</td></tr><tr><td>rawdata:Score</td><td>19</td></tr><tr><td>rawdata:Tags</td><td><c++><string></td></tr><tr><td>rawdata:Title</td><td>¿Cómo separar las palabras que contiene un string en C++? 'Split '</td></tr><tr><td>rawdata:ViewCount</td><td>7231</td></tr></table>"
            ]
          },
          "metadata": {},
          "execution_count": 19
        }
      ]
    },
    {
      "cell_type": "code",
      "metadata": {
        "id": "ydnhHy9r7yyT",
        "colab": {
          "base_uri": "https://localhost:8080/",
          "height": 62
        },
        "outputId": "aa5d9760-15be-4a13-f613-071539888707"
      },
      "source": [
        "DictTable(posts().row(b'5',columns=[b'rawdata:AnswerCount',b'rawdata:AcceptedAnswerId']))"
      ],
      "execution_count": 20,
      "outputs": [
        {
          "output_type": "execute_result",
          "data": {
            "text/plain": [
              "{b'rawdata:AcceptedAnswerId': b'208', b'rawdata:AnswerCount': b'6'}"
            ],
            "text/html": [
              "<table width=100%><tr><td>rawdata:AcceptedAnswerId</td><td>208</td></tr><tr><td>rawdata:AnswerCount</td><td>6</td></tr></table>"
            ]
          },
          "metadata": {},
          "execution_count": 20
        }
      ]
    },
    {
      "cell_type": "markdown",
      "metadata": {
        "id": "GciY3L4X7yyb"
      },
      "source": [
        "Y también se puede recorrer como un diccionario normal (el `decode` se utiliza para convertir los valores binarios de la base de datos a una codificación UTF-8):"
      ]
    },
    {
      "cell_type": "code",
      "metadata": {
        "id": "h1Iit47u7yyd",
        "colab": {
          "base_uri": "https://localhost:8080/"
        },
        "outputId": "c499c3bd-dd00-4983-8b51-06ec08d74270"
      },
      "source": [
        "row = posts().row(b'5')\n",
        "for key, value in row.items():\n",
        "    print(\"Key = '%s', Value = '%s'\" %(key,value.decode('utf-8')[:40]))"
      ],
      "execution_count": 21,
      "outputs": [
        {
          "output_type": "stream",
          "name": "stdout",
          "text": [
            "Key = 'b'rawdata:AcceptedAnswerId'', Value = '208'\n",
            "Key = 'b'rawdata:AnswerCount'', Value = '6'\n",
            "Key = 'b'rawdata:Body'', Value = '<p>¿Cuál es la forma más eficiente de se'\n",
            "Key = 'b'rawdata:ClosedDate'', Value = ''\n",
            "Key = 'b'rawdata:CommentCount'', Value = '1'\n",
            "Key = 'b'rawdata:CommunityOwnedDate'', Value = ''\n",
            "Key = 'b'rawdata:CreationDate'', Value = '2015-10-30T01:15:27.267'\n",
            "Key = 'b'rawdata:FavoriteCount'', Value = ''\n",
            "Key = 'b'rawdata:Id'', Value = '5'\n",
            "Key = 'b'rawdata:LastActivityDate'', Value = '2017-03-04T04:16:19.167'\n",
            "Key = 'b'rawdata:LastEditDate'', Value = '2016-09-27T17:46:24.900'\n",
            "Key = 'b'rawdata:LastEditorDisplayName'', Value = ''\n",
            "Key = 'b'rawdata:LastEditorUserId'', Value = '729'\n",
            "Key = 'b'rawdata:OwnerDisplayName'', Value = ''\n",
            "Key = 'b'rawdata:OwnerUserId'', Value = '24'\n",
            "Key = 'b'rawdata:ParentId'', Value = ''\n",
            "Key = 'b'rawdata:PostTypeId'', Value = '1'\n",
            "Key = 'b'rawdata:Score'', Value = '19'\n",
            "Key = 'b'rawdata:Tags'', Value = '<c++><string>'\n",
            "Key = 'b'rawdata:Title'', Value = '¿Cómo separar las palabras que contiene '\n",
            "Key = 'b'rawdata:ViewCount'', Value = '7231'\n"
          ]
        }
      ]
    },
    {
      "cell_type": "markdown",
      "metadata": {
        "id": "n9_FOwMZ7yyi"
      },
      "source": [
        "Finalmente, también se puede recorrer toda la tabla estableciendo filtros, que se estudiarán después. Se utiliza la función `scan`. Se puede iterar con los parámetros `key` y `data`. Por ejemplo, calcular el tamaño máximo de la longitud del texto de los posts:\n",
        "\n",
        "**(OJO, es un ejemplo, no se debería hacer así)**"
      ]
    },
    {
      "cell_type": "code",
      "metadata": {
        "id": "akRUvI4g7yyj",
        "colab": {
          "base_uri": "https://localhost:8080/"
        },
        "outputId": "033232b6-4156-4a85-d45d-7e361b2ede55"
      },
      "source": [
        "max_len = 0\n",
        "for key, data in posts().scan(columns=[b'rawdata:Body']):\n",
        "    cur_len = len(data[b'rawdata:Body'])\n",
        "    if cur_len > max_len:\n",
        "        max_len = cur_len\n",
        "\n",
        "print(\"Máxima longitud: %s caracteres.\" % (max_len))"
      ],
      "execution_count": 22,
      "outputs": [
        {
          "output_type": "stream",
          "name": "stdout",
          "text": [
            "Máxima longitud: 38200 caracteres.\n"
          ]
        }
      ]
    },
    {
      "cell_type": "markdown",
      "metadata": {
        "id": "nGVT2PjD7yyp"
      },
      "source": [
        "### Construcción de estructuras anidadas\n",
        "\n",
        "Al igual que pasaba con MongoDB, las bases de datos NoSQL como en este caso HBase permiten almacenar estructuras de datos complejas. En nuestro caso vamos a agregar los comentarios de cada pregunta o respuesta (post) en columnas del mismo. Para ello, creamos una nueva familia de columnas `comments`.\n",
        "\n",
        "HBase es bueno para añadir columnas sencillas, por ejemplo que contengan un valor. Sin embargo, si queremos añadir objetos complejos, tenemos que jugar con la codificación de la familia de columnas y columna.\n",
        "\n",
        "Usaremos el shell porque `happybase` no permite alterar tablas ya creadas.\n",
        "\n",
        "En el `shell` de HBase pondremos lo siguiente:\n",
        "\n",
        "```\n",
        "disable 'posts'\n",
        "alter 'posts', {NAME => 'comments', VERSIONS => 1}\n",
        "enable 'posts'\n",
        "```\n",
        "\n",
        "Cada comentario que añadimos contiene, al menos:\n",
        "\n",
        "- un id único\n",
        "- un texto\n",
        "- un autor\n",
        "- etc.\n",
        "\n",
        "¿Cómo se consigue meterlo en una única familia de columnas?\n",
        "\n",
        "Hay varias formas. La que usaremos aquí, añadiremos el **id** de cada comentario como parte del nombre de la columna. Por ejemplo, el comentario con Id 2000, generará las columnas:\n",
        "\n",
        "- `Id_2000` (valor 2000)\n",
        "- `UserId_2000`\n",
        "- `PostId_2000`\n",
        "- `Text_2000`\n",
        "\n",
        "con sus correspondientes valores. Así, todos los datos relativos al comentario con Id original 2000, estarán almacenados en todas las columnas que terminen en \"`_2000`\". La base de datos permite implementar filtros que nos permiten buscar esto de forma muy sencilla. Los veremos después."
      ]
    },
    {
      "cell_type": "code",
      "metadata": {
        "id": "d1H07CoYEtst",
        "colab": {
          "base_uri": "https://localhost:8080/"
        },
        "outputId": "13b5fc6b-3620-46ea-f61c-96b5c9c66c16"
      },
      "source": [
        "%%bash\n",
        "\n",
        "cat <<EOF | hbase-$HBASE_VERSION/bin/hbase shell\n",
        "disable 'posts'\n",
        "alter 'posts', {NAME => 'comments', VERSIONS => 1}\n",
        "enable 'posts'\n",
        "exit\n",
        "EOF"
      ],
      "execution_count": 23,
      "outputs": [
        {
          "output_type": "stream",
          "name": "stdout",
          "text": [
            "HBase Shell\n",
            "Use \"help\" to get list of supported commands.\n",
            "Use \"exit\" to quit this interactive shell.\n",
            "For Reference, please visit: http://hbase.apache.org/2.0/book.html#shell\n",
            "Version 2.5.6, r6bac842797dc26bedb7adc0759358e4c8fd5a992, Sat Oct 14 23:36:46 PDT 2023\n",
            "Took 0.0033 seconds\n",
            "hbase:001:0> disable 'posts'\n",
            "Took 3.1200 seconds\n",
            "hbase:002:0> alter 'posts', {NAME => 'comments', VERSIONS => 1}\n",
            "Updating all regions with the new schema...\n",
            "All regions updated.\n",
            "Done.\n",
            "Took 1.3996 seconds\n",
            "hbase:003:0> enable 'posts'\n",
            "Took 0.7185 seconds\n",
            "hbase:004:0> exit\n"
          ]
        }
      ]
    },
    {
      "cell_type": "code",
      "metadata": {
        "id": "VEc-wiyP7yyr"
      },
      "source": [
        "with hbasecon.connection() as connection:\n",
        "    comments = connection.table('comments')\n",
        "    posts = connection.table('posts')\n",
        "\n",
        "    with posts.batch(batch_size=500) as bp:\n",
        "        # Hacer un scan de la tabla\n",
        "        for key, data in comments.scan():\n",
        "            comment = {'comments:' +\n",
        "                       d.decode('utf-8').split(':')[1] + \"_\" +\n",
        "                       key.decode('utf-8') :\n",
        "                       data[d] for d in data.keys()}\n",
        "            bp.put(data[b'rawdata:PostId'], comment)"
      ],
      "execution_count": 24,
      "outputs": []
    },
    {
      "cell_type": "code",
      "metadata": {
        "id": "8yNVgVH6FRBI"
      },
      "source": [
        "download_csv('https://github.com/dsevilla/bdge-data/blob/master/wikipedia/','eswiki.xml')"
      ],
      "execution_count": 25,
      "outputs": []
    },
    {
      "cell_type": "markdown",
      "metadata": {
        "id": "yoDUWrB77yy1"
      },
      "source": [
        "Se crea la tabla para albergar la `wikipedia`. Igual que la vista en teoría, pero aquí se usa `wikipedia` en vez de `wiki` para que no colisionen la versión completa con la reducida."
      ]
    },
    {
      "cell_type": "markdown",
      "metadata": {
        "id": "UgKuiEMQ7yy2"
      },
      "source": [
        "De nuevo en el `shell` de HBase:\n",
        "\n",
        "```\n",
        "create 'wikipedia' , 'text', 'revision'\n",
        "disable 'wikipedia' # Para evitar su uso temporal\n",
        "alter 'wikipedia' , { NAME => 'text', VERSIONS => org.apache.hadoop.hbase.HConstants::ALL_VERSIONS }\n",
        "alter 'wikipedia' , { NAME => 'revision', VERSIONS => org.apache.hadoop.hbase.HConstants::ALL_VERSIONS }\n",
        "alter 'wikipedia' , { NAME => 'text', COMPRESSION => 'GZ', BLOOMFILTER => 'ROW'}\n",
        "enable 'wikipedia'\n",
        "```"
      ]
    },
    {
      "cell_type": "code",
      "metadata": {
        "id": "rAckssUxE-vu",
        "colab": {
          "base_uri": "https://localhost:8080/"
        },
        "outputId": "c08f0fea-70ec-48b6-e375-d4de83c702cf"
      },
      "source": [
        "%%bash\n",
        "\n",
        "cat <<EOF | hbase-$HBASE_VERSION/bin/hbase shell\n",
        "create 'wikipedia' , 'text', 'revision'\n",
        "disable 'wikipedia' # Para evitar su uso temporal\n",
        "alter 'wikipedia' , { NAME => 'text', VERSIONS => org.apache.hadoop.hbase.HConstants::ALL_VERSIONS }\n",
        "alter 'wikipedia' , { NAME => 'revision', VERSIONS => org.apache.hadoop.hbase.HConstants::ALL_VERSIONS }\n",
        "alter 'wikipedia' , { NAME => 'text', COMPRESSION => 'GZ', BLOOMFILTER => 'ROW'}\n",
        "enable 'wikipedia'\n",
        "exit\n",
        "EOF"
      ],
      "execution_count": 26,
      "outputs": [
        {
          "output_type": "stream",
          "name": "stdout",
          "text": [
            "HBase Shell\n",
            "Use \"help\" to get list of supported commands.\n",
            "Use \"exit\" to quit this interactive shell.\n",
            "For Reference, please visit: http://hbase.apache.org/2.0/book.html#shell\n",
            "Version 2.5.6, r6bac842797dc26bedb7adc0759358e4c8fd5a992, Sat Oct 14 23:36:46 PDT 2023\n",
            "Took 0.0032 seconds\n",
            "hbase:001:0> create 'wikipedia' , 'text', 'revision'\n",
            "Created table wikipedia\n",
            "Took 1.8151 seconds\n",
            "=> Hbase::Table - wikipedia\n",
            "hbase:002:0> disable 'wikipedia' # Para evitar su uso temporal\n",
            "Took 0.5271 seconds\n",
            "hbase:003:0> alter 'wikipedia' , { NAME => 'text', VERSIONS => org.apache.hadoop.hbase.HConstants::ALL_VERSIONS }\n",
            "Updating all regions with the new schema...\n",
            "All regions updated.\n",
            "Done.\n",
            "Took 1.2973 seconds\n",
            "hbase:004:0> alter 'wikipedia' , { NAME => 'revision', VERSIONS => org.apache.hadoop.hbase.HConstants::ALL_VERSIONS }\n",
            "Updating all regions with the new schema...\n",
            "All regions updated.\n",
            "Done.\n",
            "Took 1.0595 seconds\n",
            "hbase:005:0> alter 'wikipedia' , { NAME => 'text', COMPRESSION => 'GZ', BLOOMFILTER => 'ROW'}\n",
            "Updating all regions with the new schema...\n",
            "All regions updated.\n",
            "Done.\n",
            "Took 1.0696 seconds\n",
            "hbase:006:0> enable 'wikipedia'\n",
            "Took 0.6772 seconds\n",
            "hbase:007:0> exit\n"
          ]
        }
      ]
    },
    {
      "cell_type": "markdown",
      "metadata": {
        "id": "pMAdxKEs7yy3"
      },
      "source": [
        "Este código, visto en teoría, recorre el árbol XML construyendo documentos y llamando a la función `callback` con cada uno. Los documentos son diccionarios con las claves encontradas dentro de los tags `<page>...</page>`."
      ]
    },
    {
      "cell_type": "code",
      "metadata": {
        "id": "yhzpdKOs7yy4"
      },
      "source": [
        "import xml.sax\n",
        "import re\n",
        "\n",
        "class WikiHandler(xml.sax.handler.ContentHandler):\n",
        "\n",
        "    def __init__(self):\n",
        "        self._charBuffer = ''\n",
        "        self.document = {}\n",
        "\n",
        "    def _getCharacterData(self):\n",
        "        data = self._charBuffer\n",
        "        self._charBuffer = ''\n",
        "        return data\n",
        "\n",
        "    def parse(self, f, callback):\n",
        "        self.callback = callback\n",
        "        xml.sax.parse(f, self)\n",
        "\n",
        "    def characters(self, data):\n",
        "        self._charBuffer = self._charBuffer + data\n",
        "\n",
        "    def startElement(self, name, attrs):\n",
        "        if name == 'page':\n",
        "        # print 'Start of page'\n",
        "            self.document = {}\n",
        "        if re.match(r'title|timestamp|username|comment|text', name):\n",
        "            self._charBuffer = ''\n",
        "\n",
        "    def endElement(self, name):\n",
        "        if re.match(r'title|timestamp|username|comment|text', name):\n",
        "            self.document[name] = self._getCharacterData()\n",
        "            # print(name, ': ', self.document[name][:20])\n",
        "        if 'revision' == name:\n",
        "            self.callback(self.document)"
      ],
      "execution_count": 27,
      "outputs": []
    },
    {
      "cell_type": "markdown",
      "metadata": {
        "id": "WeJngcIN7yzA"
      },
      "source": [
        "El codigo a continuación, cada vez que el código anterior llama a la función `processdoc()` se añade un documento a la base de datos."
      ]
    },
    {
      "cell_type": "code",
      "metadata": {
        "id": "rJ199Q-57yzA"
      },
      "source": [
        "import time\n",
        "\n",
        "class FillWikiTable():\n",
        "    \"\"\"Llena la tabla Wiki\"\"\"\n",
        "    def __init__(self,connection):\n",
        "        # Conectar a la base de datos a través de Thrift\n",
        "        self.table = connection.table('wikipedia')\n",
        "\n",
        "    def run(_s):\n",
        "        def processdoc(d):\n",
        "            print(\"Callback called with {0}\".format(d['title']))\n",
        "            tuple_time = time.strptime(d['timestamp'], \"%Y-%m-%dT%H:%M:%SZ\")\n",
        "            timestamp = int(time.mktime(tuple_time))\n",
        "            _s.table.put(d['title'],\n",
        "                         {'text:': d.get('text',''),\n",
        "                          'revision:author': d.get('username',''),\n",
        "                          'revision:comment': d.get('comment','')},\n",
        "                         timestamp=timestamp)\n",
        "\n",
        "        with open('eswiki.xml','r') as f:\n",
        "            start = time.time()\n",
        "            WikiHandler().parse(f, processdoc)\n",
        "            end = time.time()\n",
        "            print (\"End adding documents. Time: %.5f\" % (end - start))"
      ],
      "execution_count": 28,
      "outputs": []
    },
    {
      "cell_type": "code",
      "metadata": {
        "id": "w4YtbHJv7yzI",
        "colab": {
          "base_uri": "https://localhost:8080/"
        },
        "outputId": "2ffdedef-713c-4718-dbc7-755858dc120b"
      },
      "source": [
        "with hbasecon.connection() as connection:\n",
        "    FillWikiTable(connection).run()"
      ],
      "execution_count": 29,
      "outputs": [
        {
          "output_type": "stream",
          "name": "stdout",
          "text": [
            "Callback called with Wikipedia:Artículos solicitados\n",
            "Callback called with Andorra\n",
            "Callback called with Argentina\n",
            "Callback called with Geografía de Andorra\n",
            "Callback called with Demografía de Andorra\n",
            "Callback called with Comunicaciones de Andorra\n",
            "Callback called with Artes visuales\n",
            "Callback called with Agricultura\n",
            "Callback called with Astronomía galáctica\n",
            "Callback called with ASCII\n",
            "Callback called with Arquitectura\n",
            "Callback called with Anoeta\n",
            "Callback called with Ana María Matute\n",
            "Callback called with Agujero negro\n",
            "Callback called with Anarquía\n",
            "Callback called with América del Norte\n",
            "Callback called with América del Sur\n",
            "Callback called with Asia\n",
            "Callback called with Año\n",
            "Callback called with Asaph Hall\n",
            "Callback called with Afganistán\n",
            "Callback called with Arqueología\n",
            "Callback called with Wikipedia:Anuncios\n",
            "Callback called with Commodore Amiga\n",
            "Callback called with Commodore Amiga 500\n",
            "Callback called with Francesc Aguilar Villalonga\n",
            "Callback called with Aquifoliaceae\n",
            "Callback called with Sapindaceae\n",
            "Callback called with Anacardiaceae\n",
            "Callback called with Autogiro\n",
            "Callback called with Albert Einstein\n",
            "Callback called with Araliales\n",
            "Callback called with Araliaceae\n",
            "Callback called with Apiaceae\n",
            "Callback called with Atmósfera de un cuerpo celeste\n",
            "Callback called with Archaeabacteria\n",
            "Callback called with Antipartícula\n",
            "Callback called with Araucariaceae\n",
            "Callback called with Arecidae\n",
            "Callback called with Ascomycota\n",
            "Callback called with Ajedrez\n",
            "Callback called with Aleksandr Beliavski\n",
            "Callback called with Aldehído\n",
            "Callback called with Alcaloide\n",
            "Callback called with Adeudo por domiciliación\n",
            "Callback called with Alfabeto griego\n",
            "Callback called with Circo\n",
            "Callback called with Año bisiesto\n",
            "Callback called with América\n",
            "Callback called with Agujero negro de Schwarzschild\n",
            "Callback called with Agujero negro de Einstein-Rosen\n",
            "Callback called with Agujero de gusano\n",
            "Callback called with Axón\n",
            "Callback called with Asteraceae\n",
            "Callback called with Alismataceae\n",
            "Callback called with Agavoideae\n",
            "Callback called with Amaryllidoideae\n",
            "Callback called with Aljarafe\n",
            "Callback called with Arecaceae\n",
            "Callback called with Araceae\n",
            "Callback called with Amperio\n",
            "Callback called with Antonio Vivaldi\n",
            "Callback called with Arthoniaceae\n",
            "Callback called with Astasia\n",
            "Callback called with Ada\n",
            "Callback called with Aromadendron\n",
            "Callback called with Alnus\n",
            "Callback called with Archaea\n",
            "Callback called with Allocasuarina\n",
            "Callback called with Alfaroa\n",
            "Callback called with Annamocarya sinensis\n",
            "Callback called with Alergia\n",
            "Callback called with Achmatherum\n",
            "Callback called with Aegilops\n",
            "Callback called with Aeluropus\n",
            "Callback called with Agropyron\n",
            "Callback called with Agrostis\n",
            "Callback called with Aira\n",
            "Callback called with Airopsis tenella\n",
            "Callback called with Alopecurus\n",
            "Callback called with Ammophila\n",
            "Callback called with Ampelodesmos\n",
            "Callback called with Andropogon\n",
            "Callback called with Anthoxanthum\n",
            "Callback called with Antinoria\n",
            "Callback called with Apera\n",
            "Callback called with Aristida\n",
            "Callback called with Arrhenatherum\n",
            "Callback called with Arundinaria\n",
            "Callback called with Arundo\n",
            "Callback called with Avellinia\n",
            "Callback called with Avena\n",
            "Callback called with Avenula blaui\n",
            "Callback called with Aciachne acicularis\n",
            "Callback called with Acroceras\n",
            "Callback called with Aegopogon\n",
            "Callback called with Anthephora\n",
            "Callback called with Arberella\n",
            "Callback called with AmigaOS\n",
            "Callback called with AGA\n",
            "Callback called with Sierra de Atapuerca\n",
            "Callback called with Arcoíris\n",
            "Callback called with Arte culinario\n",
            "Callback called with Alimento\n",
            "Callback called with Achlaena\n",
            "Callback called with Achneria\n",
            "Callback called with Achyrodes\n",
            "Callback called with Alvimia\n",
            "Callback called with Amphicarpum\n",
            "Callback called with Amphipogon\n",
            "Callback called with Avión\n",
            "Callback called with ALGOL\n",
            "Callback called with Wikipedia:Traducciones solicitadas\n",
            "Callback called with Alfabeto\n",
            "Callback called with Amstrad\n",
            "Callback called with Atlante\n",
            "Callback called with Anaximandro\n",
            "Callback called with Algoritmo de los códigos de redundancia cíclica\n",
            "Callback called with Algoritmo genético\n",
            "Callback called with Aniselytron\n",
            "Callback called with Apoclada simplex\n",
            "Callback called with Apocopis\n",
            "Callback called with Apogonia\n",
            "Callback called with Arctagrostis\n",
            "Callback called with Arthraxon\n",
            "Callback called with Arthrostylidium\n",
            "Callback called with Arundarbor\n",
            "Callback called with Arundinella\n",
            "Callback called with Arundoclaytonia\n",
            "Callback called with Atheropogon\n",
            "Callback called with Arthropogon\n",
            "Callback called with Atropis\n",
            "Callback called with Aulaxanthus\n",
            "Callback called with Aulonemia\n",
            "Callback called with Axonopus\n",
            "Callback called with Algoritmo\n",
            "Callback called with Automatic Repeat Request\n",
            "Callback called with Acarreo\n",
            "Callback called with Anaxímenes\n",
            "Callback called with Acamptoclados\n",
            "Callback called with Oware\n",
            "Callback called with Algoritmo de compresión con pérdida\n",
            "Callback called with Atlántida (desambiguación)\n",
            "Callback called with Alegoría\n",
            "Callback called with Aféresis (fonética)\n",
            "Callback called with Abreviatura\n",
            "Callback called with Acento léxico\n",
            "Callback called with Acróstico\n",
            "Callback called with Activa tantum\n",
            "Callback called with Caso acusativo\n",
            "Callback called with Adjetivo\n",
            "Callback called with Caso adlativo\n",
            "Callback called with Adstrato\n",
            "Callback called with Ala\n",
            "Callback called with Paisaje protegido de las Siete Lomas\n",
            "Callback called with AmigaDOS\n",
            "Callback called with Atletismo\n",
            "Callback called with Animalia\n",
            "Callback called with Autotrofo\n",
            "Callback called with Azalea\n",
            "Callback called with Acacia\n",
            "Callback called with Azur\n",
            "Callback called with Impatiens balsamina\n",
            "Callback called with Aldea\n",
            "Callback called with Anatomía\n",
            "Callback called with Anatomía humana\n",
            "Callback called with Arrianismo\n",
            "Callback called with Arte\n",
            "Callback called with Albania\n",
            "Callback called with Alemania\n",
            "Callback called with Angola\n",
            "Callback called with Antigua y Barbuda\n",
            "Callback called with Austria\n",
            "Callback called with Azerbaiyán\n",
            "Callback called with Anthony Quinn\n",
            "Callback called with Astronomía\n",
            "Callback called with Arte marcial\n",
            "Callback called with Antigüedad\n",
            "Callback called with Antigüedad clásica\n",
            "Callback called with Alquimia\n",
            "Callback called with Astrología\n",
            "Callback called with Asexual\n",
            "Callback called with Astorga\n",
            "Callback called with Alberta\n",
            "Callback called with Andalucía\n",
            "Callback called with Magnetorresistencia\n",
            "Callback called with Año 1900\n",
            "Callback called with Annonaceae\n",
            "Callback called with Advanced Interactive Executive\n",
            "Callback called with A fala\n",
            "Callback called with Astronomía infrarroja\n",
            "Callback called with Astronomía ultravioleta\n",
            "Callback called with Geografía de Alemania\n",
            "Callback called with Aquiles\n",
            "Callback called with Afrodita\n",
            "Callback called with Apolo\n",
            "Callback called with Actuación\n",
            "Callback called with Almedina\n",
            "Callback called with Atlas (desambiguación)\n",
            "Callback called with Albaida (Valencia)\n",
            "Callback called with Alicante\n",
            "Callback called with Agricultura ecológica\n",
            "Callback called with AtheOS\n",
            "Callback called with Automovilismo\n",
            "Callback called with Acrobatidae\n",
            "Callback called with Axiología\n",
            "Callback called with Actual rey de Francia\n",
            "Callback called with Adventismo\n",
            "Callback called with Adventista\n",
            "Callback called with Wikipedia:Bienvenidos\n",
            "Callback called with Batista (tejido)\n",
            "Callback called with Bonsái\n",
            "Callback called with Barión\n",
            "Callback called with Budismo\n",
            "Callback called with Big bang\n",
            "Callback called with Provincia de Burgos\n",
            "Callback called with Botánica\n",
            "Callback called with Bosón\n",
            "Callback called with Botánica pura\n",
            "Callback called with Botánica general\n",
            "Callback called with Botánica aplicada\n",
            "Callback called with Botánica especial\n",
            "Callback called with Botánica Sistemática\n",
            "Callback called with Brassicaceae\n",
            "Callback called with Begoniaceae\n",
            "Callback called with Bombacaceae\n",
            "Callback called with Bomba lógica\n",
            "Callback called with Bioquímica\n",
            "Callback called with Balanophoraceae\n",
            "Callback called with Buxaceae\n",
            "Callback called with Bases de Datos\n",
            "Callback called with Barias\n",
            "Callback called with Balsaminaceae\n",
            "Callback called with Baricentro\n",
            "Callback called with Baria\n",
            "Callback called with Bar (desambiguación)\n",
            "Callback called with Bosón de Higgs\n",
            "Callback called with Lámina beta\n",
            "Callback called with Bálsamo\n",
            "Callback called with Bernal Díaz del Castillo\n",
            "Callback called with Butomaceae\n",
            "Callback called with Base de datos\n",
            "Callback called with Betulaceae\n",
            "Callback called with Bellardiochloa\n",
            "Callback called with Brachiaria\n",
            "Callback called with Brachypodium\n",
            "Callback called with Bromus\n",
            "Callback called with Bambuseae\n",
            "Callback called with Baloncesto\n",
            "Callback called with BASIC\n",
            "Callback called with Bit\n",
            "Callback called with Blues\n",
            "Callback called with Borra\n",
            "Callback called with Bill Gates\n",
            "Callback called with Bit de redundancia\n",
            "Callback called with Beckera\n",
            "Callback called with Berghausia\n",
            "Callback called with Bothriochloa\n",
            "Callback called with Bouteloua\n",
            "Callback called with Bromidium\n",
            "Callback called with Brachyelytrum\n",
            "Callback called with Barcelona\n",
            "Callback called with BIOS\n",
            "Callback called with Barrapunto\n",
            "Callback called with Bougainvillea\n",
            "Callback called with Basílica de San Isidoro de León\n",
            "Callback called with Biblia\n",
            "Callback called with Biología molecular\n",
            "Callback called with Biblioteca\n",
            "Callback called with Casco Antiguo de León\n",
            "Callback called with Brasil\n",
            "Callback called with Evangelio de Lucas\n",
            "Callback called with Beethoven\n",
            "Callback called with Vergara\n",
            "Callback called with Bomba hidráulica\n",
            "Callback called with Bandera\n",
            "Callback called with Bellerophon\n",
            "Callback called with Bodhisattva\n",
            "Callback called with Billy Wilder\n",
            "Callback called with Buda\n",
            "Callback called with Bolero ranchero\n",
            "Callback called with Bacteria\n",
            "Callback called with Burramyidae\n",
            "Callback called with Ayuda:Cómo se edita una página\n",
            "Callback called with Ayuda:Cómo empezar una página\n",
            "Callback called with Wikipedia:Cómo Debe Llamarse La HomePage\n",
            "Callback called with Constelación\n",
            "Callback called with Cristalografia\n",
            "Callback called with Caliz\n",
            "Callback called with Corola\n",
            "Callback called with Caramelo\n",
            "Callback called with Provincia de Cádiz\n",
            "Callback called with Cracker\n",
            "Callback called with Crack\n",
            "Callback called with Organización Europea para la Investigación Nuclear\n",
            "Callback called with Colombia\n",
            "Callback called with Comunicación (desambiguación)\n",
            "Callback called with Código abierto\n",
            "Callback called with Ayuda:Caracteres especiales\n",
            "Callback called with Cine\n",
            "Callback called with Copyleft\n",
            "Callback called with Lenguas de Colombia\n",
            "Callback called with Sistema de gobierno de Colombia\n",
            "Callback called with Población de Colombia\n",
            "Callback called with Catolicismo\n",
            "Callback called with Wikipedia:Creación de enlaces externos\n",
            "Callback called with Cabotaje\n",
            "Callback called with Ciencias de la salud\n",
            "Callback called with Wikipedia:Contenidos\n",
            "Callback called with Wikipedia:Comentarios\n",
            "Callback called with Wikipedia:Wikipedia no es de papel\n",
            "Callback called with Ciencias de la Tierra\n",
            "Callback called with Cristianismo\n",
            "Callback called with C\n",
            "Callback called with Cinturon de kuiper\n",
            "Callback called with Cesio\n",
            "Callback called with Centímetro\n",
            "Callback called with Centímetro cúbico\n",
            "Callback called with Castilla y León\n",
            "Callback called with Cuadrado\n",
            "Callback called with Canarias\n",
            "Callback called with Comedia\n",
            "Callback called with Cinturón de asteroides\n",
            "Callback called with Comunidad Valenciana\n",
            "Callback called with Chincha Alta\n",
            "Callback called with Cuba\n",
            "Callback called with Clasificación de los organismos vegetales\n",
            "Callback called with Cecina\n",
            "Callback called with Cistaceae\n",
            "Callback called with Capparaceae\n",
            "Callback called with Brassicales\n",
            "Callback called with Crassulaceae\n",
            "Callback called with Caesalpiniaceae\n",
            "Callback called with Anexo:Calendario de aniversarios\n",
            "Callback called with Capsella bursa-pastoris\n",
            "Callback called with Cornales\n",
            "Callback called with Cornaceae\n",
            "Callback called with Ciato\n",
            "Callback called with Coriariaceae\n",
            "Callback called with Cneoraceae\n",
            "Callback called with Código de país\n",
            "Callback called with Castellano (desambiguación)\n",
            "Callback called with Cgs\n",
            "Callback called with Cfc\n",
            "Callback called with Cegesimal\n",
            "Callback called with Clorofluorocarburo\n",
            "Callback called with Centímetro cuadrado\n",
            "Callback called with Wikipedia:Chat y Foro de Wikipedistas\n",
            "Callback called with Cono\n",
            "Callback called with Cupressaceae\n",
            "Callback called with Cycadatae\n",
            "Callback called with CCC\n",
            "Callback called with Cycas revoluta\n",
            "Callback called with Camilo José Cela\n",
            "Callback called with Célula (desambiguación)\n",
            "Callback called with Cyperaceae\n",
            "Callback called with Commelinaceae\n",
            "Callback called with Crossings\n",
            "Callback called with Constante física\n",
            "Callback called with Cyanophyta\n",
            "Callback called with Cyclocarpales\n",
            "Callback called with Ciencias de la computación\n",
            "Callback called with Cryptophyta\n",
            "Callback called with Alga verde\n",
            "Callback called with Colacium\n",
            "Callback called with Ceratium\n",
            "Callback called with Castanea henryi\n",
            "Callback called with Castanea seguinii\n",
            "Callback called with Castanea crenata\n",
            "Callback called with Castanea ozarkensis\n",
            "Callback called with Castanea sativa\n",
            "Callback called with Célula fotoeléctrica\n",
            "Callback called with Célula madre\n",
            "Callback called with Célula nerviosa\n",
            "Callback called with Canica\n",
            "Callback called with Circunferencia\n",
            "Callback called with Crenarchaeota\n",
            "Callback called with Cycadeoidopsida\n",
            "Callback called with Casuarinaceae\n",
            "Callback called with Casuarina\n",
            "Callback called with Ceuthostoma\n",
            "Callback called with Carya\n",
            "Callback called with Cyclocarya paliurus\n",
            "Callback called with Calamogrostis\n",
            "Callback called with Catabrosa\n",
            "Callback called with Chaetopogon fasciculatus\n",
            "Callback called with Coix\n",
            "Callback called with Cortaderia\n",
            "Callback called with Corynephorus\n",
            "Callback called with Crypsis\n",
            "Callback called with Ctenopsis garcini\n",
            "Callback called with Cutandia\n",
            "Callback called with Cynodon\n",
            "Callback called with Cynosurus\n",
            "Callback called with Cobol\n",
            "Callback called with CODASYL\n",
            "Callback called with Ayuda:Imágenes\n",
            "Callback called with Commodore 64\n",
            "Callback called with Commodore 128\n",
            "Callback called with Cuarta generación de ordenadores\n",
            "Callback called with Código simbólico\n",
            "Callback called with Compilador\n",
            "Callback called with Cláusula de Horn\n",
            "Callback called with C++\n",
            "Callback called with Código hexadecimal\n",
            "Callback called with Código alfanumérico\n",
            "Callback called with Código de caracteres de 8 bits\n",
            "Callback called with Ciencia\n",
            "Callback called with Civilizacion\n",
            "Callback called with Command & Conquer\n",
            "Callback called with Constitución de 1812\n",
            "Callback called with Compresión de datos\n",
            "Callback called with Códigos fuente\n",
            "Callback called with Códigos Univocamente Decodificables\n",
            "Callback called with Cadmio\n",
            "Callback called with Carbono\n",
            "Callback called with Carl Sagan\n",
            "Callback called with Decimal codificado en binario\n",
            "Callback called with Coma fija\n",
            "Callback called with Coma flotante\n",
            "Callback called with Código de corrección de errores\n",
            "Callback called with Códigos de bloque\n",
            "Callback called with Civilization (serie)\n",
            "Callback called with Ciencia ficción\n",
            "Callback called with Verificación por redundancia cíclica\n",
            "Callback called with Códigos de Redundancia Cíclica\n",
            "Callback called with Cliente\n",
            "Callback called with Cometa\n",
            "Callback called with Wikipedia:Convención sobre copyright\n",
            "Callback called with Código unívocamente descodificable\n",
            "Callback called with Circuito de conmutación\n",
            "Callback called with Computador\n",
            "Callback called with Claude Elwood Shannon\n",
            "Callback called with Complex Instruction Set Computer\n",
            "Callback called with Cibercafé\n",
            "Callback called with Ciberlocal\n",
            "Callback called with Cyborg\n",
            "Callback called with Calamovilfa\n",
            "Callback called with Calderonella sylvatica\n",
            "Callback called with Calotheca\n",
            "Callback called with Campulosus\n",
            "Callback called with Caryochloa\n",
            "Callback called with Cathestechum\n",
            "Callback called with Cenchrus\n",
            "Callback called with Centotheca\n",
            "Callback called with Centrochloa sungularis\n",
            "Callback called with Cephalostachyum\n",
            "Callback called with Chaetochloa\n",
            "Callback called with Chamaeraphis hordeacea\n",
            "Callback called with Chikusichloa\n",
            "Callback called with Chloris\n",
            "Callback called with Chondrosium\n",
            "Callback called with Chrysopogon\n",
            "Callback called with Chusquea\n",
            "Callback called with Cinna\n",
            "Callback called with Clinelymus\n",
            "Callback called with Coelachne\n",
            "Callback called with Coelorachis\n",
            "Callback called with Colpodium\n",
            "Callback called with Cryptochloa\n",
            "Callback called with Cymbopogon\n",
            "Callback called with Chaetium\n",
            "Callback called with Wikipedia:Cómo hacer que las imágenes pesen poco\n",
            "Callback called with Wikipedia:Autorización Barrapunto\n",
            "Callback called with Biología celular\n",
            "Callback called with Wikipedia:Cómo mejorar el indice de temas de la Portada\n",
            "Callback called with Cordado\n",
            "Callback called with Cráneo\n",
            "Callback called with Cerebro\n",
            "Callback called with Cartilaginoso\n",
            "Callback called with Cartílago\n",
            "Callback called with Cerebelo\n",
            "Callback called with Complejo\n",
            "Callback called with Costa Rica\n",
            "Callback called with Contrato de compraventa\n",
            "Callback called with Go\n",
            "Callback called with Atari-Go\n",
            "Callback called with Clasificación de los jugadores de go\n",
            "Callback called with Candela\n",
            "Callback called with Lorenzo Cerdá\n",
            "Callback called with Colegio Hogwarts de Magia\n",
            "Callback called with Constitución\n",
            "Callback called with Clipper (lenguaje de programación)\n",
            "Callback called with Solenostemon\n",
            "Callback called with Cinetosis\n",
            "Callback called with Calathea\n",
            "Callback called with Ciudad\n",
            "Callback called with Catedral de León\n",
            "Callback called with Ciencias ocultas\n",
            "Callback called with Ciencias sociales\n",
            "Callback called with Cámara\n",
            "Callback called with Comunidad autónoma\n",
            "Callback called with Cartografía\n",
            "Callback called with Compositor\n",
            "Callback called with Cultura\n",
            "Callback called with Ciencias aplicadas\n",
            "Callback called with Clasificación (desambiguación)\n",
            "Callback called with Clase\n",
            "Callback called with Clasificación Unesco\n",
            "Callback called with Clasificación Unesco de 4 dígitos\n",
            "Callback called with Camino de Santiago\n",
            "Callback called with Clasificación Unesco de 6 dígitos\n",
            "Callback called with Wikipedia:Clasificación Unesco de 6 dígitos/11 Lógica\n",
            "Callback called with Wikipedia:Clasificación Unesco de 6 dígitos/12 Matemática\n",
            "Callback called with Wikipedia:Clasificación Unesco de 6 dígitos/21 Astronomía y Astrofísica\n",
            "Callback called with Wikipedia:Clasificación Unesco de 6 dígitos/22 Física\n",
            "Callback called with Wikipedia:Clasificación Unesco de 6 dígitos/23 Química\n",
            "Callback called with Wikipedia:Clasificación Unesco de 6 dígitos/24 Ciencias de la Vida\n",
            "Callback called with Wikipedia:Clasificación Unesco de 6 dígitos/25 Ciencias de la Tierra y el Espacio\n",
            "Callback called with Wikipedia:Clasificación Unesco de 6 dígitos/31 Ciencias Agronómicas\n",
            "Callback called with Wikipedia:Clasificación Unesco de 6 dígitos/32 Ciencias Médicas\n",
            "Callback called with Wikipedia:Clasificación Unesco de 6 dígitos/33 Ciencias de la tecnología\n",
            "Callback called with Wikipedia:Clasificación Unesco de 6 dígitos/51 Antropología\n",
            "Callback called with Wikipedia:Clasificación Unesco de 6 dígitos/52 Demografía\n",
            "Callback called with Wikipedia:Clasificación Unesco de 6 dígitos/53 Ciencias de la economía\n",
            "Callback called with Wikipedia:Clasificación Unesco de 6 dígitos/54 Geografía\n",
            "Callback called with Wikipedia:Clasificación Unesco de 6 dígitos/55 Historia\n",
            "Callback called with Wikipedia:Clasificación Unesco de 6 dígitos/56 Derecho\n",
            "Callback called with Wikipedia:Clasificación Unesco de 6 dígitos/57 Lingüística\n",
            "Callback called with Wikipedia:Clasificación Unesco de 6 dígitos/58 Pedagogía\n",
            "Callback called with Wikipedia:Clasificación Unesco de 6 dígitos/59 Ciencias políticas\n",
            "Callback called with Wikipedia:Clasificación Unesco de 6 dígitos/61 Psicología\n",
            "Callback called with Wikipedia:Clasificación Unesco de 6 dígitos/62 Ciencias de las artes y las letras\n",
            "Callback called with Wikipedia:Clasificación Unesco de 6 dígitos/63 Sociología\n",
            "Callback called with Wikipedia:Clasificación Unesco de 6 dígitos/71 Ética\n",
            "Callback called with Wikipedia:Clasificación Unesco de 6 dígitos/72 Filosofía\n",
            "Callback called with Clasificación Decimal Universal\n",
            "Callback called with Cineasta\n",
            "Callback called with Citoplasma\n",
            "Callback called with Congregación\n",
            "Callback called with Cine de autor\n",
            "Callback called with Cine mudo\n",
            "Callback called with Cine sonoro\n",
            "Callback called with Climatología\n",
            "Callback called with Canadá\n",
            "Callback called with Wikipedia:Cómo comenzar\n",
            "Callback called with Catedral\n",
            "Callback called with Cáncer de mama\n",
            "Callback called with Conjunto\n",
            "Callback called with Cuento\n",
            "Callback called with Cubalibre\n",
            "Callback called with Cristalografía\n",
            "Callback called with Chiapas\n",
            "Callback called with Castilla-La Mancha\n",
            "Callback called with Caudofoveata\n",
            "Callback called with Cuzco\n",
            "Callback called with Calendario\n",
            "Callback called with Ciudad Real (Provincia)\n",
            "Callback called with Crustacea\n",
            "Callback called with CARO\n",
            "Callback called with Chilena (género musical)\n",
            "Callback called with Charles Darwin\n",
            "Callback called with Ciclo de Krebs\n",
            "Callback called with Ciclope\n",
            "Callback called with Cianobacteria\n",
            "Callback called with Cuaterniones\n",
            "Callback called with Fotografía tradicional\n",
            "Callback called with Coco Chanel\n",
            "Callback called with Daphne\n",
            "Callback called with Deporte\n",
            "Callback called with Don Quijote de la Mancha\n",
            "Callback called with Debian GNU/Linux\n",
            "Callback called with Unidad de disco duro\n",
            "Callback called with Denia\n",
            "Callback called with Densidad\n",
            "Callback called with Didáctica\n",
            "Callback called with Día\n",
            "Callback called with Dalái lama\n",
            "Callback called with Danza\n",
            "Callback called with Danzas afroperuanas\n",
            "Callback called with Anexo:Diferencias de léxico entre países de lengua española\n",
            "Callback called with Dilleniidae\n",
            "Callback called with Derecho\n",
            "Callback called with Dominio público\n",
            "Callback called with Ayuda:Interfaz de Wikipedia\n",
            "Callback called with Droseraceae\n",
            "Callback called with Dina (unidad de medida)\n",
            "Callback called with Declaración Schuman\n",
            "Callback called with Día europeo\n",
            "Callback called with Disciplinas auxiliares usadas en historia\n",
            "Callback called with Distancia\n",
            "Callback called with Dendrita\n",
            "Callback called with Dioscoreaceae\n",
            "Callback called with Dermatocarpaceae\n",
            "Callback called with Discolichenes\n",
            "Callback called with Dinophyta\n",
            "Callback called with Dinophyceae\n",
            "Callback called with Desmophycidae\n",
            "Callback called with Dinophycidae\n",
            "Callback called with Phytodinales\n",
            "Callback called with Dinocapsales\n",
            "Callback called with Dinotricales\n",
            "Callback called with Dugandiodendron\n",
            "Callback called with Dactylis\n",
            "Callback called with Danthonia\n",
            "Callback called with Deschampsia\n",
            "Callback called with Desmazeria\n",
            "Callback called with Dichanthium\n",
            "Callback called with Digitaria\n",
            "Callback called with Disfunción sexual\n",
            "Callback called with Dolina\n",
            "Callback called with Wikipedia:Convenciones idiomáticas\n",
            "Callback called with Demolición\n",
            "Callback called with Derecho constitucional\n",
            "Callback called with Diamante\n",
            "Callback called with Detección y corrección de errores\n",
            "Callback called with Distancia de Hamming\n",
            "Callback called with Dune\n",
            "Callback called with Demiurgo\n",
            "Callback called with Dios\n",
            "Callback called with Dragón\n",
            "Callback called with Dactyloctenium\n",
            "Callback called with Dendrocalamus\n",
            "Callback called with Dendrochloa distans\n",
            "Callback called with Deyeuxia\n",
            "Callback called with Diandrolyra\n",
            "Callback called with Dimeria\n",
            "Callback called with Dimorphostachys\n",
            "Callback called with Dinochloa\n",
            "Callback called with Diplachne\n",
            "Callback called with Distichlis\n",
            "Callback called with Ayuda:Uso de LaTeX\n",
            "Callback called with Signo diacrítico\n",
            "Callback called with Douglas Rushkoff\n",
            "Callback called with Coerción\n",
            "Callback called with Dualismo\n",
            "Callback called with Wikipedia:Declaración de Larry Sanger acerca de la bifurcación de la enciclopedia wiki en Castellano\n",
            "Callback called with Dietas\n",
            "Callback called with Dionaea muscipula\n",
            "Callback called with Derecho procesal civil\n",
            "Callback called with Darwin (sistema operativo)\n",
            "Callback called with Dasyuromorphia\n",
            "Callback called with Distribuciones LIVE\n",
            "Callback called with Dasyuridae\n",
            "Callback called with Didelphidae\n",
            "Callback called with Diprotodontia\n",
            "Callback called with Estambre\n",
            "Callback called with Electrónica de potencia\n",
            "Callback called with España\n",
            "Callback called with Exploit\n",
            "Callback called with Educación\n",
            "Callback called with EV\n",
            "Callback called with Electronvoltio\n",
            "Callback called with Electrónica\n",
            "Callback called with Ernesto Sabato\n",
            "Callback called with Geografía de España\n",
            "Callback called with Economía de España\n",
            "Callback called with Política de España\n",
            "Callback called with Idiomas de España\n",
            "Callback called with Historia de España\n",
            "Callback called with Estadística\n",
            "Callback called with Estocástico\n",
            "Callback called with Enciclopedia\n",
            "Callback called with Electromagnetismo\n",
            "Callback called with Entropía (desambiguación)\n",
            "Callback called with Energía (tecnología)\n",
            "Callback called with Espín\n",
            "Callback called with Economía\n",
            "Callback called with Elegía\n",
            "Callback called with Epopeya\n",
            "Callback called with Entremés\n",
            "Callback called with Ensamblador\n",
            "Callback called with Electricidad\n",
            "Callback called with Elipse\n",
            "Callback called with Euskal-Herria\n",
            "Callback called with Euskal Herria\n",
            "Callback called with El modelo de Pickman\n",
            "Callback called with Europa\n",
            "Callback called with Ecología\n",
            "Callback called with Especie\n",
            "Callback called with Euro\n",
            "Callback called with Eneas\n",
            "Callback called with Ebenaceae\n",
            "Callback called with Empetraceae\n",
            "Callback called with Ericaceae\n",
            "Callback called with Ericales\n",
            "Callback called with Elaterio\n",
            "Callback called with Euphorbiales\n",
            "Callback called with Euphorbiaceae\n",
            "Callback called with Época Histórica\n",
            "Callback called with Erythroxylaceae\n",
            "Callback called with Epifanía\n",
            "Callback called with Estructura secundaria de las proteínas\n",
            "Callback called with Estructura terciaria de las proteínas\n",
            "Callback called with Estructura cuaternaria de las proteínas\n",
            "Callback called with Etología\n",
            "Callback called with Ephedraceae\n",
            "Callback called with Esperanto\n",
            "Callback called with Efecto túnel\n",
            "Callback called with Equisetidae\n",
            "Callback called with Idioma español\n",
            "Callback called with Enero\n",
            "Callback called with Entretenimiento\n",
            "Callback called with Ecósfera\n",
            "Callback called with Euglena\n",
            "Callback called with Erytropsis\n",
            "Callback called with Equipo terminal de datos\n",
            "Callback called with ETCD\n",
            "Callback called with Equidistante\n",
            "Callback called with Euryarchaeota\n",
            "Callback called with Echinochloa\n",
            "Callback called with Elymus\n",
            "Callback called with Eragrostis\n",
            "Callback called with Esfera\n",
            "Callback called with Etimología\n",
            "Callback called with Esmeralda\n",
            "Callback called with Eatonia\n",
            "Callback called with Ekmanochloa\n",
            "Callback called with Eleusine\n",
            "Callback called with Elionurus\n",
            "Callback called with Elymordeum montanense\n",
            "Callback called with Elyonurus\n",
            "Callback called with Enteropogon\n",
            "Callback called with Epicampes\n",
            "Callback called with Eremochloa\n",
            "Callback called with Eriachne\n",
            "Callback called with Erianthus\n",
            "Callback called with Eriochloa\n",
            "Callback called with Eriocoma\n",
            "Callback called with Euchlaena\n",
            "Callback called with Eulalia\n",
            "Callback called with Eustachys\n",
            "Callback called with Esqueleto humano\n",
            "Callback called with Encéfalo\n",
            "Callback called with Epigrafía\n",
            "Callback called with Escritura acrofonética\n",
            "Callback called with Ergonomía\n",
            "Callback called with Egipto\n",
            "Callback called with Ethernet\n",
            "Callback called with Erupciones históricas de Tenerife\n",
            "Callback called with Escalada\n",
            "Callback called with Espacio vectorial\n",
            "Callback called with Epaminondas (juego)\n",
            "Callback called with Epistemología jurídica\n",
            "Callback called with Eric S. Raymond\n",
            "Callback called with Escudo\n",
            "Callback called with Enlazador\n",
            "Callback called with Etiología\n",
            "Callback called with Exégesis\n",
            "Callback called with Evangelio\n",
            "Callback called with Estado\n",
            "Callback called with Espectáculo\n",
            "Callback called with Esotérico\n",
            "Callback called with Enfermería\n",
            "Callback called with Enfermedad de Alzheimer\n",
            "Callback called with Enfermedad de Bright\n",
            "Callback called with Enfermedad de Parkinson\n",
            "Callback called with Ecumenismo\n",
            "Callback called with Eléctrica\n",
            "Callback called with Exploraciones europeas de Oceanía\n",
            "Callback called with Extremadura\n",
            "Callback called with Eolo\n",
            "Callback called with Edad Media\n",
            "Callback called with Emulador\n",
            "Callback called with Espeleología\n",
            "Callback called with Ernst Lubitsch\n",
            "Callback called with Energía Eólica\n",
            "Callback called with Revista electrónica\n",
            "Callback called with Epicúreos\n",
            "End adding documents. Time: 4.61336\n"
          ]
        }
      ]
    },
    {
      "cell_type": "markdown",
      "metadata": {
        "id": "myMIS8dp7yzQ"
      },
      "source": [
        "El código a continuación permite ver las diferentes versiones de una revisión. Como la versión reducida es muy pequeña no da lugar a que haya ninguna revisión, pero con este código se vería. Hace uso del _shell_ de HBase:\n",
        "\n",
        "```    \n",
        "get 'wikipedia', 'Commodore Amiga', {COLUMN => 'revision',VERSIONS=>10}\n",
        "```"
      ]
    },
    {
      "cell_type": "code",
      "metadata": {
        "id": "PYz2G1mt7yzS",
        "colab": {
          "base_uri": "https://localhost:8080/"
        },
        "outputId": "c9b67c2e-76a1-4251-87d1-f5ab4e0d1e74"
      },
      "source": [
        "with hbasecon.connection() as connection:\n",
        "    wikipedia = connection.table('wikipedia')\n",
        "    for key,data in wikipedia.scan(columns=['revision'], row_start='A', row_stop='B', limit=10):\n",
        "        print(key,'->',data)"
      ],
      "execution_count": 30,
      "outputs": [
        {
          "output_type": "stream",
          "name": "stdout",
          "text": [
            "b'A fala' -> {b'revision:author': b'KLBot2', b'revision:comment': b'Bot: Cambiando #REDIRECT por #REDIRECCI\\xc3\\x93N.'}\n",
            "b'AGA' -> {b'revision:author': b'Savh', b'revision:comment': b'Savh movi\\xc3\\xb3 la p\\xc3\\xa1gina [[AGA (desambiguaci\\xc3\\xb3n)]] a [[AGA]]: Solicitado'}\n",
            "b'ALGOL' -> {b'revision:author': b'G\\xc3\\xbcnniX', b'revision:comment': b'/* Enlaces externos y bibliograf\\xc3\\xada */'}\n",
            "b'ASCII' -> {b'revision:author': b'', b'revision:comment': b''}\n",
            "b'Abreviatura' -> {b'revision:author': b'', b'revision:comment': b'/* Diccionarios de abreviaturas */'}\n",
            "b'Acacia' -> {b'revision:author': b'Jkbw', b'revision:comment': b'Revertidos los cambios de [[Special:Contributions/212.55.25.241|212.55.25.241]] ([[User talk:212.55.25.241|disc.]]) a la \\xc3\\xbaltima edici\\xc3\\xb3n de Jkbw'}\n",
            "b'Acamptoclados' -> {b'revision:author': b'KLBot2', b'revision:comment': b'Bot: Cambiando #REDIRECT por #REDIRECCI\\xc3\\x93N.'}\n",
            "b'Acarreo' -> {b'revision:author': b'Farisori', b'revision:comment': b'Revertidos los cambios de [[Special:Contributions/~Expresses life|~Expresses life]] ([[User talk:~Expresses life|disc.]]) a la \\xc3\\xbaltima edici\\xc3\\xb3n de Farisori'}\n",
            "b'Acento l\\xc3\\xa9xico' -> {b'revision:author': b'CEM-bot', b'revision:comment': b'Peque\\xc3\\xb1as correcciones [[WP:CEM]].'}\n",
            "b'Achlaena' -> {b'revision:author': b'KLBot2', b'revision:comment': b'Bot: Cambiando #REDIRECT por #REDIRECCI\\xc3\\x93N.'}\n"
          ]
        }
      ]
    },
    {
      "cell_type": "markdown",
      "metadata": {
        "id": "Ztu2ObZC7yza"
      },
      "source": [
        "La siguiente consulta no poduce resultados. ¿Por qué?"
      ]
    },
    {
      "cell_type": "code",
      "metadata": {
        "id": "4CV5p3Q17yzb",
        "colab": {
          "base_uri": "https://localhost:8080/"
        },
        "outputId": "6b6d0f3d-a77b-40e4-cda2-e389378b9fdc"
      },
      "source": [
        "with hbasecon.connection() as connection:\n",
        "    wikipedia = connection.table('wikipedia')\n",
        "    for key,data in wikipedia.scan(columns=['revision'], row_start='A', row_stop='B',\n",
        "                                   filter=\"PrefixFilter('AS')\", # Hay que poner A o AS , en vez de B\n",
        "                                   limit=10):\n",
        "        print (key,'->',data)"
      ],
      "execution_count": 33,
      "outputs": [
        {
          "output_type": "stream",
          "name": "stdout",
          "text": [
            "b'ASCII' -> {b'revision:author': b'', b'revision:comment': b''}\n"
          ]
        }
      ]
    },
    {
      "cell_type": "markdown",
      "metadata": {
        "id": "t12MSPh37yzj"
      },
      "source": [
        "## En los siguientes ejercicios, usando `happybase`, utiliza o bien `scan` o bien `row` donde sea conveniente:"
      ]
    },
    {
      "cell_type": "markdown",
      "metadata": {
        "id": "kfnKjWjA7yzl"
      },
      "source": [
        "## EJERCICIO: Mostrar la familia de columnas `revision` para la entrada `ASCII` de la tabla `wikipedia`."
      ]
    },
    {
      "cell_type": "code",
      "metadata": {
        "id": "PJC4mECT7yzn"
      },
      "source": [],
      "execution_count": 31,
      "outputs": []
    },
    {
      "cell_type": "markdown",
      "metadata": {
        "id": "edzW7ZPs7yzu"
      },
      "source": [
        "## EJERCICIO: Mostrar las 20 primeras filas de la tabla `wikipedia` cuyas columnas empiecen por 'com'."
      ]
    },
    {
      "cell_type": "code",
      "metadata": {
        "id": "FQpZfHEs7yzz"
      },
      "source": [],
      "execution_count": 31,
      "outputs": []
    },
    {
      "cell_type": "markdown",
      "metadata": {
        "id": "As3LYDng7yz6"
      },
      "source": [
        "## EJERCICIO: Mostrar las 20 primeras filas de la tabla `wikipedia` cuyas columnas empiecen por 'com' y la clave de fila empieza por 'B'."
      ]
    },
    {
      "cell_type": "code",
      "metadata": {
        "id": "gYESBtOi7yz8"
      },
      "source": [],
      "execution_count": 31,
      "outputs": []
    },
    {
      "cell_type": "markdown",
      "metadata": {
        "id": "S4a77o967y0F"
      },
      "source": [
        "## EJERCICIO: Mostrar sólo la columna `revision:author` de las filas de la tabla `wikipedia` cuya clave empiece por `a` y termine por `a` (obviando mayúsculas y minúsculas)."
      ]
    },
    {
      "cell_type": "code",
      "metadata": {
        "id": "ZxSo3H2t7y0I"
      },
      "source": [],
      "execution_count": 31,
      "outputs": []
    },
    {
      "cell_type": "markdown",
      "metadata": {
        "id": "EBkZ4a7Q7y0Q"
      },
      "source": [
        "## EJERCICIO: Mostrar las filas de la tabla `users` (sólo la columna `rawdata:Location`) de usuarios de España (se supondrá que su localización (columna `rawdata:Location`) contiene `España` o `ES`, obviando mayúsculas y minúsculas)."
      ]
    },
    {
      "cell_type": "code",
      "metadata": {
        "id": "c1ke67qn7y0Q"
      },
      "source": [],
      "execution_count": 31,
      "outputs": []
    },
    {
      "cell_type": "markdown",
      "metadata": {
        "id": "PJz1lQYS7y0X"
      },
      "source": [
        "## EJERCICIO: Crear una nueva tabla `poststags` que, de forma eficiente, para cada _tag_, liste los `Id` de los posts que utilizan ese _tag_.\n",
        "\n",
        "*Nota: El código de ejemplo para separar todas las etiquetas del campo Tags de un post está en la sesión 1.*"
      ]
    },
    {
      "cell_type": "code",
      "source": [],
      "metadata": {
        "id": "-04IcAJptCv4"
      },
      "execution_count": 31,
      "outputs": []
    },
    {
      "cell_type": "markdown",
      "metadata": {
        "id": "t7ngvtRAtB90"
      },
      "source": [
        "## EJERCICIO: Crear una nueva tabla `userstags` que, de forma eficiente, para cada _tag_, liste los `Id` de los usuarios que han escrito posts de ese _tag_.\n",
        "\n",
        "*Nota: El código de ejemplo para separar todas las etiquetas del campo Tags de un post está en la sesión 1.*"
      ]
    },
    {
      "cell_type": "code",
      "metadata": {
        "id": "Gu0tAb007y0Y"
      },
      "source": [],
      "execution_count": 31,
      "outputs": []
    },
    {
      "cell_type": "markdown",
      "metadata": {
        "id": "vyWa2IdE7y0d"
      },
      "source": [
        "## EJERCICIO: Construya una tabla (de la forma más eficiente) que sirva para, dados un ID de usuario que pregunta y un ID de otro usuario que responde, se pueda decir (en orden constante) si forman una pareja al estilo de la RQ4. Con esa tabla, responder a la RQ4."
      ]
    },
    {
      "cell_type": "code",
      "metadata": {
        "id": "vpDD6N1b7y0e"
      },
      "source": [],
      "execution_count": 31,
      "outputs": []
    }
  ]
}