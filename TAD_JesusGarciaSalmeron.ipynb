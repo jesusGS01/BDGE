{
  "nbformat": 4,
  "nbformat_minor": 0,
  "metadata": {
    "colab": {
      "provenance": [],
      "authorship_tag": "ABX9TyMWkuvgdWF9eiEqmPcQrolf",
      "include_colab_link": true
    },
    "kernelspec": {
      "name": "python3",
      "display_name": "Python 3"
    },
    "language_info": {
      "name": "python"
    }
  },
  "cells": [
    {
      "cell_type": "markdown",
      "metadata": {
        "id": "view-in-github",
        "colab_type": "text"
      },
      "source": [
        "<a href=\"https://colab.research.google.com/github/jesusGS01/BDGE/blob/main/TAD_JesusGarciaSalmeron.ipynb\" target=\"_parent\"><img src=\"https://colab.research.google.com/assets/colab-badge.svg\" alt=\"Open In Colab\"/></a>"
      ]
    },
    {
      "cell_type": "markdown",
      "source": [
        "# Trabajo Académicamente Dirigido\n",
        "\n",
        "### Alumno: Jesús García Salmerón\n",
        "### Convocatoria: Enero, 2024"
      ],
      "metadata": {
        "id": "lHm-SyzVuFQq"
      }
    },
    {
      "cell_type": "markdown",
      "source": [
        "## T12 -- Tecnologías Serverless\n",
        "\n",
        "- Pasos de uso de cada plataforma. Al menos: AWS Lambda y Azure\n",
        "  Functions (también se puede considerar Google UDF)\n",
        "- Descripción del modo de funcionamiento,\n",
        "  posibilidades de modelado de datos y características\n",
        "- Mostrar cómo trabajar con los datos de Stackoverflow\n",
        "- Mostrar cómo se realizarían las consultas RQ1 a RQ4 de los\n",
        "  artículos vistos en la sesión 2\n",
        "- Realizar pruebas de eficiencia comparada con alguna de las bases de\n",
        "  datos vistas en la asignatura"
      ],
      "metadata": {
        "id": "cwgwkiZiuD0y"
      }
    },
    {
      "cell_type": "markdown",
      "source": [
        "### RQ1"
      ],
      "metadata": {
        "id": "BFT3Ooslu9AR"
      }
    },
    {
      "cell_type": "code",
      "execution_count": null,
      "metadata": {
        "id": "mEsCkuGZt8T7"
      },
      "outputs": [],
      "source": []
    }
  ]
}