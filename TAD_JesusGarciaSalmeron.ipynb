{
  "nbformat": 4,
  "nbformat_minor": 0,
  "metadata": {
    "colab": {
      "provenance": [],
      "authorship_tag": "ABX9TyM+wQLwEzImyvdVY3VFw5wT",
      "include_colab_link": true
    },
    "kernelspec": {
      "name": "python3",
      "display_name": "Python 3"
    },
    "language_info": {
      "name": "python"
    }
  },
  "cells": [
    {
      "cell_type": "markdown",
      "metadata": {
        "id": "view-in-github",
        "colab_type": "text"
      },
      "source": [
        "<a href=\"https://colab.research.google.com/github/jesusGS01/BDGE/blob/main/TAD_JesusGarciaSalmeron.ipynb\" target=\"_parent\"><img src=\"https://colab.research.google.com/assets/colab-badge.svg\" alt=\"Open In Colab\"/></a>"
      ]
    },
    {
      "cell_type": "markdown",
      "source": [
        "# Trabajo Académicamente Dirigido\n",
        "\n",
        "### Alumno: Jesús García Salmerón\n",
        "### Convocatoria: Enero, 2024"
      ],
      "metadata": {
        "id": "lHm-SyzVuFQq"
      }
    },
    {
      "cell_type": "markdown",
      "source": [
        "## T16 -- Apache Druid\n",
        "\n",
        "## https://druid.apache.org/\n",
        "\n"
      ],
      "metadata": {
        "id": "cwgwkiZiuD0y"
      }
    },
    {
      "cell_type": "markdown",
      "source": [
        "--------------------------------------------------------------------------------"
      ],
      "metadata": {
        "id": "hdu4mjruFIzN"
      }
    },
    {
      "cell_type": "markdown",
      "source": [
        "## Pasos de instalación"
      ],
      "metadata": {
        "id": "hvI0n17u9SRJ"
      }
    },
    {
      "cell_type": "markdown",
      "source": [
        "--------------------------------------------------------------------------------"
      ],
      "metadata": {
        "id": "kh6kRISlFPot"
      }
    },
    {
      "cell_type": "markdown",
      "source": [
        "## Descripción de la herramienta, modo de funcionamiento,   posibilidades de modelado de datos y características"
      ],
      "metadata": {
        "id": "9BT9cQiA-Zl5"
      }
    },
    {
      "cell_type": "markdown",
      "source": [
        "--------------------------------------------------------------------------------"
      ],
      "metadata": {
        "id": "tYjatWqJFRsN"
      }
    },
    {
      "cell_type": "markdown",
      "source": [
        "## Mostrar cómo importar los datos de Stackoverflow"
      ],
      "metadata": {
        "id": "56nBGNCiMOKq"
      }
    },
    {
      "cell_type": "markdown",
      "source": [
        "--------------------------------------------------------------------------------"
      ],
      "metadata": {
        "id": "VZPBW-D1MQhh"
      }
    },
    {
      "cell_type": "markdown",
      "source": [
        "## Mostrar consultas sobre la base de datos de StackOverflow y si se   podrían realizar las consultas RQ1 a RQ4 de los artículos vistos en la   sesión 2"
      ],
      "metadata": {
        "id": "lPWBU2EP-imo"
      }
    },
    {
      "cell_type": "markdown",
      "source": [
        "### RQ1"
      ],
      "metadata": {
        "id": "BFT3Ooslu9AR"
      }
    },
    {
      "cell_type": "code",
      "execution_count": null,
      "metadata": {
        "id": "mEsCkuGZt8T7"
      },
      "outputs": [],
      "source": []
    },
    {
      "cell_type": "markdown",
      "source": [
        "### RQ2"
      ],
      "metadata": {
        "id": "ss7qUHEn-sy4"
      }
    },
    {
      "cell_type": "code",
      "source": [],
      "metadata": {
        "id": "NkkxkQihMaBJ"
      },
      "execution_count": null,
      "outputs": []
    },
    {
      "cell_type": "markdown",
      "source": [
        "### RQ3"
      ],
      "metadata": {
        "id": "ZdhX1Gse-uno"
      }
    },
    {
      "cell_type": "code",
      "source": [],
      "metadata": {
        "id": "vzjTuh39MaeJ"
      },
      "execution_count": null,
      "outputs": []
    },
    {
      "cell_type": "markdown",
      "source": [
        "### RQ4"
      ],
      "metadata": {
        "id": "kwWYuQJk-x3I"
      }
    },
    {
      "cell_type": "code",
      "source": [],
      "metadata": {
        "id": "0HuoIuRdMbQZ"
      },
      "execution_count": null,
      "outputs": []
    }
  ]
}