{
  "cells": [
    {
      "cell_type": "markdown",
      "metadata": {
        "id": "view-in-github",
        "colab_type": "text"
      },
      "source": [
        "<a href=\"https://colab.research.google.com/github/jesusGS01/BDGE/blob/main/mongo/sesion3.ipynb\" target=\"_parent\"><img src=\"https://colab.research.google.com/assets/colab-badge.svg\" alt=\"Open In Colab\"/></a>"
      ]
    },
    {
      "cell_type": "markdown",
      "metadata": {
        "id": "rMc4yQncXK2N"
      },
      "source": [
        "# NoSQL (MongoDB) (sesión 3)\n"
      ]
    },
    {
      "cell_type": "markdown",
      "metadata": {
        "id": "ZbikzCBUXK2P"
      },
      "source": [
        "![MongoDB](https://webassets.mongodb.com/_com_assets/cms/MongoDB_Logo_FullColorBlack_RGB-4td3yuxzjs.png)\n",
        "\n",
        "Esta hoja muestra cómo acceder a bases de datos MongoDB y también a conectar la salida con Jupyter. Se puede utilizar el *shell* propio de MongoDB. La diferencia es que ese programa espera código Javascript y aquí trabajaremos con Python.\n",
        "\n",
        "A continuación unas comprobaciones iniciales."
      ]
    },
    {
      "cell_type": "code",
      "source": [
        "RunningInCOLAB = 'google.colab' in str(get_ipython()) if hasattr(__builtins__,'__IPYTHON__') else False"
      ],
      "metadata": {
        "id": "x9-RN4ZSY5o9"
      },
      "execution_count": 1,
      "outputs": []
    },
    {
      "cell_type": "code",
      "source": [
        "db_hostname = \"localhost\" if RunningInCOLAB else \"mongo\""
      ],
      "metadata": {
        "id": "n5BdH3KOZA47"
      },
      "execution_count": 2,
      "outputs": []
    },
    {
      "cell_type": "markdown",
      "metadata": {
        "id": "4DEamgKU-TiK"
      },
      "source": [
        "## Instalación inicial de MongoDB (no necesaria si se utiliza Docker en local)\n"
      ]
    },
    {
      "cell_type": "code",
      "source": [
        "!wget -qO - https://www.mongodb.org/static/pgp/server-6.0.asc | sudo gpg --dearmor > /etc/apt/trusted.gpg.d/mongo-server-6.gpg"
      ],
      "metadata": {
        "id": "J2M97e3BfQfB"
      },
      "execution_count": 3,
      "outputs": []
    },
    {
      "cell_type": "code",
      "execution_count": 4,
      "metadata": {
        "id": "LxPjolcjjRPv",
        "colab": {
          "base_uri": "https://localhost:8080/"
        },
        "outputId": "56e4d45a-8317-4313-b258-df386a87d217"
      },
      "outputs": [
        {
          "output_type": "stream",
          "name": "stdout",
          "text": [
            "Adding system user `mongodb' (UID 104) ...\n",
            "Adding new user `mongodb' (UID 104) with group `nogroup' ...\n",
            "Not creating home directory `/home/mongodb'.\n",
            "Adding group `mongodb' (GID 107) ...\n",
            "Done.\n",
            "Adding user `mongodb' to group `mongodb' ...\n",
            "Adding user mongodb to group mongodb\n",
            "Done.\n"
          ]
        }
      ],
      "source": [
        "%%bash\n",
        "sudo adduser --system --no-create-home mongodb\n",
        "sudo addgroup --system mongodb\n",
        "sudo adduser mongodb mongodb\n",
        "\n",
        "# create db -- note: this should agree with dbpath in mongod.conf\n",
        "if [ ! -d /var/lib/mongodb ]; then\n",
        "  sudo mkdir -p /var/lib/mongodb\n",
        "  sudo chown mongodb:mongodb /var/lib/mongodb\n",
        "fi\n",
        "\n",
        "# create logdir -- note: this should agree with logpath in mongod.conf\n",
        "if [ ! -d /var/log/mongodb ]; then\n",
        "  sudo mkdir -p /var/log/mongodb\n",
        "  sudo chown mongodb:mongodb /var/log/mongodb\n",
        "fi"
      ]
    },
    {
      "cell_type": "code",
      "execution_count": 5,
      "metadata": {
        "id": "TUqh2wrue14R",
        "colab": {
          "base_uri": "https://localhost:8080/"
        },
        "outputId": "ac30af33-9aec-4c16-f491-23ce7a759b19"
      },
      "outputs": [
        {
          "output_type": "stream",
          "name": "stdout",
          "text": [
            "deb [ arch=amd64,arm64 ] https://repo.mongodb.org/apt/ubuntu jammy/mongodb-org/6.0 multiverse\n"
          ]
        }
      ],
      "source": [
        "!echo \"deb [ arch=amd64,arm64 ] https://repo.mongodb.org/apt/ubuntu jammy/mongodb-org/6.0 multiverse\" | sudo tee /etc/apt/sources.list.d/mongodb-org-6.0.list"
      ]
    },
    {
      "cell_type": "code",
      "execution_count": 6,
      "metadata": {
        "id": "eYZiYC5KfAgT"
      },
      "outputs": [],
      "source": [
        "!sudo apt-get update -qq"
      ]
    },
    {
      "cell_type": "code",
      "execution_count": 7,
      "metadata": {
        "id": "olxoLhh4ai9T"
      },
      "outputs": [],
      "source": [
        "!sudo ln -sf /bin/true /bin/systemctl"
      ]
    },
    {
      "cell_type": "code",
      "execution_count": 8,
      "metadata": {
        "id": "ksbGiW3pf_mQ",
        "colab": {
          "base_uri": "https://localhost:8080/"
        },
        "outputId": "a98e1803-0a7c-47e2-e252-a4933d94c9ea"
      },
      "outputs": [
        {
          "output_type": "stream",
          "name": "stdout",
          "text": [
            "debconf: unable to initialize frontend: Dialog\n",
            "debconf: (No usable dialog-like program is installed, so the dialog based frontend cannot be used. at /usr/share/perl5/Debconf/FrontEnd/Dialog.pm line 78, <> line 10.)\n",
            "debconf: falling back to frontend: Readline\n",
            "debconf: unable to initialize frontend: Readline\n",
            "debconf: (This frontend requires a controlling tty.)\n",
            "debconf: falling back to frontend: Teletype\n",
            "dpkg-preconfigure: unable to re-open stdin: \n",
            "Selecting previously unselected package dialog.\n",
            "(Reading database ... 120874 files and directories currently installed.)\n",
            "Preparing to unpack .../0-dialog_1.3-20211214-1_amd64.deb ...\n",
            "Unpacking dialog (1.3-20211214-1) ...\n",
            "Selecting previously unselected package mongodb-database-tools.\n",
            "Preparing to unpack .../1-mongodb-database-tools_100.9.0_amd64.deb ...\n",
            "Unpacking mongodb-database-tools (100.9.0) ...\n",
            "Selecting previously unselected package mongodb-mongosh.\n",
            "Preparing to unpack .../2-mongodb-mongosh_2.0.2_amd64.deb ...\n",
            "Unpacking mongodb-mongosh (2.0.2) ...\n",
            "Selecting previously unselected package mongodb-org-shell.\n",
            "Preparing to unpack .../3-mongodb-org-shell_6.0.11_amd64.deb ...\n",
            "Unpacking mongodb-org-shell (6.0.11) ...\n",
            "Selecting previously unselected package mongodb-org-server.\n",
            "Preparing to unpack .../4-mongodb-org-server_6.0.11_amd64.deb ...\n",
            "Unpacking mongodb-org-server (6.0.11) ...\n",
            "Selecting previously unselected package mongodb-org-mongos.\n",
            "Preparing to unpack .../5-mongodb-org-mongos_6.0.11_amd64.deb ...\n",
            "Unpacking mongodb-org-mongos (6.0.11) ...\n",
            "Selecting previously unselected package mongodb-org-database-tools-extra.\n",
            "Preparing to unpack .../6-mongodb-org-database-tools-extra_6.0.11_amd64.deb ...\n",
            "Unpacking mongodb-org-database-tools-extra (6.0.11) ...\n",
            "Selecting previously unselected package mongodb-org-database.\n",
            "Preparing to unpack .../7-mongodb-org-database_6.0.11_amd64.deb ...\n",
            "Unpacking mongodb-org-database (6.0.11) ...\n",
            "Selecting previously unselected package mongodb-org-tools.\n",
            "Preparing to unpack .../8-mongodb-org-tools_6.0.11_amd64.deb ...\n",
            "Unpacking mongodb-org-tools (6.0.11) ...\n",
            "Selecting previously unselected package mongodb-org.\n",
            "Preparing to unpack .../9-mongodb-org_6.0.11_amd64.deb ...\n",
            "Unpacking mongodb-org (6.0.11) ...\n",
            "Setting up mongodb-mongosh (2.0.2) ...\n",
            "Setting up mongodb-org-server (6.0.11) ...\n",
            "Setting up mongodb-org-shell (6.0.11) ...\n",
            "Setting up dialog (1.3-20211214-1) ...\n",
            "Setting up mongodb-database-tools (100.9.0) ...\n",
            "Setting up mongodb-org-mongos (6.0.11) ...\n",
            "Setting up mongodb-org-database-tools-extra (6.0.11) ...\n",
            "Setting up mongodb-org-database (6.0.11) ...\n",
            "Setting up mongodb-org-tools (6.0.11) ...\n",
            "Setting up mongodb-org (6.0.11) ...\n",
            "Processing triggers for man-db (2.10.2-1) ...\n"
          ]
        }
      ],
      "source": [
        "!sudo apt-get install -y -qq dialog mongodb-org"
      ]
    },
    {
      "cell_type": "code",
      "execution_count": 9,
      "metadata": {
        "id": "JpRH8JIrktfm",
        "colab": {
          "base_uri": "https://localhost:8080/"
        },
        "outputId": "22b4a7c3-e233-4acf-aaea-6874e41b30cb"
      },
      "outputs": [
        {
          "output_type": "stream",
          "name": "stdout",
          "text": [
            "about to fork child process, waiting until server is ready for connections.\n",
            "forked process: 2362\n",
            "child process started successfully, parent exiting\n"
          ]
        }
      ],
      "source": [
        "!sudo /usr/bin/mongod --config /etc/mongod.conf --fork"
      ]
    },
    {
      "cell_type": "code",
      "execution_count": 10,
      "metadata": {
        "id": "tmkqwbidaynX",
        "colab": {
          "base_uri": "https://localhost:8080/"
        },
        "outputId": "b1c57d16-16a4-4820-ffc8-7abba4a8d860"
      },
      "outputs": [
        {
          "output_type": "stream",
          "name": "stdout",
          "text": [
            "db version v6.0.11\n",
            "Build Info: {\n",
            "    \"version\": \"6.0.11\",\n",
            "    \"gitVersion\": \"f797f841eaf1759c770271ae00c88b92b2766eed\",\n",
            "    \"openSSLVersion\": \"OpenSSL 3.0.2 15 Mar 2022\",\n",
            "    \"modules\": [],\n",
            "    \"allocator\": \"tcmalloc\",\n",
            "    \"environment\": {\n",
            "        \"distmod\": \"ubuntu2204\",\n",
            "        \"distarch\": \"x86_64\",\n",
            "        \"target_arch\": \"x86_64\"\n",
            "    }\n",
            "}\n"
          ]
        }
      ],
      "source": [
        "!sudo mongod --version"
      ]
    },
    {
      "cell_type": "markdown",
      "metadata": {
        "id": "GaTsWPro-oOG"
      },
      "source": [
        "## Inicio de la hoja\n"
      ]
    },
    {
      "cell_type": "code",
      "execution_count": 11,
      "metadata": {
        "id": "xE0Sl869XK2Y",
        "colab": {
          "base_uri": "https://localhost:8080/"
        },
        "outputId": "b42e276d-a3a7-489a-e983-83aace75cd9d"
      },
      "outputs": [
        {
          "output_type": "stream",
          "name": "stdout",
          "text": [
            "Collecting pymongo\n",
            "  Downloading pymongo-4.5.0-cp310-cp310-manylinux_2_17_x86_64.manylinux2014_x86_64.whl (671 kB)\n",
            "\u001b[2K     \u001b[90m━━━━━━━━━━━━━━━━━━━━━━━━━━━━━━━━━━━━━━━━\u001b[0m \u001b[32m671.3/671.3 kB\u001b[0m \u001b[31m7.3 MB/s\u001b[0m eta \u001b[36m0:00:00\u001b[0m\n",
            "\u001b[?25hCollecting dnspython<3.0.0,>=1.16.0 (from pymongo)\n",
            "  Downloading dnspython-2.4.2-py3-none-any.whl (300 kB)\n",
            "\u001b[2K     \u001b[90m━━━━━━━━━━━━━━━━━━━━━━━━━━━━━━━━━━━━━━━━\u001b[0m \u001b[32m300.4/300.4 kB\u001b[0m \u001b[31m27.1 MB/s\u001b[0m eta \u001b[36m0:00:00\u001b[0m\n",
            "\u001b[?25hInstalling collected packages: dnspython, pymongo\n",
            "Successfully installed dnspython-2.4.2 pymongo-4.5.0\n"
          ]
        }
      ],
      "source": [
        "!pip install --upgrade pymongo"
      ]
    },
    {
      "cell_type": "code",
      "execution_count": 12,
      "metadata": {
        "id": "C0Le2anDXK2k"
      },
      "outputs": [],
      "source": [
        "from pprint import pprint as pp\n",
        "import pandas as pd\n",
        "import matplotlib.pyplot as plt\n",
        "import matplotlib\n",
        "\n",
        "%matplotlib inline\n",
        "matplotlib.style.use('ggplot')"
      ]
    },
    {
      "cell_type": "markdown",
      "metadata": {
        "id": "O92AlPcMXK2r"
      },
      "source": [
        "Usaremos la librería `pymongo` para python. La cargamos a continuación."
      ]
    },
    {
      "cell_type": "code",
      "execution_count": 13,
      "metadata": {
        "id": "Pc7akqe0XK2t"
      },
      "outputs": [],
      "source": [
        "import pymongo\n",
        "from pymongo import MongoClient"
      ]
    },
    {
      "cell_type": "markdown",
      "metadata": {
        "id": "mkiP6rzXXK2z"
      },
      "source": [
        "La conexión se inicia con `MongoClient` en el `host` descrito en el fichero `docker-compose.yml` (`mongo`), o bien a `localhost` si lo estamos haciendo en Colab."
      ]
    },
    {
      "cell_type": "code",
      "execution_count": 14,
      "metadata": {
        "id": "s4BiT5o9XK20",
        "colab": {
          "base_uri": "https://localhost:8080/"
        },
        "outputId": "42234e5f-fb14-4775-fb34-43a48edd026d"
      },
      "outputs": [
        {
          "output_type": "execute_result",
          "data": {
            "text/plain": [
              "MongoClient(host=['localhost:27017'], document_class=dict, tz_aware=False, connect=True)"
            ]
          },
          "metadata": {},
          "execution_count": 14
        }
      ],
      "source": [
        "client = MongoClient(db_hostname,27017)\n",
        "client"
      ]
    },
    {
      "cell_type": "code",
      "execution_count": 15,
      "metadata": {
        "id": "3xqmSSGdXK25",
        "colab": {
          "base_uri": "https://localhost:8080/"
        },
        "outputId": "56c7346a-462f-44c3-9842-aae2a7ffab5f"
      },
      "outputs": [
        {
          "output_type": "execute_result",
          "data": {
            "text/plain": [
              "['admin', 'config', 'local']"
            ]
          },
          "metadata": {},
          "execution_count": 15
        }
      ],
      "source": [
        "client.list_database_names()"
      ]
    },
    {
      "cell_type": "markdown",
      "metadata": {
        "id": "aavQysLzXK2-"
      },
      "source": [
        " - Format: 7zipped\n",
        " - Files:\n",
        "   - **badges**.xml\n",
        "       - UserId, e.g.: \"420\"\n",
        "       - Name, e.g.: \"Teacher\"\n",
        "       - Date, e.g.: \"2008-09-15T08:55:03.923\"\n",
        "   - **comments**.xml\n",
        "       - Id\n",
        "       - PostId\n",
        "       - Score\n",
        "       - Text, e.g.: \"@Stu Thompson: Seems possible to me - why not try it?\"\n",
        "       - CreationDate, e.g.:\"2008-09-06T08:07:10.730\"\n",
        "       - UserId\n",
        "   - **posts**.xml\n",
        "       - Id\n",
        "       - PostTypeId\n",
        "          - 1: Question\n",
        "          - 2: Answer\n",
        "       - ParentID (only present if PostTypeId is 2)\n",
        "       - AcceptedAnswerId (only present if PostTypeId is 1)\n",
        "       - CreationDate\n",
        "       - Score\n",
        "       - ViewCount\n",
        "       - Body\n",
        "       - OwnerUserId\n",
        "       - LastEditorUserId\n",
        "       - LastEditorDisplayName=\"Jeff Atwood\"\n",
        "       - LastEditDate=\"2009-03-05T22:28:34.823\"\n",
        "       - LastActivityDate=\"2009-03-11T12:51:01.480\"\n",
        "       - CommunityOwnedDate=\"2009-03-11T12:51:01.480\"\n",
        "       - ClosedDate=\"2009-03-11T12:51:01.480\"\n",
        "       - Title=\n",
        "       - Tags=\n",
        "       - AnswerCount\n",
        "       - CommentCount\n",
        "       - FavoriteCount\n",
        "   - **posthistory**.xml\n",
        "\t   - Id\n",
        "\t   - PostHistoryTypeId\n",
        "\t\t\t- 1: Initial Title - The first title a question is asked with.\n",
        "\t\t\t- 2: Initial Body - The first raw body text a post is submitted with.\n",
        "\t\t\t- 3: Initial Tags - The first tags a question is asked with.\n",
        "\t\t\t- 4: Edit Title - A question's title has been changed.\n",
        "\t\t\t- 5: Edit Body - A post's body has been changed, the raw text is stored here as markdown.\n",
        "\t\t\t- 6: Edit Tags - A question's tags have been changed.\n",
        "\t\t\t- 7: Rollback Title - A question's title has reverted to a previous version.\n",
        "\t\t\t- 8: Rollback Body - A post's body has reverted to a previous version - the raw text is stored here.\n",
        "\t\t\t- 9: Rollback Tags - A question's tags have reverted to a previous version.\n",
        "\t\t\t- 10: Post Closed - A post was voted to be closed.\n",
        "\t\t\t- 11: Post Reopened - A post was voted to be reopened.\n",
        "\t\t\t- 12: Post Deleted - A post was voted to be removed.\n",
        "\t\t\t- 13: Post Undeleted - A post was voted to be restored.\n",
        "\t\t\t- 14: Post Locked - A post was locked by a moderator.\n",
        "\t\t\t- 15: Post Unlocked - A post was unlocked by a moderator.\n",
        "\t\t\t- 16: Community Owned - A post has become community owned.\n",
        "\t\t\t- 17: Post Migrated - A post was migrated.\n",
        "\t\t\t- 18: Question Merged - A question has had another, deleted question merged into itself.\n",
        "\t\t\t- 19: Question Protected - A question was protected by a moderator\n",
        "\t\t\t- 20: Question Unprotected - A question was unprotected by a moderator\n",
        "\t\t\t- 21: Post Disassociated - An admin removes the OwnerUserId from a post.\n",
        "\t\t\t- 22: Question Unmerged - A previously merged question has had its answers and votes restored.\n",
        "\t\t- PostId\n",
        "\t\t- RevisionGUID: At times more than one type of history record can be recorded by a single action.  All of these will be grouped using the same RevisionGUID\n",
        "\t\t- CreationDate: \"2009-03-05T22:28:34.823\"\n",
        "\t\t- UserId\n",
        "\t\t- UserDisplayName: populated if a user has been removed and no longer referenced by user Id\n",
        "\t\t- Comment: This field will contain the comment made by the user who edited a post\n",
        "\t\t- Text: A raw version of the new value for a given revision\n",
        "\t\t\t- If PostHistoryTypeId = 10, 11, 12, 13, 14, or 15  this column will contain a JSON encoded string with all users who have voted for the PostHistoryTypeId\n",
        "\t\t\t- If PostHistoryTypeId = 17 this column will contain migration details of either \"from <url>\" or \"to <url>\"\n",
        "\t\t- CloseReasonId\n",
        "\t\t\t- 1: Exact Duplicate - This question covers exactly the same ground as earlier questions on this topic; its answers may be merged with another identical question.\n",
        "\t\t\t- 2: off-topic\n",
        "\t\t\t- 3: subjective\n",
        "\t\t\t- 4: not a real question\n",
        "\t\t\t- 7: too localized\n",
        "   - **postlinks**.xml\n",
        "     - Id\n",
        "     - CreationDate\n",
        "     - PostId\n",
        "     - RelatedPostId\n",
        "     - PostLinkTypeId\n",
        "       - 1: Linked\n",
        "       - 3: Duplicate\n",
        "   - **users**.xml\n",
        "     - Id\n",
        "     - Reputation\n",
        "     - CreationDate\n",
        "     - DisplayName\n",
        "     - EmailHash\n",
        "     - LastAccessDate\n",
        "     - WebsiteUrl\n",
        "     - Location\n",
        "     - Age\n",
        "     - AboutMe\n",
        "     - Views\n",
        "     - UpVotes\n",
        "     - DownVotes\n",
        "   - **votes**.xml\n",
        "     - Id\n",
        "     - PostId\n",
        "     - VoteTypeId\n",
        "        - ` 1`: AcceptedByOriginator\n",
        "        - ` 2`: UpMod\n",
        "        - ` 3`: DownMod\n",
        "        - ` 4`: Offensive\n",
        "        - ` 5`: Favorite - if VoteTypeId = 5 UserId will be populated\n",
        "        - ` 6`: Close\n",
        "        - ` 7`: Reopen\n",
        "        - ` 8`: BountyStart\n",
        "        - ` 9`: BountyClose\n",
        "        - `10`: Deletion\n",
        "        - `11`: Undeletion\n",
        "        - `12`: Spam\n",
        "        - `13`: InformModerator\n",
        "     - CreationDate\n",
        "     - UserId (only for VoteTypeId 5)\n",
        "     - BountyAmount (only for VoteTypeId 9)"
      ]
    },
    {
      "cell_type": "code",
      "execution_count": 16,
      "metadata": {
        "id": "c5hJC4G4XK3A"
      },
      "outputs": [],
      "source": [
        "import csv\n",
        "from datetime import datetime\n",
        "\n",
        "def csv_to_mongo(file, coll):\n",
        "    \"\"\"\n",
        "    Carga un fichero CSV en Mongo. file especifica el fichero, coll la colección\n",
        "    dentro de la base de datos, y date_cols las columnas que serán interpretadas\n",
        "    como fechas.\n",
        "    \"\"\"\n",
        "    # Convertir todos los elementos que se puedan a números\n",
        "    def to_numeric(d):\n",
        "        try:\n",
        "            return int(d)\n",
        "        except ValueError:\n",
        "            try:\n",
        "                return float(d)\n",
        "            except ValueError:\n",
        "                return d\n",
        "\n",
        "    def to_date(d):\n",
        "        \"\"\"To ISO Date. If this cannot be converted, return NULL (None)\"\"\"\n",
        "        try:\n",
        "            return datetime.strptime(d, \"%Y-%m-%dT%H:%M:%S.%f\")\n",
        "        except ValueError:\n",
        "            return None\n",
        "\n",
        "    coll.drop()\n",
        "\n",
        "    with open(file, encoding='utf-8') as f:\n",
        "        # La llamada csv.reader() crea un iterador sobre un fichero CSV\n",
        "        reader = csv.reader(f, dialect='excel')\n",
        "\n",
        "        # Se leen las columnas. Sus nombres se usarán para crear las diferentes columnas en la familia\n",
        "        columns = next(reader)\n",
        "\n",
        "        # Las columnas que contienen 'Date' se interpretan como fechas\n",
        "        func_to_cols = list(map(lambda c: to_date if 'date' in c.lower() else to_numeric, columns))\n",
        "\n",
        "        docs=[]\n",
        "        for row in reader:\n",
        "            row = [func(e) for (func,e) in zip(func_to_cols, row)]\n",
        "            docs.append(dict(zip(columns, row)))\n",
        "        coll.insert_many(docs)"
      ]
    },
    {
      "cell_type": "code",
      "execution_count": 17,
      "metadata": {
        "id": "6_aUDmh6U9vp"
      },
      "outputs": [],
      "source": [
        "import gzip\n",
        "from urllib.request import Request,urlopen\n",
        "import io\n",
        "import os\n",
        "import os.path as path\n",
        "\n",
        "def download_csv(baseurl, filename):\n",
        "    \"\"\"\n",
        "    Descarga el CSV especificado, que estará comprimido con GZIP. Lo\n",
        "    descomprime y lo guarda en el directorio actual dado por `filename`.\n",
        "    \"\"\"\n",
        "    file = path.abspath(path.join(os.getcwd(),filename))\n",
        "    request = Request(baseurl + filename + '.gz')\n",
        "    response = urlopen(request)\n",
        "    buf = io.BytesIO(response.read())\n",
        "    f = gzip.GzipFile(fileobj=buf)\n",
        "    data = f.read()\n",
        "    with open (filename, 'wb') as ff:\n",
        "      ff.write(data)\n",
        "\n",
        "baseurl = 'https://raw.githubusercontent.com/dsevilla/bdge-data/master/es.stackoverflow/'\n",
        "download_csv(baseurl, 'Posts.csv')\n",
        "download_csv(baseurl, 'Users.csv')\n",
        "download_csv(baseurl, 'Tags.csv')\n",
        "download_csv(baseurl, 'Comments.csv')\n",
        "download_csv(baseurl, 'Votes.csv')"
      ]
    },
    {
      "cell_type": "markdown",
      "metadata": {
        "id": "UjFA83uvXK3M"
      },
      "source": [
        "Las bases de datos se crean conforme se nombran. Se puede utilizar la notación punto o la de diccionario. Las colecciones también."
      ]
    },
    {
      "cell_type": "code",
      "execution_count": 18,
      "metadata": {
        "id": "HymD7vS1XK3N",
        "colab": {
          "base_uri": "https://localhost:8080/"
        },
        "outputId": "daa8cbfa-01ff-4fa6-b606-8f990b33604d"
      },
      "outputs": [
        {
          "output_type": "execute_result",
          "data": {
            "text/plain": [
              "Database(MongoClient(host=['localhost:27017'], document_class=dict, tz_aware=False, connect=True), 'stackoverflow')"
            ]
          },
          "metadata": {},
          "execution_count": 18
        }
      ],
      "source": [
        "db = client.stackoverflow\n",
        "db = client['stackoverflow']\n",
        "db"
      ]
    },
    {
      "cell_type": "markdown",
      "metadata": {
        "id": "iUTaeq9LXK3R"
      },
      "source": [
        "Las bases de datos están compuestas por un conjunto de **colecciones**. Cada colección aglutina a un conjunto de objetos (documentos) del mismo tipo, aunque como vimos en teoría, cada documento puede tener un conjunto de atributos diferente."
      ]
    },
    {
      "cell_type": "code",
      "execution_count": 19,
      "metadata": {
        "id": "q3MS76ltXK3T",
        "colab": {
          "base_uri": "https://localhost:8080/"
        },
        "outputId": "76e0cff4-d3a0-469a-acda-913fcca78adf"
      },
      "outputs": [
        {
          "output_type": "execute_result",
          "data": {
            "text/plain": [
              "Collection(Database(MongoClient(host=['localhost:27017'], document_class=dict, tz_aware=False, connect=True), 'stackoverflow'), 'posts')"
            ]
          },
          "metadata": {},
          "execution_count": 19
        }
      ],
      "source": [
        "posts = db.posts\n",
        "posts"
      ]
    },
    {
      "cell_type": "markdown",
      "metadata": {
        "id": "jVz9DkvlXK3X"
      },
      "source": [
        "Importación de los ficheros CSV. Por ahora creamos una colección diferente para cada uno. Después estudiaremos cómo poder optimizar el acceso usando agregación."
      ]
    },
    {
      "cell_type": "code",
      "execution_count": 20,
      "metadata": {
        "id": "Xd8DOMERXK3Y"
      },
      "outputs": [],
      "source": [
        "csv_to_mongo('Posts.csv',db.posts)"
      ]
    },
    {
      "cell_type": "code",
      "execution_count": 21,
      "metadata": {
        "id": "0MUQZUdeXK3d"
      },
      "outputs": [],
      "source": [
        "csv_to_mongo('Users.csv',db.users)"
      ]
    },
    {
      "cell_type": "code",
      "execution_count": 22,
      "metadata": {
        "id": "Zko9SDIaXK3g"
      },
      "outputs": [],
      "source": [
        "csv_to_mongo('Votes.csv',db.votes)"
      ]
    },
    {
      "cell_type": "code",
      "execution_count": 23,
      "metadata": {
        "id": "xUdHYFeMXK3k"
      },
      "outputs": [],
      "source": [
        "csv_to_mongo('Comments.csv',db.comments)"
      ]
    },
    {
      "cell_type": "code",
      "execution_count": 24,
      "metadata": {
        "id": "Iqs7InmnXK3o"
      },
      "outputs": [],
      "source": [
        "csv_to_mongo('Tags.csv',db.tags)"
      ]
    },
    {
      "cell_type": "code",
      "execution_count": 25,
      "metadata": {
        "id": "fqMlbZ13XK3s",
        "colab": {
          "base_uri": "https://localhost:8080/"
        },
        "outputId": "66f3457e-eff8-476b-914a-721236a8d566"
      },
      "outputs": [
        {
          "output_type": "execute_result",
          "data": {
            "text/plain": [
              "76278"
            ]
          },
          "metadata": {},
          "execution_count": 25
        }
      ],
      "source": [
        "posts.count_documents({})"
      ]
    },
    {
      "cell_type": "markdown",
      "metadata": {
        "id": "NP7ojzBzXK3v"
      },
      "source": [
        "### El API de colección de MongoDB\n",
        "\n",
        "El API de colección en Python se puede encontrar aquí: https://docs.mongodb.com/drivers/pymongo/. La mayoría de libros y referencias muestran el uso de mongo desde Javascript, ya que el *shell* de MongoDB acepta ese lenguaje. La sintaxis con respecto a Python cambia un poco, y se puede seguir en el enlace anterior. Existe incluso un curso de la MongoDB University que se puede realizar de forma gratuita: https://learn.mongodb.com/learning-paths/using-mongodb-with-python"
      ]
    },
    {
      "cell_type": "code",
      "execution_count": 26,
      "metadata": {
        "id": "MQ9FdKC2XK3v",
        "scrolled": true,
        "colab": {
          "base_uri": "https://localhost:8080/"
        },
        "outputId": "6c63ff5c-ebfe-4800-f41b-3f270b3f177e"
      },
      "outputs": [
        {
          "output_type": "execute_result",
          "data": {
            "text/plain": [
              "{'_id': ObjectId('653a79556adce16b55c6cce7'),\n",
              " 'Id': 1,\n",
              " 'AcceptedAnswerId': 2,\n",
              " 'AnswerCount': 1,\n",
              " 'Body': '<p>Estoy creando un servicio usando ASP.NET WebApi. Quiero añadir soporte para negociación del tipo de contenido basado en extensiones en el URI, así que he añadido lo siguiente al código de inicialización del servicio:</p><br/><br/><pre><code>public static class WebApiConfig<br/>{<br/>  public static void Register(HttpConfiguration config)<br/>  {<br/>    config.Formatters.JsonFormatter.AddUriPathExtensionMapping(\"json\", \"application/json\");<br/>    config.Formatters.XmlFormatter.AddUriPathExtensionMapping(\"xml\", \"application/xml\");<br/>  }<br/>}<br/></code></pre><br/><br/><p>Para que esto funcione necesito crear dos rutas para cada acción del controlador (estoy usando exclusivamente enrutamiento basado en atributos):</p><br/><br/><pre><code>[Route(\"item/{id}/details\")]<br/>[Route(\"item/{id}/details.{ext}\")]<br/>[HttpGet]<br/>public ItemDetail[] GetItemDetails(int id)<br/>{<br/>  return itemsService.GetItemDetails(id);<br/>}<br/><br/>[Route(\"item/{name}\")]<br/>[Route(\"item/{name}.{ext}\")]<br/>[HttpPost]<br/>public int CreateItem(string name)<br/>{<br/>  return itemsService.Create(name);<br/>}<br/></code></pre><br/><br/><p>Esto queda feo y hace que el código sea innecesariamente largo, así que investigué una forma de añadir la ruta con la extensión, automáticamente cuando se crea la ruta normal. Como resultado desarrollé una implementación personalizada de <code>IDirectRouteProvider</code> que puedo usar al registrar los atributos de ruta:</p><br/><br/><pre><code>config.MapHttpAttributeRoutes(new AutomaticExtensionRouteProvider());<br/></code></pre><br/><br/><p>El código del proveedor personalizado es:</p><br/><br/><pre><code>public class AutomaticExtensionRouteProvider : DefaultDirectRouteProvider<br/>{<br/>    protected override IReadOnlyList<RouteEntry> GetActionDirectRoutes(<br/>      HttpActionDescriptor actionDescriptor,<br/>      IReadOnlyList<IDirectRouteFactory> factories,<br/>      IInlineConstraintResolver constraintResolver)<br/>    {<br/>        var result = base.GetActionDirectRoutes(actionDescriptor, factories, constraintResolver);<br/>        var list = new List<RouteEntry>(result);<br/>        foreach(var route in result.Where(r => !r.Route.RouteTemplate.EndsWith(\".{ext}\")))<br/>        {<br/>            var newTemplate = route.Route.RouteTemplate + \".{ext}\";<br/>            if (!result.Any(r => r.Route.RouteTemplate == newTemplate))<br/>            {<br/>                var entry = new RouteEntry(null, new HttpRoute(newTemplate,<br/>                    new HttpRouteValueDictionary(route.Route.Defaults),<br/>                    new HttpRouteValueDictionary(route.Route.Constraints),<br/>                    new HttpRouteValueDictionary(route.Route.DataTokens)));<br/>                list.Add(entry);<br/>            }<br/>        }<br/>        return list.AsReadOnly();<br/>    }<br/>}<br/></code></pre><br/><br/><p>El problema es que esto funciona bien... pero falla en un caso: <strong>cuando la última parte de la ruta es un parámetro sin restricciones</strong>. Así pues, en el ejemplo anterior, la creación de rutas para <code>GetItemDetails</code> funciona, pero para <code>CreateItem</code> lanza lo siguiente:</p><br/><br/><pre><code>System.InvalidOperationException: Multiple actions were found that match the request: <br/>CreateItem on type FooBar.Api.Controllers.ItemsController<br/>CreateItem on type FooBar.Api.Controllers.ItemsController<br/>   at System.Web.Http.Controllers.ApiControllerActionSelector.ActionSelectorCacheItem.SelectAction(HttpControllerContext controllerContext)<br/>   at System.Web.Http.Controllers.ApiControllerActionSelector.SelectAction(HttpControllerContext controllerContext)<br/></code></pre><br/><br/><p>Me imagino de donde puede venir el problema: una cadena arbitraria cumple los patrones <code>{name}</code> y <code>{name}.{ext}</code>, por lo que el motor de WebApi se atraganta al intentar seleccionar la ruta adecuada. <strong>Pero entonces, ¿por qué funciona cuando se especifican las dos rutas explícitamente en atributos?</strong> Por lo que yo entiendo, la ruta que yo creo en la clase <code>AutomaticExtensionRouteProvider</code> es idéntica a la que se crea explícitamente con un atributo (y si depuro veo que en efecto así es).</p><br/><br/><p>Así pues, ¿qué está pasando aquí?</p><br/>',\n",
              " 'ClosedDate': None,\n",
              " 'CommentCount': 2,\n",
              " 'CommunityOwnedDate': None,\n",
              " 'CreationDate': datetime.datetime(2015, 10, 29, 15, 56, 52, 933000),\n",
              " 'FavoriteCount': '',\n",
              " 'LastActivityDate': datetime.datetime(2016, 9, 27, 17, 44, 28, 253000),\n",
              " 'LastEditDate': datetime.datetime(2016, 9, 27, 17, 44, 28, 253000),\n",
              " 'LastEditorDisplayName': '',\n",
              " 'LastEditorUserId': 729,\n",
              " 'OwnerDisplayName': '',\n",
              " 'OwnerUserId': 23,\n",
              " 'ParentId': '',\n",
              " 'PostTypeId': 1,\n",
              " 'Score': 10,\n",
              " 'Tags': '<.net><asp.net-web-api><asp.net>',\n",
              " 'Title': 'La creación manual de un alias de ruta con un DirectRouteProvider personalizado causa un error \"Multiple actions were found that match the request\"',\n",
              " 'ViewCount': 174}"
            ]
          },
          "metadata": {},
          "execution_count": 26
        }
      ],
      "source": [
        "post = posts.find_one()\n",
        "post"
      ]
    },
    {
      "cell_type": "markdown",
      "metadata": {
        "id": "0BlhT5EXXK3y"
      },
      "source": [
        "Utilizo la librería `pp` para imprimir los objetos grandes de una manera amigable."
      ]
    },
    {
      "cell_type": "code",
      "execution_count": 27,
      "metadata": {
        "id": "PdeMzw8MXK3z",
        "scrolled": true,
        "colab": {
          "base_uri": "https://localhost:8080/"
        },
        "outputId": "25b04831-86fd-4d7e-a665-0e81f0023597"
      },
      "outputs": [
        {
          "output_type": "stream",
          "name": "stdout",
          "text": [
            "{'AboutMe': '<p>Hola, no soy una persona real.</p><br/><br/><p>¡Soy un proceso '\n",
            "            'que ayuda a mantener el sitio limpio!</p><br/><br/><p>Hago cosas '\n",
            "            'como:</p><br/><br/><ul><br/><li>Dar empujoncitos a preguntas '\n",
            "            'antiguas sin respuesta aproximadamente cada hora, para que '\n",
            "            'atraigan algo de atención.</li><br/><li>Tener la propiedad de las '\n",
            "            'preguntas y respuestas wiki para que nadie se lleve reputación '\n",
            "            'por ellas</li><br/><li>Recibir la propiedad de los votos '\n",
            "            'negativos en las publicaciones de spam o dañinas que son borradas '\n",
            "            'permanentemente</li><br/><li>Tener la propiedad de las ediciones '\n",
            "            'sugeridas por usuarios anónimos</li><br/><li><a '\n",
            "            'href=\"http://meta.stackoverflow.com/a/92006\">Quitar preguntas '\n",
            "            'abandonadas</a></li><br/></ul><br/>',\n",
            " 'AccountId': -1,\n",
            " 'Age': 17,\n",
            " 'CreationDate': datetime.datetime(2015, 10, 26, 21, 36, 24, 767000),\n",
            " 'DisplayName': 'Comunidad',\n",
            " 'DownVotes': 2889,\n",
            " 'Id': -1,\n",
            " 'LastAccessDate': datetime.datetime(2015, 10, 26, 21, 36, 24, 767000),\n",
            " 'Location': 'en la granja de servidores',\n",
            " 'ProfileImageUrl': '',\n",
            " 'Reputation': 1,\n",
            " 'UpVotes': 164,\n",
            " 'Views': 0,\n",
            " 'WebsiteUrl': '',\n",
            " '_id': ObjectId('653a795a6adce16b55c7f6dd')}\n"
          ]
        }
      ],
      "source": [
        "users = db.users\n",
        "pp(users.find_one())"
      ]
    },
    {
      "cell_type": "markdown",
      "metadata": {
        "id": "bIE2Gv9sXK32"
      },
      "source": [
        "A cada objeto se le asigna una clave implícita con nombre \"`_id`\" (si el objeto no lo incluye)."
      ]
    },
    {
      "cell_type": "code",
      "execution_count": 28,
      "metadata": {
        "id": "H9aJ6YSAXK32",
        "colab": {
          "base_uri": "https://localhost:8080/"
        },
        "outputId": "e06763a6-459c-4663-c0c1-b576134fd68b"
      },
      "outputs": [
        {
          "output_type": "stream",
          "name": "stdout",
          "text": [
            "<class 'bson.objectid.ObjectId'>\n"
          ]
        },
        {
          "output_type": "execute_result",
          "data": {
            "text/plain": [
              "ObjectId('653a79556adce16b55c6cce7')"
            ]
          },
          "metadata": {},
          "execution_count": 28
        }
      ],
      "source": [
        "print (type(post['_id']))\n",
        "post['_id']"
      ]
    },
    {
      "cell_type": "markdown",
      "metadata": {
        "id": "n-PbOm7HXK36"
      },
      "source": [
        "La siguiente sintaxis está descatalogada en las nuevas versiones, pero era más conveniente:"
      ]
    },
    {
      "cell_type": "code",
      "execution_count": null,
      "metadata": {
        "id": "-Tn9YI4kXK36",
        "scrolled": true
      },
      "outputs": [],
      "source": [
        "#posts.save(post)"
      ]
    },
    {
      "cell_type": "markdown",
      "metadata": {
        "id": "IiQ1Wl3QXK3-"
      },
      "source": [
        "Ahora hay que hacerlo así (el resultado será 0 porque el documento no ha sido modificado desde que se leyó, pero sería 1 si el documento se modificó):"
      ]
    },
    {
      "cell_type": "code",
      "execution_count": 29,
      "metadata": {
        "id": "Uk21YQGyXK3-",
        "colab": {
          "base_uri": "https://localhost:8080/"
        },
        "outputId": "c1377059-4525-43a4-a9ec-ed799e9c7f7c"
      },
      "outputs": [
        {
          "output_type": "execute_result",
          "data": {
            "text/plain": [
              "0"
            ]
          },
          "metadata": {},
          "execution_count": 29
        }
      ],
      "source": [
        "result = posts.replace_one({\"_id\": post['_id']}, post)\n",
        "result.modified_count"
      ]
    },
    {
      "cell_type": "code",
      "execution_count": 31,
      "metadata": {
        "id": "k7CsMmRhXK4D",
        "colab": {
          "base_uri": "https://localhost:8080/"
        },
        "outputId": "f61d2e64-00d1-409d-a833-ed9ba976ddf4"
      },
      "outputs": [
        {
          "output_type": "stream",
          "name": "stdout",
          "text": [
            "{'AcceptedAnswerId': '',\n",
            " 'AnswerCount': '',\n",
            " 'Body': '<p><strong><em><a href=\"https://angularjs.org/\" '\n",
            "         'rel=\"nofollow\">AngularJS</a></em></strong> es un framework de '\n",
            "         'JavaScript de código abierto.</p><br/><br/><p>Este framework adapta '\n",
            "         'y amplía el HTML tradicional para servir mejor contenido dinámico a '\n",
            "         'través de un data-binding bidireccional que permite la '\n",
            "         'sincronización automática de modelos y '\n",
            "         'vistas.</p><br/><br/><p>AngularJS fue desarrollado y es mantenido '\n",
            "         'por Google, y se utiliza <a '\n",
            "         'href=\"https://docs.google.com/presentation/d/1-M5U0B6JI2JKU2ibVmU-xKkR7a88Uz1ZN0pc2lEuGzE/edit?pli=1#slide=id.g48b143717_069\" '\n",
            "         'rel=\"nofollow\">internamente por 1600+ aplicaciones</a>. La versión '\n",
            "         'inicial se llevó a cabo en '\n",
            "         '2009.</p><br/><br/><h2>Filosofía</h2><br/><br/><ul><br/><li>La '\n",
            "         'filosofía angularjs anima a los desarrolladores a crear sus propias '\n",
            "         'directivas, convirtiendo el HTML en un <a '\n",
            "         'href=\"https://es.wikipedia.org/wiki/Lenguaje_espec%C3%ADfico_del_dominio\" '\n",
            "         'rel=\"nofollow\">DSL</a> adecuado para la construcción de su tipo de '\n",
            "         'aplicación. El resultado reduce significativamente la cantidad y '\n",
            "         'complejidad de JavaScript necesario para construir aplicaciones '\n",
            "         'web.</li><br/><li>La filosofía angularjs es que la interfaz de '\n",
            "         'usuario se describe mejor en forma declarativa (HTML), y que el '\n",
            "         'comportamiento se describe mejor en forma imperativa (JavaScript) y '\n",
            "         'que los dos nunca se '\n",
            "         'reúnan.</li><br/></ul><br/><br/><h2>Versiones</h2><br/><br/><p><strong>AngularJS '\n",
            "         'notables versiones, nombres en clave y las fechas de lanzamiento '\n",
            "         'son:</strong></p><br/><br/><pre class=\"lang-none '\n",
            "         'prettyprint-override\"><code>AngularJS 1.0.0 '\n",
            "         '[temporal-domination]      (6 de junio de 2012)<br/>AngularJS 1.1.0 '\n",
            "         '[increase-gravatas]        (31 de agosto de 2012)<br/>AngularJS '\n",
            "         '1.2.0 [timely-delivery]          (8 de noviembre de '\n",
            "         '2013)<br/>AngularJS 1.3.0 [superluminal-nudge]       (13 de octubre '\n",
            "         'de 2014)<br/>AngularJS 1.4.0 [jaracimrman-existence]    (26 de mayo '\n",
            "         'de 2015)<br/>AngularJS 1.5.0 [ennoblement-facilitation] (05 de '\n",
            "         'Febrero de 2016)<br/></code></pre><br/><br/><p><strong>La última '\n",
            "         'versión estable:</strong></p><br/><br/><pre class=\"lang-none '\n",
            "         'prettyprint-override\"><code>AngularJS 1.5.8 '\n",
            "         '[arbitrary-fallbacks]      (22 de Julio de '\n",
            "         '2016)<br/></code></pre><br/><br/><p><strong>Actualmente en '\n",
            "         'desarrollo</strong></p><br/><br/><pre class=\"lang-none '\n",
            "         'prettyprint-override\"><code>AngularJS '\n",
            "         '2.0.0<br/></code></pre><br/><br/><p><sup>*<a '\n",
            "         'href=\"https://github.com/angular/angular\" rel=\"nofollow\">Candidata a '\n",
            "         'lanzamiento en '\n",
            "         'GitHub</a></sup></p><br/><br/><h2>Referencias</h2><br/><br/><ol><br/><li><a '\n",
            "         'href=\"https://angularjs.org/\" rel=\"nofollow\">Sitio '\n",
            "         'oficial</a></li><br/><li><a '\n",
            "         'href=\"http://tombatossals.github.io/angularjs-tutorial/#/\" '\n",
            "         'rel=\"nofollow\">Tutorial sencillo de AngularJS '\n",
            "         '(tombatossals.github.io)</a></li><br/><li><a '\n",
            "         'href=\"http://www.desarrolloweb.com/manuales/manual-angularjs.html\" '\n",
            "         'rel=\"nofollow\">Manual de AngularJS '\n",
            "         '(desarrolloweb.com)</a></li><br/><li><a '\n",
            "         'href=\"https://docs.angularjs.org/tutorial\" rel=\"nofollow\">Tutorial '\n",
            "         'oficial (<em>inglés</em>)</a></li><br/><li><a '\n",
            "         'href=\"https://docs.angularjs.org/api\" rel=\"nofollow\">Documentación '\n",
            "         'de APIs (<em>inglés</em>)</a></li><br/><li><a '\n",
            "         'href=\"https://docs.angularjs.org/guide\" rel=\"nofollow\">Manual para '\n",
            "         'el desarrollador (<em>inglés</em>)</a></li><br/><li><a '\n",
            "         'href=\"https://dashboard.angularjs.org/\" rel=\"nofollow\">Dashboard '\n",
            "         '(<em>inglés</em>)</a></li><br/></ol><br/>',\n",
            " 'ClosedDate': None,\n",
            " 'CommentCount': 0,\n",
            " 'CommunityOwnedDate': None,\n",
            " 'CreationDate': datetime.datetime(2015, 10, 31, 2, 13, 17, 220000),\n",
            " 'FavoriteCount': '',\n",
            " 'Id': 21,\n",
            " 'LastActivityDate': datetime.datetime(2016, 9, 2, 11, 21, 0, 667000),\n",
            " 'LastEditDate': datetime.datetime(2016, 9, 2, 11, 21, 0, 667000),\n",
            " 'LastEditorDisplayName': '',\n",
            " 'LastEditorUserId': 127,\n",
            " 'OwnerDisplayName': '',\n",
            " 'OwnerUserId': 24,\n",
            " 'ParentId': '',\n",
            " 'PostTypeId': 5,\n",
            " 'Score': 0,\n",
            " 'Tags': '',\n",
            " 'Title': '',\n",
            " 'ViewCount': '',\n",
            " '_id': ObjectId('653a79556adce16b55c6ccfa')}\n"
          ]
        }
      ],
      "source": [
        "post = posts.find_one({\"Id\": 21})\n",
        "pp(post)"
      ]
    },
    {
      "cell_type": "code",
      "execution_count": 32,
      "metadata": {
        "id": "N3UfvDXNXK4G",
        "scrolled": true,
        "colab": {
          "base_uri": "https://localhost:8080/"
        },
        "outputId": "285e01b5-0251-4016-b3be-bcc85ec06baa"
      },
      "outputs": [
        {
          "output_type": "stream",
          "name": "stdout",
          "text": [
            "_id: 653a79556adce16b55c6ccfa\n",
            "Id: 21\n",
            "AcceptedAnswerId: \n",
            "AnswerCount: \n",
            "Body: <p><strong><em><a href=\"https://angularjs.org/\" rel=\"nofollow\">AngularJS</a></em></strong> es un framework de JavaScript de código abierto.</p><br/><br/><p>Este framework adapta y amplía el HTML tradicional para servir mejor contenido dinámico a través de un data-binding bidireccional que permite la sincronización automática de modelos y vistas.</p><br/><br/><p>AngularJS fue desarrollado y es mantenido por Google, y se utiliza <a href=\"https://docs.google.com/presentation/d/1-M5U0B6JI2JKU2ibVmU-xKkR7a88Uz1ZN0pc2lEuGzE/edit?pli=1#slide=id.g48b143717_069\" rel=\"nofollow\">internamente por 1600+ aplicaciones</a>. La versión inicial se llevó a cabo en 2009.</p><br/><br/><h2>Filosofía</h2><br/><br/><ul><br/><li>La filosofía angularjs anima a los desarrolladores a crear sus propias directivas, convirtiendo el HTML en un <a href=\"https://es.wikipedia.org/wiki/Lenguaje_espec%C3%ADfico_del_dominio\" rel=\"nofollow\">DSL</a> adecuado para la construcción de su tipo de aplicación. El resultado reduce significativamente la cantidad y complejidad de JavaScript necesario para construir aplicaciones web.</li><br/><li>La filosofía angularjs es que la interfaz de usuario se describe mejor en forma declarativa (HTML), y que el comportamiento se describe mejor en forma imperativa (JavaScript) y que los dos nunca se reúnan.</li><br/></ul><br/><br/><h2>Versiones</h2><br/><br/><p><strong>AngularJS notables versiones, nombres en clave y las fechas de lanzamiento son:</strong></p><br/><br/><pre class=\"lang-none prettyprint-override\"><code>AngularJS 1.0.0 [temporal-domination]      (6 de junio de 2012)<br/>AngularJS 1.1.0 [increase-gravatas]        (31 de agosto de 2012)<br/>AngularJS 1.2.0 [timely-delivery]          (8 de noviembre de 2013)<br/>AngularJS 1.3.0 [superluminal-nudge]       (13 de octubre de 2014)<br/>AngularJS 1.4.0 [jaracimrman-existence]    (26 de mayo de 2015)<br/>AngularJS 1.5.0 [ennoblement-facilitation] (05 de Febrero de 2016)<br/></code></pre><br/><br/><p><strong>La última versión estable:</strong></p><br/><br/><pre class=\"lang-none prettyprint-override\"><code>AngularJS 1.5.8 [arbitrary-fallbacks]      (22 de Julio de 2016)<br/></code></pre><br/><br/><p><strong>Actualmente en desarrollo</strong></p><br/><br/><pre class=\"lang-none prettyprint-override\"><code>AngularJS 2.0.0<br/></code></pre><br/><br/><p><sup>*<a href=\"https://github.com/angular/angular\" rel=\"nofollow\">Candidata a lanzamiento en GitHub</a></sup></p><br/><br/><h2>Referencias</h2><br/><br/><ol><br/><li><a href=\"https://angularjs.org/\" rel=\"nofollow\">Sitio oficial</a></li><br/><li><a href=\"http://tombatossals.github.io/angularjs-tutorial/#/\" rel=\"nofollow\">Tutorial sencillo de AngularJS (tombatossals.github.io)</a></li><br/><li><a href=\"http://www.desarrolloweb.com/manuales/manual-angularjs.html\" rel=\"nofollow\">Manual de AngularJS (desarrolloweb.com)</a></li><br/><li><a href=\"https://docs.angularjs.org/tutorial\" rel=\"nofollow\">Tutorial oficial (<em>inglés</em>)</a></li><br/><li><a href=\"https://docs.angularjs.org/api\" rel=\"nofollow\">Documentación de APIs (<em>inglés</em>)</a></li><br/><li><a href=\"https://docs.angularjs.org/guide\" rel=\"nofollow\">Manual para el desarrollador (<em>inglés</em>)</a></li><br/><li><a href=\"https://dashboard.angularjs.org/\" rel=\"nofollow\">Dashboard (<em>inglés</em>)</a></li><br/></ol><br/>\n",
            "ClosedDate: None\n",
            "CommentCount: 0\n",
            "CommunityOwnedDate: None\n",
            "CreationDate: 2015-10-31 02:13:17.220000\n",
            "FavoriteCount: \n",
            "LastActivityDate: 2016-09-02 11:21:00.667000\n",
            "LastEditDate: 2016-09-02 11:21:00.667000\n",
            "LastEditorDisplayName: \n",
            "LastEditorUserId: 127\n",
            "OwnerDisplayName: \n",
            "OwnerUserId: 24\n",
            "ParentId: \n",
            "PostTypeId: 5\n",
            "Score: 0\n",
            "Tags: \n",
            "Title: \n",
            "ViewCount: \n"
          ]
        }
      ],
      "source": [
        "for k,v in post.items():\n",
        "    print(\"%s: %s\" % (k,v))"
      ]
    },
    {
      "cell_type": "markdown",
      "metadata": {
        "id": "IVShFHvnXK4J"
      },
      "source": [
        "Además de `find_one()`, la función principal de búsqueda es `find()`. Esta función ofrece un conjunto muy ámplio de opciones para búsqueda, que estudiaremos a continuación.\n",
        "\n",
        "Primero, una consulta sencilla, con el valor de un campo:"
      ]
    },
    {
      "cell_type": "code",
      "execution_count": 33,
      "metadata": {
        "id": "2PKMP9d1XK4J",
        "colab": {
          "base_uri": "https://localhost:8080/"
        },
        "outputId": "fb9071f7-ebb7-4c66-c249-138e7145890e"
      },
      "outputs": [
        {
          "output_type": "execute_result",
          "data": {
            "text/plain": [
              "41513"
            ]
          },
          "metadata": {},
          "execution_count": 33
        }
      ],
      "source": [
        "posts.count_documents({'PostTypeId':2})"
      ]
    },
    {
      "cell_type": "markdown",
      "metadata": {
        "id": "jTBq7CmiXK4N"
      },
      "source": [
        "También existe `explain()`, al estilo de SQL."
      ]
    },
    {
      "cell_type": "code",
      "execution_count": 34,
      "metadata": {
        "id": "m0iF81EEXK4N",
        "scrolled": true,
        "colab": {
          "base_uri": "https://localhost:8080/"
        },
        "outputId": "9a31088a-2fd3-4523-dc78-d068a44ec31f"
      },
      "outputs": [
        {
          "output_type": "execute_result",
          "data": {
            "text/plain": [
              "{'explainVersion': '1',\n",
              " 'queryPlanner': {'namespace': 'stackoverflow.posts',\n",
              "  'indexFilterSet': False,\n",
              "  'parsedQuery': {'PostTypeId': {'$eq': 2}},\n",
              "  'queryHash': 'D22C2013',\n",
              "  'planCacheKey': 'D22C2013',\n",
              "  'maxIndexedOrSolutionsReached': False,\n",
              "  'maxIndexedAndSolutionsReached': False,\n",
              "  'maxScansToExplodeReached': False,\n",
              "  'winningPlan': {'stage': 'COLLSCAN',\n",
              "   'filter': {'PostTypeId': {'$eq': 2}},\n",
              "   'direction': 'forward'},\n",
              "  'rejectedPlans': []},\n",
              " 'executionStats': {'executionSuccess': True,\n",
              "  'nReturned': 41513,\n",
              "  'executionTimeMillis': 74,\n",
              "  'totalKeysExamined': 0,\n",
              "  'totalDocsExamined': 76278,\n",
              "  'executionStages': {'stage': 'COLLSCAN',\n",
              "   'filter': {'PostTypeId': {'$eq': 2}},\n",
              "   'nReturned': 41513,\n",
              "   'executionTimeMillisEstimate': 8,\n",
              "   'works': 76279,\n",
              "   'advanced': 41513,\n",
              "   'needTime': 34765,\n",
              "   'needYield': 0,\n",
              "   'saveState': 76,\n",
              "   'restoreState': 76,\n",
              "   'isEOF': 1,\n",
              "   'direction': 'forward',\n",
              "   'docsExamined': 76278},\n",
              "  'allPlansExecution': []},\n",
              " 'command': {'find': 'posts',\n",
              "  'filter': {'PostTypeId': 2},\n",
              "  '$db': 'stackoverflow'},\n",
              " 'serverInfo': {'host': 'f33bc6203974',\n",
              "  'port': 27017,\n",
              "  'version': '6.0.11',\n",
              "  'gitVersion': 'f797f841eaf1759c770271ae00c88b92b2766eed'},\n",
              " 'serverParameters': {'internalQueryFacetBufferSizeBytes': 104857600,\n",
              "  'internalQueryFacetMaxOutputDocSizeBytes': 104857600,\n",
              "  'internalLookupStageIntermediateDocumentMaxSizeBytes': 104857600,\n",
              "  'internalDocumentSourceGroupMaxMemoryBytes': 104857600,\n",
              "  'internalQueryMaxBlockingSortMemoryUsageBytes': 104857600,\n",
              "  'internalQueryProhibitBlockingMergeOnMongoS': 0,\n",
              "  'internalQueryMaxAddToSetBytes': 104857600,\n",
              "  'internalDocumentSourceSetWindowFieldsMaxMemoryBytes': 104857600},\n",
              " 'ok': 1.0}"
            ]
          },
          "metadata": {},
          "execution_count": 34
        }
      ],
      "source": [
        "posts.find({\"PostTypeId\": 2}).explain()"
      ]
    },
    {
      "cell_type": "markdown",
      "metadata": {
        "id": "onM1DoExXK4Q"
      },
      "source": [
        "También se puede limitar la búsqueda."
      ]
    },
    {
      "cell_type": "code",
      "execution_count": 35,
      "metadata": {
        "id": "gbqfnOusXK4R"
      },
      "outputs": [],
      "source": [
        "respuestas = posts.find({'PostTypeId': 2}).limit(10)"
      ]
    },
    {
      "cell_type": "markdown",
      "metadata": {
        "id": "GWqOek7JXK4U"
      },
      "source": [
        "La respuesta no es un conjunto de elementos, sino un cursor que puede ir recorriéndose."
      ]
    },
    {
      "cell_type": "code",
      "execution_count": 36,
      "metadata": {
        "id": "VmIDFzQzXK4U",
        "scrolled": true,
        "colab": {
          "base_uri": "https://localhost:8080/"
        },
        "outputId": "570427d6-6ed7-416c-d11d-cfe0b431efa3"
      },
      "outputs": [
        {
          "output_type": "execute_result",
          "data": {
            "text/plain": [
              "<pymongo.cursor.Cursor at 0x78c72dbb1090>"
            ]
          },
          "metadata": {},
          "execution_count": 36
        }
      ],
      "source": [
        "respuestas"
      ]
    },
    {
      "cell_type": "code",
      "execution_count": 37,
      "metadata": {
        "id": "unyEux3PXK4X",
        "colab": {
          "base_uri": "https://localhost:8080/"
        },
        "outputId": "059b8242-4286-4e10-e68d-c2f5743a9f6b"
      },
      "outputs": [
        {
          "output_type": "execute_result",
          "data": {
            "text/plain": [
              "[{'_id': ObjectId('653a79556adce16b55c6cce8'),\n",
              "  'Id': 2,\n",
              "  'AcceptedAnswerId': '',\n",
              "  'AnswerCount': '',\n",
              "  'Body': '<p>He encontrado la solución.</p><br/><br/><p>Resulta que las rutas tienen asignada una <strong>precedencia</strong> numérica asignada, que el motor de enrutamiento de WebApi usa para decidir qué ruta usar en caso de conflicto. Las rutas creadas automáticamente para una misma acción siempre tienen una precedencia distinta, ¡pero la ruta que yo estaba creando manualmente tenía la misma precedencia que la ya existente!</p><br/><br/><p>Así pues la solución es añadir lo siguiente a <code>GetActionDirectRoutes</code>, inmediatamente después de <code>new RouteEntry</code>:</p><br/><br/><pre><code>entry.Route.DataTokens[\"precedence\"] = <br/>    ((decimal)route.Route.DataTokens[\"precedence\"]) - 0.1M;<br/></code></pre><br/>',\n",
              "  'ClosedDate': None,\n",
              "  'CommentCount': 2,\n",
              "  'CommunityOwnedDate': None,\n",
              "  'CreationDate': datetime.datetime(2015, 10, 29, 19, 14, 23, 673000),\n",
              "  'FavoriteCount': '',\n",
              "  'LastActivityDate': datetime.datetime(2015, 10, 29, 19, 14, 23, 673000),\n",
              "  'LastEditDate': None,\n",
              "  'LastEditorDisplayName': '',\n",
              "  'LastEditorUserId': '',\n",
              "  'OwnerDisplayName': '',\n",
              "  'OwnerUserId': 23,\n",
              "  'ParentId': 1,\n",
              "  'PostTypeId': 2,\n",
              "  'Score': 10,\n",
              "  'Tags': '',\n",
              "  'Title': '',\n",
              "  'ViewCount': ''},\n",
              " {'_id': ObjectId('653a79556adce16b55c6ccea'),\n",
              "  'Id': 4,\n",
              "  'AcceptedAnswerId': '',\n",
              "  'AnswerCount': '',\n",
              "  'Body': '<p><code>.AsString</code> devuelve el mismo \"<em>string</em>\" que la propiedad <code>.Text</code> si no existe ningún controlador de eventos \"Event Handler\", <code>OnGetText</code>, pero de existir uno puede darse el caso de ser diferente, o quizás un descendiente en <code>TField</code> que no sea el estándar podría ocasionar que fuera diferente.</p><br/><br/><p>Saludos y espero ayude.</p><br/><br/><p>P.D: Sobre si hay una razón para usar una u otra no sabría decirle con total certeza eso dependería del uso que tenga previsto para el valor de retorno.</p><br/>',\n",
              "  'ClosedDate': None,\n",
              "  'CommentCount': 0,\n",
              "  'CommunityOwnedDate': None,\n",
              "  'CreationDate': datetime.datetime(2015, 10, 30, 0, 45, 47, 640000),\n",
              "  'FavoriteCount': '',\n",
              "  'LastActivityDate': datetime.datetime(2015, 12, 14, 0, 58, 15, 613000),\n",
              "  'LastEditDate': datetime.datetime(2015, 12, 14, 0, 58, 15, 613000),\n",
              "  'LastEditorDisplayName': '',\n",
              "  'LastEditorUserId': 25,\n",
              "  'OwnerDisplayName': '',\n",
              "  'OwnerUserId': 24,\n",
              "  'ParentId': 3,\n",
              "  'PostTypeId': 2,\n",
              "  'Score': 3,\n",
              "  'Tags': '',\n",
              "  'Title': '',\n",
              "  'ViewCount': ''},\n",
              " {'_id': ObjectId('653a79556adce16b55c6cced'),\n",
              "  'Id': 7,\n",
              "  'AcceptedAnswerId': '',\n",
              "  'AnswerCount': '',\n",
              "  'Body': '<p>Lo de elegancia es algo difícil de decir, es cuestión de gustos. Pero la legibilidad del código siempre es importante. Por eso, este código se puede simplificar así: (a mi me parece más legible)</p><br/><br/><pre><code>std::string tempStr;<br/>while(isstream >> tempStr) {<br/>    std::cout << tempStr << std::endl;<br/>}<br/></code></pre><br/><br/><p>Con lo cual, metiendo todo en una función quedaría algo así:</p><br/><br/><pre><code>std::vector<std::string> split_istringstream(std::string str) {<br/>    std::vector<std::string> resultado;<br/>    std::istringstream isstream(str);<br/>    std::string palabra;<br/><br/>    while(isstream >> palabra){<br/>        resultado.push_back(palabra);<br/>    }<br/><br/>    return resultado;<br/>}<br/></code></pre><br/><br/><p>Otra alternativa, que incluso permite definir el delimitador (el operador >> de <code>istringstream</code> solo divide la cadena por los espacios - ASCII 32) es utilizar <a href=\"http://es.cppreference.com/w/cpp/string/basic_string/getline\" rel=\"nofollow noreferrer\">std::getline</a>. </p><br/><br/><pre><code>std::vector<std::string> split_getline(std::string str, char delim) {<br/>    std::vector<std::string> resultado;<br/>    std::istringstream isstream(str);<br/>    std::string palabra;<br/><br/>    while(std::getline(isstream, palabra, delim)){<br/>        resultado.push_back(palabra);<br/>    }<br/><br/>    return resultado;<br/>}<br/></code></pre><br/><br/><p>Aquí abajo te dejo una comparativa entre ambas opciones, son prácticamente iguales en eficiencia, dejando de un lado los vectores, reservan prácticamente la misma memoria.</p><br/><br/><p><a href=\"http://cpp.sh/3jtw\" rel=\"nofollow noreferrer\">http://cpp.sh/3jtw</a></p><br/>',\n",
              "  'ClosedDate': None,\n",
              "  'CommentCount': 0,\n",
              "  'CommunityOwnedDate': None,\n",
              "  'CreationDate': datetime.datetime(2015, 10, 30, 5, 30, 50, 993000),\n",
              "  'FavoriteCount': '',\n",
              "  'LastActivityDate': datetime.datetime(2017, 3, 4, 4, 16, 19, 167000),\n",
              "  'LastEditDate': datetime.datetime(2017, 3, 4, 4, 16, 19, 167000),\n",
              "  'LastEditorDisplayName': '',\n",
              "  'LastEditorUserId': 29967,\n",
              "  'OwnerDisplayName': '',\n",
              "  'OwnerUserId': 25,\n",
              "  'ParentId': 5,\n",
              "  'PostTypeId': 2,\n",
              "  'Score': 15,\n",
              "  'Tags': '',\n",
              "  'Title': '',\n",
              "  'ViewCount': ''},\n",
              " {'_id': ObjectId('653a79556adce16b55c6ccef'),\n",
              "  'Id': 9,\n",
              "  'AcceptedAnswerId': '',\n",
              "  'AnswerCount': '',\n",
              "  'Body': '<p>Antes de responder directamente la respuesta, hablaremos de las propiedades relevantes de TField y sus descendientes.</p><br/><br/><h1><code>Text</code>/<code>DisplayText</code></h1><br/><br/><p>Ambas propiedades sirven para obtener una representación textual del valor del campo para su uso en la Interfaz de Usuario. <br/>El propósito de la propiedad <code>Text</code> es el de obtener una representación textual del campo cuándo está siendo editado en un control asociado a datos (Data Aware), en contraste con la propiedad <code>DisplayText</code> que proporciona el valor del campo con formato de visualización para el usuario, por ejemplo, puede contener caracteres de puntuación u otra decoración al valor plano. (1234.50 en contraste con 1,234.50).</p><br/><br/><p>En otras palabras, un <code>TdbEdit</code> o controles similares, mostrarán el valor de <code>DisplayText</code> cuándo no están siendo editados, y al recibir el foco, cambiarán el valor al de la propiedad <code>Text</code> y es este valor el que el usuario \"edita\". Un TdbLabel solamente tira de la propiedad <code>DisplayText</code>, ya que no es editable.</p><br/><br/><p>La documentación para <code>Text</code> dice:</p><br/><br/><blockquote><br/>  <p>Contains the string to display in a data-aware control when the field is in edit mode</p><br/></blockquote><br/><br/><p>Un ejemplo típico es un <code>TFloatField</code> con la propiedad <code>Currency</code> establecida a <code>True</code>. La propiedad DisplayText te devuelve el string con el número conteniendo separadores de miles, el separador decimal y el símbolo de la moneda. La propiedad Text, te devuelve una cadena que no contiene separadores de miles ni símbolo de moneda.</p><br/><br/><pre><code>begin<br/>  MyFloatField.Currency := True;<br/>  MyFloatField.AsFloat := 1234.56;<br/>  A := MyFloatField.Text; //\\'1234.56\\'<br/>  B := MyFloatField.DisplayText; //\\'$1,234.56\\', depends on your locale<br/>  ShowMessage(A + #13 + B);<br/>end;<br/></code></pre><br/><br/><p>El comportamiento de ambas propiedades puede ser personalizado escribiendo un manejador de eventos para <code>OnGetText</code>, dónde se puede escribir la lógica para convertir el valor del campo en una de ambas representaciones textuales. El parámetro booleano <code>DisplayText</code> indica si la cadena solicitada es para representar el valor en la interfaz de usuario o para edición. </p><br/><br/><p>De esta manera, podemos lograr que la representación en la interfaz de usuario para un campo entero con valor 1 sea \\'uno\\', y su valor para edición sea \\'one\\'</p><br/><br/><h1><code>AsString</code></h1><br/><br/><p>Por otro lado, la propiedad AsString utiliza una conversión plana entre el tipo de dato base del campo y una cadena de caracteres. Cada descendiente de <code>TField</code> implementa el método virtual <code>GetAsString</code> que típicamente utiliza funciones de la RTL para realizar la conversión. Siguiendo con el ejemplo de TFloatField, esta clase llama a la función FloatToStr() para realizar la conversión.</p><br/><br/><h1>La respuesta</h1><br/><br/><p>Dicho todo esto, la respuesta a la pregunta sería:</p><br/><br/><p>AsString retorna usualmente el mismo valor que retorna la propiedad Text, siempre que no haya un manejador de evento para OnGetText, pero la representación podría ser diferente si hubiese un manejador de evento o un descendiente no estándar de TField.</p><br/><br/><p>Con la información dada, no puede decirse cuál es más apropiado, ya que esto depende de cuál es el uso que se le dará al valor retornado. Si se está utilizando para mostrar valores en la Interfaz de usuario, como se muestra en los ejemplos de código proporcionados, mi consejo es que utilices la propiedad <code>DisplayText</code>.</p><br/>',\n",
              "  'ClosedDate': None,\n",
              "  'CommentCount': 1,\n",
              "  'CommunityOwnedDate': None,\n",
              "  'CreationDate': datetime.datetime(2015, 10, 30, 13, 59, 47, 113000),\n",
              "  'FavoriteCount': '',\n",
              "  'LastActivityDate': datetime.datetime(2015, 10, 30, 13, 59, 47, 113000),\n",
              "  'LastEditDate': None,\n",
              "  'LastEditorDisplayName': '',\n",
              "  'LastEditorUserId': '',\n",
              "  'OwnerDisplayName': '',\n",
              "  'OwnerUserId': 21,\n",
              "  'ParentId': 3,\n",
              "  'PostTypeId': 2,\n",
              "  'Score': 7,\n",
              "  'Tags': '',\n",
              "  'Title': '',\n",
              "  'ViewCount': ''},\n",
              " {'_id': ObjectId('653a79556adce16b55c6ccf1'),\n",
              "  'Id': 11,\n",
              "  'AcceptedAnswerId': '',\n",
              "  'AnswerCount': '',\n",
              "  'Body': '<p>En el primer caso:</p><br/><br/><pre><code>nombreCompleto1 = () => {<br/>    return this.nombre + \" \" + this.apellido;<br/>}<br/></code></pre><br/><br/><p>estás creando un <em>método de instancia</em>, es equivalente a ejecutar <code>this.nombreCompleto1 = function() {...}</code> en JavaScript.</p><br/><br/><p>En el segundo caso:</p><br/><br/><pre><code>nombreCompleto2() {<br/>    return this.nombre + \" \" + this.apellido;<br/>}<br/></code></pre><br/><br/><p>estás creando un <em>método de prototipo</em>, es equivalente a <code>Persona.prototype.nombreCompleto2 = function() {...}</code> en JavaScript.</p><br/><br/><p>En general es preferible crear métodos de prototipo: en tal caso el método se define una sola vez, mientras que los métodos de instancia se crean una vez por instancia, consumiendo más memoria.</p><br/><br/><p>Más información: <a href=\"http://www.johnpapa.net/typescriptpost3\" rel=\"noreferrer\">TypeScript Classes and Interfaces</a></p><br/>',\n",
              "  'ClosedDate': None,\n",
              "  'CommentCount': 2,\n",
              "  'CommunityOwnedDate': None,\n",
              "  'CreationDate': datetime.datetime(2015, 10, 30, 14, 43, 43, 737000),\n",
              "  'FavoriteCount': '',\n",
              "  'LastActivityDate': datetime.datetime(2015, 12, 14, 1, 5, 34, 960000),\n",
              "  'LastEditDate': datetime.datetime(2015, 12, 14, 1, 5, 34, 960000),\n",
              "  'LastEditorDisplayName': '',\n",
              "  'LastEditorUserId': 25,\n",
              "  'OwnerDisplayName': '',\n",
              "  'OwnerUserId': 23,\n",
              "  'ParentId': 10,\n",
              "  'PostTypeId': 2,\n",
              "  'Score': 13,\n",
              "  'Tags': '',\n",
              "  'Title': '',\n",
              "  'ViewCount': ''},\n",
              " {'_id': ObjectId('653a79556adce16b55c6ccf6'),\n",
              "  'Id': 17,\n",
              "  'AcceptedAnswerId': '',\n",
              "  'AnswerCount': '',\n",
              "  'Body': '<p>Para realizar esta operación, ejecuta <code>Xcode</code> como <code>root</code> con el comando <a href=\"https://es.wikipedia.org/wiki/Sudo\" rel=\"nofollow\"><code>sudo</code></a> e instala dentro de esa sesión:</p><br/><br/><pre><code>sudo /Applications/Xcode.app/Contents/MacOS/Xcode<br/></code></pre><br/><br/><p>Una vez hayas instalados debes salir e iniciar normalmente.</p><br/><br/><p>Debes tener precaución si tienes proyectos abiertos cuando usas sudo para lanzar Xcode.</p><br/>',\n",
              "  'ClosedDate': None,\n",
              "  'CommentCount': 0,\n",
              "  'CommunityOwnedDate': None,\n",
              "  'CreationDate': datetime.datetime(2015, 10, 30, 20, 36, 12, 323000),\n",
              "  'FavoriteCount': '',\n",
              "  'LastActivityDate': datetime.datetime(2015, 11, 2, 17, 8, 36, 167000),\n",
              "  'LastEditDate': datetime.datetime(2015, 11, 2, 17, 8, 36, 167000),\n",
              "  'LastEditorDisplayName': '',\n",
              "  'LastEditorUserId': 21,\n",
              "  'OwnerDisplayName': '',\n",
              "  'OwnerUserId': 24,\n",
              "  'ParentId': 16,\n",
              "  'PostTypeId': 2,\n",
              "  'Score': 2,\n",
              "  'Tags': '',\n",
              "  'Title': '',\n",
              "  'ViewCount': ''},\n",
              " {'_id': ObjectId('653a79556adce16b55c6ccf7'),\n",
              "  'Id': 18,\n",
              "  'AcceptedAnswerId': '',\n",
              "  'AnswerCount': '',\n",
              "  'Body': '<p>Como ya mencioné yo no uso Perl, pero mirando la documentación en una parte de ella dice lo siguiente:</p><br/><br/><blockquote><br/>  <p>\"Si el desplazamiento es más allá del final de la matriz, Perl emite<br/>  una advertencia, y (Perl) empalma/splice en el extremo de la matriz.\"</p><br/></blockquote><br/><br/><p><em>...If OFFSET is past the end of the array, Perl issues a warning, and splices at the end of the array.</em></p><br/><br/><p>De echo he revisado en varias versiones y es lo mismo por lo menos la documentación advierten sobre el <em>warning</em>.</p><br/><br/><p>Aquí le dejo los links (en Inglés); </p><br/><br/><ul><br/><li><p><a href=\"http://perldoc.perl.org/5.16.2/functions/splice.html\" rel=\"nofollow\" title=\"http://perldoc.perl.org/5.16.2/functions/splice.html\">Perl v 5.16.2</a></p></li><br/><li><p><a href=\"http://perldoc.perl.org/5.20.0/functions/splice.html\" rel=\"nofollow\" title=\"http://perldoc.perl.org/5.20.0/functions/splice.html\">Perl v 5.20.0</a></p></li><br/><li><p><a href=\"http://perldoc.perl.org/functions/splice.html\" rel=\"nofollow\" title=\"http://perldoc.perl.org/functions/splice.html\">Perl v 5.22</a></p></li><br/></ul><br/><br/><p>Según lo anterior lo normal es el <em>warning</em>, pero por lo que se puede ver en el siguiente link, no en todas las versiones es así y también depende del OS.</p><br/><br/><p><a href=\"http://www.nntp.perl.org/group/perl.perl5.porters/2013/04/msg201134.html\" rel=\"nofollow\">http://www.nntp.perl.org/group/perl.perl5.porters/2013/04/msg201134.html</a></p><br/><br/><p>Creo que eso ocurre entre la <code>5.14</code> y <code>5.16</code> en algunos sistemas, aquí puede ver la notificación de bug pero quizás también le suceda a usted en la <code>5.20</code> debido a su OS y no es que haya cambiado algo. </p><br/><br/><p><a href=\"https://rt.perl.org/Public/Bug/Display.html?id=117729\" rel=\"nofollow\">https://rt.perl.org/Public/Bug/Display.html?id=117729</a></p><br/>',\n",
              "  'ClosedDate': None,\n",
              "  'CommentCount': 1,\n",
              "  'CommunityOwnedDate': None,\n",
              "  'CreationDate': datetime.datetime(2015, 10, 31, 1, 15, 2, 47000),\n",
              "  'FavoriteCount': '',\n",
              "  'LastActivityDate': datetime.datetime(2015, 12, 15, 22, 22, 22, 80000),\n",
              "  'LastEditDate': datetime.datetime(2015, 12, 15, 22, 22, 22, 80000),\n",
              "  'LastEditorDisplayName': '',\n",
              "  'LastEditorUserId': 264,\n",
              "  'OwnerDisplayName': '',\n",
              "  'OwnerUserId': 24,\n",
              "  'ParentId': 12,\n",
              "  'PostTypeId': 2,\n",
              "  'Score': 8,\n",
              "  'Tags': '',\n",
              "  'Title': '',\n",
              "  'ViewCount': ''},\n",
              " {'_id': ObjectId('653a79556adce16b55c6ccfc'),\n",
              "  'Id': 23,\n",
              "  'AcceptedAnswerId': '',\n",
              "  'AnswerCount': '',\n",
              "  'Body': '<p><em>voy a sumarme con la parte de la pregunta que no se ha respondido aun: <strong>¿Por qué cambió?</em></strong></p><br/><br/><p>Cambio por que la intención de este código:</p><br/><br/><pre><code>my @x = qw( 1 2 3 4 5 );<br/>splice(@x, 3);<br/></code></pre><br/><br/><p>es claramente truncar el array si es demasiado largo y <em>no hay razon para emitir una advertencia si el array tiene <strong>menos</strong> elementos que el máximo especificado</em> (como en el caso citado en la pregunta)</p><br/><br/><p><a href=\"http://perl5.git.perl.org/perl.git/commitdiff/5cd408a276e19848774860967c3ec06b67b863ee?hp=0890f1a536cff0aff68038cae78e02c9d9b6a2b2\">Fuente (en Inglés)</a> </p><br/>',\n",
              "  'ClosedDate': None,\n",
              "  'CommentCount': 0,\n",
              "  'CommunityOwnedDate': None,\n",
              "  'CreationDate': datetime.datetime(2015, 10, 31, 2, 54, 43, 877000),\n",
              "  'FavoriteCount': '',\n",
              "  'LastActivityDate': datetime.datetime(2015, 10, 31, 5, 6, 45, 243000),\n",
              "  'LastEditDate': datetime.datetime(2015, 10, 31, 5, 6, 45, 243000),\n",
              "  'LastEditorDisplayName': '',\n",
              "  'LastEditorUserId': 25,\n",
              "  'OwnerDisplayName': '',\n",
              "  'OwnerUserId': 25,\n",
              "  'ParentId': 12,\n",
              "  'PostTypeId': 2,\n",
              "  'Score': 7,\n",
              "  'Tags': '',\n",
              "  'Title': '',\n",
              "  'ViewCount': ''},\n",
              " {'_id': ObjectId('653a79556adce16b55c6ccfe'),\n",
              "  'Id': 25,\n",
              "  'AcceptedAnswerId': '',\n",
              "  'AnswerCount': '',\n",
              "  'Body': '<p>Creo que <a href=\"http://elixir-lang.org/docs/v1.1/elixir/Enum.html#to_list/1\" rel=\"nofollow\">esto</a> es lo que usted esta buscando</p><br/><br/><p><strong>to_list (colección)</strong></p><br/><br/><p><strong><em>Convierte la colección a una lista</em></strong></p><br/><br/><pre><code>iex> Enum.to_list 1..5<br/>[1, 2, 3, 4, 5]<br/></code></pre><br/><br/><p>espero le ayude</p><br/>',\n",
              "  'ClosedDate': None,\n",
              "  'CommentCount': 0,\n",
              "  'CommunityOwnedDate': None,\n",
              "  'CreationDate': datetime.datetime(2015, 10, 31, 19, 39, 29, 827000),\n",
              "  'FavoriteCount': '',\n",
              "  'LastActivityDate': datetime.datetime(2016, 5, 13, 19, 45, 45, 540000),\n",
              "  'LastEditDate': datetime.datetime(2016, 5, 13, 19, 45, 45, 540000),\n",
              "  'LastEditorDisplayName': '',\n",
              "  'LastEditorUserId': 225,\n",
              "  'OwnerDisplayName': '',\n",
              "  'OwnerUserId': 24,\n",
              "  'ParentId': 24,\n",
              "  'PostTypeId': 2,\n",
              "  'Score': 6,\n",
              "  'Tags': '',\n",
              "  'Title': '',\n",
              "  'ViewCount': ''},\n",
              " {'_id': ObjectId('653a79556adce16b55c6cd01'),\n",
              "  'Id': 30,\n",
              "  'AcceptedAnswerId': '',\n",
              "  'AnswerCount': '',\n",
              "  'Body': '<p>Los <code>FPS</code> varian porque solo se solicita un marco cuando es necesario. por ejemplo si la imagen no cambia o es un fondo oscuro la tasa se puede reducir a una tasa más baja, ademas cuando se ejecuta en las pestañas de fondo tambien pude darse el caso para mejorar el rendimiento y la duración de la batería.</p><br/><br/><p>Puede mirar este caso como se \"ajustan los frames\" usando: <code>startAnimating(5)</code>;<br/><a href=\"http://jsfiddle.net/m1erickson/CtsY3/\" rel=\"nofollow noreferrer\">jsfiddle</a></p><br/><br/><p><div class=\"snippet\" data-lang=\"js\" data-hide=\"false\" data-console=\"true\" data-babel=\"false\"><br/><div class=\"snippet-code\"><br/><pre class=\"snippet-code-js lang-js prettyprint-override\"><code>var stop = false;<br/>var frameCount = 0;<br/>var $results = $(\"#results\");<br/>var fps, fpsInterval, startTime, now, then, elapsed;<br/><br/>startAnimating(5);<br/><br/>function startAnimating(fps) {<br/>    fpsInterval = 1000 / fps;<br/>    then = Date.now();<br/>    startTime = then;<br/>    console.log(startTime);<br/>    animate();<br/>}<br/><br/><br/>function animate() {<br/><br/>    // stop<br/>    if (stop) {<br/>        return;<br/>    }<br/><br/>    // request another frame<br/><br/>    requestAnimationFrame(animate);<br/><br/>    // calc elapsed time since last loop<br/><br/>    now = Date.now();<br/>    elapsed = now - then;<br/><br/>    // if enough time has elapsed, draw the next frame<br/><br/>    if (elapsed > fpsInterval) {<br/><br/>        // Get ready for next frame by setting then=now, but...<br/>        // Also, adjust for fpsInterval not being multiple of 16.67<br/>        then = now - (elapsed % fpsInterval);<br/><br/>        // draw stuff here<br/><br/><br/>        // TESTING...Report #seconds since start and achieved fps.<br/>        var sinceStart = now - startTime;<br/>        var currentFps = Math.round(1000 / (sinceStart / ++frameCount) * 100) / 100;<br/>        $results.text(\"Elapsed time= \" + Math.round(sinceStart / 1000 * 100) / 100 + \" secs @ \" + currentFps + \" fps.\");<br/><br/>    }<br/>}</code></pre><br/><pre class=\"snippet-code-html lang-html prettyprint-override\"><code><script src=\"https://ajax.googleapis.com/ajax/libs/jquery/1.9.1/jquery.min.js\"></script><br/><h3>Throttling requestAnimationFrame to a FPS</h3><br/><p>This test:  Results should be approximately 5 fps<br/><p id=\"results\">Results:</p><br/><canvas id=\"canvas\" width=300 height=300></canvas></code></pre><br/></div><br/></div><br/></p><br/>',\n",
              "  'ClosedDate': None,\n",
              "  'CommentCount': 1,\n",
              "  'CommunityOwnedDate': None,\n",
              "  'CreationDate': datetime.datetime(2015, 11, 1, 16, 27, 13, 990000),\n",
              "  'FavoriteCount': '',\n",
              "  'LastActivityDate': datetime.datetime(2016, 11, 10, 23, 45, 37, 783000),\n",
              "  'LastEditDate': datetime.datetime(2016, 11, 10, 23, 45, 37, 783000),\n",
              "  'LastEditorDisplayName': '',\n",
              "  'LastEditorUserId': 22635,\n",
              "  'OwnerDisplayName': '',\n",
              "  'OwnerUserId': 24,\n",
              "  'ParentId': 29,\n",
              "  'PostTypeId': 2,\n",
              "  'Score': 1,\n",
              "  'Tags': '',\n",
              "  'Title': '',\n",
              "  'ViewCount': ''}]"
            ]
          },
          "metadata": {},
          "execution_count": 37
        }
      ],
      "source": [
        "list(respuestas)"
      ]
    },
    {
      "cell_type": "markdown",
      "metadata": {
        "id": "55kzbjTDXK4Z"
      },
      "source": [
        "También se puede importar en un dataframe de pandas:"
      ]
    },
    {
      "cell_type": "code",
      "execution_count": 38,
      "metadata": {
        "id": "oSdgwy9FXK4a",
        "colab": {
          "base_uri": "https://localhost:8080/",
          "height": 448
        },
        "outputId": "cff906cf-b59a-40a7-d140-00dd74ea7770"
      },
      "outputs": [
        {
          "output_type": "execute_result",
          "data": {
            "text/plain": [
              "<Axes: >"
            ]
          },
          "metadata": {},
          "execution_count": 38
        },
        {
          "output_type": "display_data",
          "data": {
            "text/plain": [
              "<Figure size 640x480 with 1 Axes>"
            ],
            "image/png": "[encoded data removed]"
          },
          "metadata": {}
        }
      ],
      "source": [
        "respuestas = posts.find({\"PostTypeId\": 2}).limit(30)\n",
        "df = pd.DataFrame(respuestas)\n",
        "df['Id'].plot()"
      ]
    },
    {
      "cell_type": "markdown",
      "metadata": {
        "id": "Rr2WveazXK4d"
      },
      "source": [
        "La función `find()` tiene un gran número de posibilidades para especificar la búsqueda. Se pueden utilizar cualificadores complejos como:\n",
        "\n",
        "- `$and`\n",
        "- `$or`\n",
        "- `$not`\n",
        "\n",
        "Estos calificadores unen \"objetos\", no valores. Por otro lado, hay otros calificadores que se refieren a valores:\n",
        "\n",
        "- `$lt` (menor)\n",
        "- `$lte` (menor o igual)\n",
        "- `$gt` (mayor)\n",
        "- `$gte` (mayor o igual)"
      ]
    },
    {
      "cell_type": "code",
      "execution_count": 39,
      "metadata": {
        "id": "bUOQcTXuXK4d",
        "scrolled": true,
        "colab": {
          "base_uri": "https://localhost:8080/"
        },
        "outputId": "0028b394-4ede-47e9-eb73-9b0eb6d795e8"
      },
      "outputs": [
        {
          "output_type": "execute_result",
          "data": {
            "text/plain": [
              "[{'_id': ObjectId('653a79556adce16b55c6cd35'),\n",
              "  'Id': 102,\n",
              "  'AcceptedAnswerId': '',\n",
              "  'AnswerCount': '',\n",
              "  'Body': '<pre><code>$ git reset --soft HEAD~  o $ git reset --soft HEAD~1       #1<br/>// Cambios necesarios //                                    #2<br/>$ git add ...                                               #3<br/>$ git commit ...                                            #4<br/></code></pre><br/><br/><p>Simplemente haces un reset soft, con lo que te quedas con los cambios en local pero deshaces el commit, después haces lo que quieras y vuelves a hacer el commit como querías la primera vez.</p><br/>',\n",
              "  'ClosedDate': None,\n",
              "  'CommentCount': 0,\n",
              "  'CommunityOwnedDate': None,\n",
              "  'CreationDate': datetime.datetime(2015, 12, 1, 19, 0, 31, 680000),\n",
              "  'FavoriteCount': '',\n",
              "  'LastActivityDate': datetime.datetime(2015, 12, 1, 19, 0, 31, 680000),\n",
              "  'LastEditDate': None,\n",
              "  'LastEditorDisplayName': '',\n",
              "  'LastEditorUserId': '',\n",
              "  'OwnerDisplayName': '',\n",
              "  'OwnerUserId': 178,\n",
              "  'ParentId': 90,\n",
              "  'PostTypeId': 2,\n",
              "  'Score': 12,\n",
              "  'Tags': '',\n",
              "  'Title': '',\n",
              "  'ViewCount': ''},\n",
              " {'_id': ObjectId('653a79556adce16b55c6cd37'),\n",
              "  'Id': 104,\n",
              "  'AcceptedAnswerId': '',\n",
              "  'AnswerCount': '',\n",
              "  'Body': '<p>Pues, no creo que esto sea posible sin recurrir a la altamante no recomendada <code>global</code>. El caso específico que muestras aplica perfectamente en la Programación Orientada a Objetos, sería bueno que expliques la razón por la cual estás tratando de evitarla:</p><br/><br/><pre><code>import serial<br/><br/><br/>class Clase():<br/>    def __init__(self, puerto, baud_rate, buffer) # inicializacion()<br/>        self.puerto = puerto<br/>        self.baud_rate = baud_rate<br/>        self.buffer = buffer<br/>        self.serial = serial.Serial(puerto, baudRate, timeout=1)<br/><br/>    def leer_datos(self):<br/>        # Tu código<br/></code></pre><br/><br/><p>Si estas intentando usar los parámetros de configuración, podrías crear un archivo específico el cual será importado a demanda:</p><br/><br/><p><em>settings.py</em></p><br/><br/><pre><code>puerto = \\'/dev/ttyACM0\\'<br/>baudRate = 115200<br/>buffer = \\'\\'<br/></code></pre><br/><br/><p><em>main.py</em></p><br/><br/><pre><code>import serial<br/>import settings<br/><br/><br/>def main():<br/>    ser = serial.Serial(settings.puerto, settings.baudRate, timeout=1)<br/>    buffer = settings.buffer + leerDatos(ser)<br/></code></pre><br/><br/><p>Otra opción es la mencionada por @Carlangueitor en la cual tu configuración la mueves a un archivo <code>.env</code> dentro de tu proyecto y así evitas exponer la configuración en uno de los archivos. Puedes usar <a href=\"https://github.com/theskumar/python-dotenv\">dotenv</a>.</p><br/>',\n",
              "  'ClosedDate': None,\n",
              "  'CommentCount': 0,\n",
              "  'CommunityOwnedDate': None,\n",
              "  'CreationDate': datetime.datetime(2015, 12, 1, 19, 7, 0, 763000),\n",
              "  'FavoriteCount': '',\n",
              "  'LastActivityDate': datetime.datetime(2015, 12, 1, 19, 7, 0, 763000),\n",
              "  'LastEditDate': None,\n",
              "  'LastEditorDisplayName': '',\n",
              "  'LastEditorUserId': '',\n",
              "  'OwnerDisplayName': '',\n",
              "  'OwnerUserId': 100,\n",
              "  'ParentId': 87,\n",
              "  'PostTypeId': 2,\n",
              "  'Score': 11,\n",
              "  'Tags': '',\n",
              "  'Title': '',\n",
              "  'ViewCount': ''},\n",
              " {'_id': ObjectId('653a79556adce16b55c6cd38'),\n",
              "  'Id': 105,\n",
              "  'AcceptedAnswerId': '',\n",
              "  'AnswerCount': '',\n",
              "  'Body': '<p>Usa márgenes laterales automáticos.</p><br/><br/><p><div class=\"snippet\" data-lang=\"js\" data-hide=\"false\"><br/><div class=\"snippet-code\"><br/><pre class=\"snippet-code-css lang-css prettyprint-override\"><code>.externo {<br/>  border: 1px solid blue;<br/>}<br/>.interno {<br/>  border: 1px dashed goldenrod;<br/>  margin: auto;<br/>}</code></pre><br/><pre class=\"snippet-code-html lang-html prettyprint-override\"><code><div class=\"externo\"><br/>  <div class=\"interno\"><br/>    Hola<br/>  </div><br/></div></code></pre><br/></div><br/></div><br/></p><br/><br/><p>Realmente solo debes de ponerlos en sus valores <code>margin-left</code> y <code>margin-right</code>, pero en tu caso al no requerir margen superior y/o inferior, te valdría de esa forma, ya que según la documentación si se espefica de esa forma sería igual que hacer:</p><br/><br/><pre><code>.interno {<br/>  margin: 0 auto;<br/>}<br/></code></pre><br/><br/><p>Es decir, el superior e inferior es igual a cero.</p><br/>',\n",
              "  'ClosedDate': None,\n",
              "  'CommentCount': 3,\n",
              "  'CommunityOwnedDate': None,\n",
              "  'CreationDate': datetime.datetime(2015, 12, 1, 19, 8, 31, 660000),\n",
              "  'FavoriteCount': '',\n",
              "  'LastActivityDate': datetime.datetime(2015, 12, 7, 18, 16, 45, 97000),\n",
              "  'LastEditDate': datetime.datetime(2015, 12, 7, 18, 16, 45, 97000),\n",
              "  'LastEditorDisplayName': '',\n",
              "  'LastEditorUserId': 342,\n",
              "  'OwnerDisplayName': '',\n",
              "  'OwnerUserId': 280,\n",
              "  'ParentId': 103,\n",
              "  'PostTypeId': 2,\n",
              "  'Score': 22,\n",
              "  'Tags': '',\n",
              "  'Title': '',\n",
              "  'ViewCount': ''},\n",
              " {'_id': ObjectId('653a79556adce16b55c6cd39'),\n",
              "  'Id': 106,\n",
              "  'AcceptedAnswerId': '',\n",
              "  'AnswerCount': '',\n",
              "  'Body': '<p><div class=\"snippet\" data-lang=\"js\" data-hide=\"false\"><br/><div class=\"snippet-code\"><br/><pre class=\"snippet-code-css lang-css prettyprint-override\"><code>.interno {<br/>  background-color: green;<br/>  height: 20px;<br/>  width: 50%;<br/>  margin: 0 auto;<br/>}<br/>.externo {<br/>  border: 1px solid blue;<br/>}</code></pre><br/><pre class=\"snippet-code-html lang-html prettyprint-override\"><code><div class=\"externo\"><br/>  <div class=\"interno\"><br/>    Hola<br/>  </div><br/></div></code></pre><br/></div><br/></div><br/></p><br/><br/><p>Simplemente añadiendo la última línea, se centra con respecto a su padre.</p><br/>',\n",
              "  'ClosedDate': None,\n",
              "  'CommentCount': 0,\n",
              "  'CommunityOwnedDate': None,\n",
              "  'CreationDate': datetime.datetime(2015, 12, 1, 19, 10, 9, 660000),\n",
              "  'FavoriteCount': '',\n",
              "  'LastActivityDate': datetime.datetime(2015, 12, 7, 18, 16, 48, 710000),\n",
              "  'LastEditDate': datetime.datetime(2015, 12, 7, 18, 16, 48, 710000),\n",
              "  'LastEditorDisplayName': '',\n",
              "  'LastEditorUserId': 342,\n",
              "  'OwnerDisplayName': '',\n",
              "  'OwnerUserId': 178,\n",
              "  'ParentId': 103,\n",
              "  'PostTypeId': 2,\n",
              "  'Score': 1,\n",
              "  'Tags': '',\n",
              "  'Title': '',\n",
              "  'ViewCount': ''},\n",
              " {'_id': ObjectId('653a79556adce16b55c6cd3a'),\n",
              "  'Id': 107,\n",
              "  'AcceptedAnswerId': '',\n",
              "  'AnswerCount': '',\n",
              "  'Body': '<p>Agrega un <code>margin:0 auto;</code> a la clase <code>interno</code> en el CSS para lograr centrarlo horizontalmente dentro del div externo</p><br/><br/><p><div class=\"snippet\" data-lang=\"js\" data-hide=\"false\"><br/><div class=\"snippet-code\"><br/><pre class=\"snippet-code-css lang-css prettyprint-override\"><code>.interno {<br/>  background-color: green;<br/>  height: 20px;<br/>  width: 50%;<br/>  margin: 0 auto;/*esto fue lo que se agregó*/<br/>}<br/>.externo {<br/>  background-color: red;<br/>  width: 200px;<br/>  padding: 20px;<br/>  text-align:center;<br/>}</code></pre><br/><pre class=\"snippet-code-html lang-html prettyprint-override\"><code><div class=\"externo\"><br/>  <div class=\"interno\"><br/>    Hola<br/>  </div><br/></div></code></pre><br/></div><br/></div><br/></p><br/>',\n",
              "  'ClosedDate': None,\n",
              "  'CommentCount': 0,\n",
              "  'CommunityOwnedDate': None,\n",
              "  'CreationDate': datetime.datetime(2015, 12, 1, 19, 11, 46, 373000),\n",
              "  'FavoriteCount': '',\n",
              "  'LastActivityDate': datetime.datetime(2016, 1, 5, 18, 40, 20, 503000),\n",
              "  'LastEditDate': datetime.datetime(2016, 1, 5, 18, 40, 20, 503000),\n",
              "  'LastEditorDisplayName': '',\n",
              "  'LastEditorUserId': 98,\n",
              "  'OwnerDisplayName': '',\n",
              "  'OwnerUserId': 98,\n",
              "  'ParentId': 103,\n",
              "  'PostTypeId': 2,\n",
              "  'Score': 9,\n",
              "  'Tags': '',\n",
              "  'Title': '',\n",
              "  'ViewCount': ''},\n",
              " {'_id': ObjectId('653a79556adce16b55c6cd3b'),\n",
              "  'Id': 108,\n",
              "  'AcceptedAnswerId': '',\n",
              "  'AnswerCount': '',\n",
              "  'Body': '<p>Puedes aplicar este CSS al <code>div</code> interno:</p><br/><br/><p><div class=\"snippet\" data-lang=\"js\" data-hide=\"false\" data-console=\"false\" data-babel=\"false\"><br/><div class=\"snippet-code\"><br/><pre class=\"snippet-code-css lang-css prettyprint-override\"><code>.interno {<br/>  width: 50%;<br/>  margin: 0 auto;<br/>  border: 1px dashed goldenrod;<br/>}<br/>.externo {<br/>  border: 1px solid blue;<br/>}</code></pre><br/><pre class=\"snippet-code-html lang-html prettyprint-override\"><code><div class=\"externo\"><br/>  <div class=\"interno\"><br/>    Hola<br/>  </div><br/></div></code></pre><br/></div><br/></div><br/></p><br/><br/><p>Por supuesto, no tienes que establecer el ancho al 50%. Cualquier ancho inferior al del <code>div</code> padre funcionará. El <code>margin: 0 auto</code> es lo que hace el centrado en sí.</p><br/><br/><p>Si quieres incluir IE8+, puede que sea mejor usar esto en su lugar:</p><br/><br/><p><div class=\"snippet\" data-lang=\"js\" data-hide=\"false\" data-console=\"false\" data-babel=\"false\"><br/><div class=\"snippet-code\"><br/><pre class=\"snippet-code-css lang-css prettyprint-override\"><code>.interno {<br/>  display: table;<br/>  margin: 0 auto;<br/>  border: 1px dashed goldenrod;<br/>}<br/>.externo {<br/>  border: 1px solid blue;<br/>}</code></pre><br/><pre class=\"snippet-code-html lang-html prettyprint-override\"><code><div class=\"externo\"><br/>  <div class=\"interno\"><br/>    Hola<br/>  </div><br/></div></code></pre><br/></div><br/></div><br/></p><br/><br/><p>Hará que el elemento interno se centre horizontalmente, y funciona sin especificar un ancho concreto.</p><br/><br/><p><a href=\"https://stackoverflow.com/a/114549\"><strong>Fuente</strong></a></p><br/><br/><p><a href=\"https://jsfiddle.net/vLkdgwnv/\" rel=\"nofollow noreferrer\"><strong>JSFiddle</strong></a></p><br/>',\n",
              "  'ClosedDate': None,\n",
              "  'CommentCount': 0,\n",
              "  'CommunityOwnedDate': datetime.datetime(2017, 6, 22, 13, 59, 18, 587000),\n",
              "  'CreationDate': datetime.datetime(2015, 12, 1, 19, 14, 0, 683000),\n",
              "  'FavoriteCount': '',\n",
              "  'LastActivityDate': datetime.datetime(2015, 12, 19, 6, 37, 23, 277000),\n",
              "  'LastEditDate': datetime.datetime(2017, 5, 23, 12, 39, 21, 413000),\n",
              "  'LastEditorDisplayName': '',\n",
              "  'LastEditorUserId': -1,\n",
              "  'OwnerDisplayName': '',\n",
              "  'OwnerUserId': 149,\n",
              "  'ParentId': 103,\n",
              "  'PostTypeId': 2,\n",
              "  'Score': 4,\n",
              "  'Tags': '',\n",
              "  'Title': '',\n",
              "  'ViewCount': ''},\n",
              " {'_id': ObjectId('653a79556adce16b55c6cd3c'),\n",
              "  'Id': 109,\n",
              "  'AcceptedAnswerId': '',\n",
              "  'AnswerCount': '',\n",
              "  'Body': '<p>Puedes usar un <a href=\"https://developer.mozilla.org/es/docs/Web/CSS/CSS_Flexible_Box_Layout/Usando_las_cajas_flexibles_CSS\" rel=\"nofollow\">flexbox</a> en el <code>div</code> externo.</p><br/><br/><p><div class=\"snippet\" data-lang=\"js\" data-hide=\"false\"><br/><div class=\"snippet-code\"><br/><pre class=\"snippet-code-css lang-css prettyprint-override\"><code>.externo {<br/>  display: flex;<br/>  justify-content: center;<br/>  border: 1px solid blue;<br/>}<br/>.interno {<br/>  border: 1px dashed goldenrod;<br/>}</code></pre><br/><pre class=\"snippet-code-html lang-html prettyprint-override\"><code><div class=\"externo\"><br/>  <div class=\"interno\"><br/>    Hola<br/>  </div><br/></div></code></pre><br/></div><br/></div><br/></p><br/>',\n",
              "  'ClosedDate': None,\n",
              "  'CommentCount': 0,\n",
              "  'CommunityOwnedDate': None,\n",
              "  'CreationDate': datetime.datetime(2015, 12, 1, 19, 14, 47, 937000),\n",
              "  'FavoriteCount': '',\n",
              "  'LastActivityDate': datetime.datetime(2015, 12, 7, 18, 25, 51, 847000),\n",
              "  'LastEditDate': datetime.datetime(2015, 12, 7, 18, 25, 51, 847000),\n",
              "  'LastEditorDisplayName': '',\n",
              "  'LastEditorUserId': 342,\n",
              "  'OwnerDisplayName': '',\n",
              "  'OwnerUserId': 302,\n",
              "  'ParentId': 103,\n",
              "  'PostTypeId': 2,\n",
              "  'Score': 3,\n",
              "  'Tags': '',\n",
              "  'Title': '',\n",
              "  'ViewCount': ''},\n",
              " {'_id': ObjectId('653a79556adce16b55c6cd3e'),\n",
              "  'Id': 111,\n",
              "  'AcceptedAnswerId': '',\n",
              "  'AnswerCount': '',\n",
              "  'Body': \"<p>La forma más sencilla de lograrlo, es decir sin procedimientos ni cosas complejas, es ejecutar la siguiente consulta:</p><br/><br/><pre><code>SELECT owner, table_name, num_rows, sample_size, last_analyzed <br/>FROM all_tables<br/>WHERE owner = 'nombre_de_tu_esquema';<br/></code></pre><br/><br/><p>La columna <code>num_rows</code> contiene el número de filas o registros de cada una de las tablas.</p><br/><br/><hr><br/><br/><p>Actualización:</p><br/><br/><p>Como destaca @jpertejo: </p><br/><br/><blockquote><br/>  <p>Hay que tener en cuenta que la columna <code>NUM_ROWS</code> de la vista<br/>  <code>ALL_TABLES</code> obtiene la información de las estadísticas de la tabla.<br/>  Si las estadísticas no están actualizadas puede ser que el número de<br/>  filas que devuelve el <code>NUM_ROWS</code> no se corresponda con el real. Para<br/>  saber con exactitud en número real de filas habría que hacer un<br/>  <code>COUNT(*)</code>. La consulta del <code>NUM_ROWS</code> es más rápida que el<br/>  <code>COUNT(*)</code>, pero puede no dar datos correctos en algunos casos.</p><br/></blockquote><br/><br/><p>De aquí que en la consulta se incluya la columna <code>last_analyzed</code> cuyo fin es informar la fecha en la que se hizo el más reciente análisis estadístico para cada tabla.</p><br/>\",\n",
              "  'ClosedDate': None,\n",
              "  'CommentCount': 10,\n",
              "  'CommunityOwnedDate': None,\n",
              "  'CreationDate': datetime.datetime(2015, 12, 1, 19, 15, 58, 153000),\n",
              "  'FavoriteCount': '',\n",
              "  'LastActivityDate': datetime.datetime(2015, 12, 1, 23, 57, 13, 763000),\n",
              "  'LastEditDate': datetime.datetime(2015, 12, 1, 23, 57, 13, 763000),\n",
              "  'LastEditorDisplayName': '',\n",
              "  'LastEditorUserId': 264,\n",
              "  'OwnerDisplayName': '',\n",
              "  'OwnerUserId': 264,\n",
              "  'ParentId': 110,\n",
              "  'PostTypeId': 2,\n",
              "  'Score': 9,\n",
              "  'Tags': '',\n",
              "  'Title': '',\n",
              "  'ViewCount': ''},\n",
              " {'_id': ObjectId('653a79556adce16b55c6cd3f'),\n",
              "  'Id': 112,\n",
              "  'AcceptedAnswerId': '',\n",
              "  'AnswerCount': '',\n",
              "  'Body': '<p>Existen muchas formas de centrar elementos con <strong>CSS</strong>, sin embargo una de las que mayor fuerza han tomado en el último año es el uso de <strong>Flexbox</strong>.</p><br/><br/><p>Usando Flexbox el contenedor no necesita tener ninguna propiedad especifica para ubicarse en el espacio, sin embargo usando las propiedades de Flexbox para los hijos se puede hacer cosas impensables con el CSS tradicional.</p><br/><br/><p><div class=\"snippet\" data-lang=\"js\" data-hide=\"false\"><br/><div class=\"snippet-code\"><br/><pre class=\"snippet-code-css lang-css prettyprint-override\"><code>.externo {<br/>  border: 1px solid blue;<br/>  align-items: center;<br/>  display: flex;<br/>  justify-content: center;<br/>}<br/>.interno {<br/>  border: 1px dashed goldenrod;<br/>}</code></pre><br/><pre class=\"snippet-code-html lang-html prettyprint-override\"><code><div class=\"externo\"><br/>  <div class=\"interno\"><br/>    Hola<br/>  </div><br/></div></code></pre><br/></div><br/></div><br/></p><br/><br/><p>Para conocer más acerca de Flexbox te recomiendo visitar los siguientes enlaces:</p><br/><br/><ul><br/><li><strong>CSS-Tricks</strong> - <a href=\"https://css-tricks.com/snippets/css/a-guide-to-flexbox/\">A Complete Guide to Flexbox</a></li><br/><li><strong>Codrops</strong> - <a href=\"http://tympanus.net/codrops/css_reference/flexbox/\">Flexbox</a></li><br/></ul><br/><br/><hr><br/><br/><p>Si buscas una solución que no incluya Flexbox entonces te recomiendo visitar <a href=\"https://css-tricks.com/centering-css-complete-guide/\">Centering in CSS: A Complete Guide</a>. Esta es la guía absoluta de como centrar elementos utilizando CSS sin importar el navegador que necesites soportar.</p><br/>',\n",
              "  'ClosedDate': None,\n",
              "  'CommentCount': 10,\n",
              "  'CommunityOwnedDate': None,\n",
              "  'CreationDate': datetime.datetime(2015, 12, 1, 19, 16, 3, 973000),\n",
              "  'FavoriteCount': '',\n",
              "  'LastActivityDate': datetime.datetime(2015, 12, 7, 18, 15, 35, 950000),\n",
              "  'LastEditDate': datetime.datetime(2015, 12, 7, 18, 15, 35, 950000),\n",
              "  'LastEditorDisplayName': '',\n",
              "  'LastEditorUserId': 342,\n",
              "  'OwnerDisplayName': '',\n",
              "  'OwnerUserId': 296,\n",
              "  'ParentId': 103,\n",
              "  'PostTypeId': 2,\n",
              "  'Score': 13,\n",
              "  'Tags': '',\n",
              "  'Title': '',\n",
              "  'ViewCount': ''},\n",
              " {'_id': ObjectId('653a79556adce16b55c6cd44'),\n",
              "  'Id': 117,\n",
              "  'AcceptedAnswerId': '',\n",
              "  'AnswerCount': '',\n",
              "  'Body': '<p>Lo que responde Elenasys es correcto. <code>LoginTask</code> es una <code>AsyncTask</code>, con lo cual no es una <code>Activity</code>. No puedes \"volver a ella\".<br/>Si quieres entender algo más sobre el estado de tu <em>stack</em> de activities, puedes correr el siguiente comando de adb:</p><br/><br/><pre><code>adb shell dumpsys activities<br/></code></pre><br/><br/><p>Ahí podrás ver cómo están tus actividades y comprender qué pasará cuando pulsas \"back\".</p><br/>',\n",
              "  'ClosedDate': None,\n",
              "  'CommentCount': 0,\n",
              "  'CommunityOwnedDate': None,\n",
              "  'CreationDate': datetime.datetime(2015, 12, 1, 19, 29, 43, 757000),\n",
              "  'FavoriteCount': '',\n",
              "  'LastActivityDate': datetime.datetime(2015, 12, 4, 16, 32, 7, 947000),\n",
              "  'LastEditDate': datetime.datetime(2015, 12, 4, 16, 32, 7, 947000),\n",
              "  'LastEditorDisplayName': '',\n",
              "  'LastEditorUserId': 95,\n",
              "  'OwnerDisplayName': '',\n",
              "  'OwnerUserId': 309,\n",
              "  'ParentId': 89,\n",
              "  'PostTypeId': 2,\n",
              "  'Score': -1,\n",
              "  'Tags': '',\n",
              "  'Title': '',\n",
              "  'ViewCount': ''}]"
            ]
          },
          "metadata": {},
          "execution_count": 39
        }
      ],
      "source": [
        "respuestas = posts.find({ '$and' : [ {\"PostTypeId\": 2} ,\n",
        "                                    {\"Id\" : {'$gte' : 100}} ]}).limit(10)\n",
        "list(respuestas)"
      ]
    },
    {
      "cell_type": "markdown",
      "metadata": {
        "id": "v9fkqQyEXK43"
      },
      "source": [
        "También hay operaciones específicas de la coleción, como `count()`, `groupby()` y `distinct()`:![distinct.bakedsvg.svg](https://github.com/dsevilla/bdge-data/raw/master/misc/mongo-distinct.png)"
      ]
    },
    {
      "cell_type": "code",
      "execution_count": 40,
      "metadata": {
        "id": "Le1hoZ79XK45",
        "scrolled": true,
        "colab": {
          "base_uri": "https://localhost:8080/"
        },
        "outputId": "c7a54284-fcf9-4961-8284-f77c9adbbdd0"
      },
      "outputs": [
        {
          "output_type": "execute_result",
          "data": {
            "text/plain": [
              "[-13,\n",
              " -10,\n",
              " -9,\n",
              " -8,\n",
              " -7,\n",
              " -6,\n",
              " -5,\n",
              " -4,\n",
              " -3,\n",
              " -2,\n",
              " -1,\n",
              " 0,\n",
              " 1,\n",
              " 2,\n",
              " 3,\n",
              " 4,\n",
              " 5,\n",
              " 6,\n",
              " 7,\n",
              " 8,\n",
              " 9,\n",
              " 10,\n",
              " 11,\n",
              " 12,\n",
              " 13,\n",
              " 14,\n",
              " 15,\n",
              " 16,\n",
              " 17,\n",
              " 18,\n",
              " 19,\n",
              " 20,\n",
              " 21,\n",
              " 22,\n",
              " 23,\n",
              " 24,\n",
              " 25,\n",
              " 26,\n",
              " 27,\n",
              " 28,\n",
              " 29,\n",
              " 30,\n",
              " 31,\n",
              " 32,\n",
              " 33,\n",
              " 35,\n",
              " 36,\n",
              " 37,\n",
              " 38,\n",
              " 39,\n",
              " 41,\n",
              " 42,\n",
              " 43,\n",
              " 44,\n",
              " 46,\n",
              " 47,\n",
              " 48,\n",
              " 49,\n",
              " 52,\n",
              " 53,\n",
              " 54,\n",
              " 55,\n",
              " 62,\n",
              " 63,\n",
              " 69,\n",
              " 77,\n",
              " 89,\n",
              " 94,\n",
              " 98,\n",
              " 106,\n",
              " 174]"
            ]
          },
          "metadata": {},
          "execution_count": 40
        }
      ],
      "source": [
        "db.posts.distinct('Score')"
      ]
    },
    {
      "cell_type": "markdown",
      "metadata": {
        "id": "rwrJSwdffbrI"
      },
      "source": [
        "## Framework de Agregación\n",
        "\n",
        "Framework de agregación: https://docs.mongodb.com/manual/reference/operator/aggregation/. Y aquí incluso un libro completo con usos prácticos de ejecutar agregación: https://www.practical-mongodb-aggregations.com/. A continuación otro vídeo interseante:"
      ]
    },
    {
      "cell_type": "code",
      "execution_count": 41,
      "metadata": {
        "id": "4om0lizwCHJZ",
        "colab": {
          "base_uri": "https://localhost:8080/",
          "height": 321
        },
        "outputId": "ed06f422-4fc2-45d0-d0ac-c7251f2d4b83"
      },
      "outputs": [
        {
          "output_type": "execute_result",
          "data": {
            "text/plain": [
              "<IPython.lib.display.YouTubeVideo at 0x78c734543c70>"
            ],
            "text/html": [
              "\n",
              "        <iframe\n",
              "            width=\"600\"\n",
              "            height=\"300\"\n",
              "            src=\"https://www.youtube.com/embed/VSX4a3h4SmQ\"\n",
              "            frameborder=\"0\"\n",
              "            allowfullscreen\n",
              "            \n",
              "        ></iframe>\n",
              "        "
            ],
            "image/jpeg": "[encoded data removed]"
          },
          "metadata": {},
          "execution_count": 41
        }
      ],
      "source": [
        "from IPython.display import YouTubeVideo\n",
        "YouTubeVideo('VSX4a3h4SmQ',width=600)"
      ]
    },
    {
      "cell_type": "markdown",
      "metadata": {
        "id": "7D-qyfvZXK48",
        "tags": []
      },
      "source": [
        "![](https://miro.medium.com/max/1060/1*2lDBxvZ8Cr3JYkoODTa0lQ.png)"
      ]
    },
    {
      "cell_type": "markdown",
      "metadata": {
        "id": "uXVupHnTXK48"
      },
      "source": [
        "Proyección:"
      ]
    },
    {
      "cell_type": "code",
      "execution_count": 42,
      "metadata": {
        "id": "hHjF49GqXK48",
        "colab": {
          "base_uri": "https://localhost:8080/"
        },
        "outputId": "76aef346-e258-4056-a08a-dc20ae4a7cd0"
      },
      "outputs": [
        {
          "output_type": "execute_result",
          "data": {
            "text/plain": [
              "[{'_id': ObjectId('653a79556adce16b55c6cce7'), 'Id': 1},\n",
              " {'_id': ObjectId('653a79556adce16b55c6cce8'), 'Id': 2},\n",
              " {'_id': ObjectId('653a79556adce16b55c6cce9'), 'Id': 3},\n",
              " {'_id': ObjectId('653a79556adce16b55c6ccea'), 'Id': 4},\n",
              " {'_id': ObjectId('653a79556adce16b55c6cceb'), 'Id': 5},\n",
              " {'_id': ObjectId('653a79556adce16b55c6ccec'), 'Id': 6},\n",
              " {'_id': ObjectId('653a79556adce16b55c6cced'), 'Id': 7},\n",
              " {'_id': ObjectId('653a79556adce16b55c6ccee'), 'Id': 8},\n",
              " {'_id': ObjectId('653a79556adce16b55c6ccef'), 'Id': 9},\n",
              " {'_id': ObjectId('653a79556adce16b55c6ccf0'), 'Id': 10},\n",
              " {'_id': ObjectId('653a79556adce16b55c6ccf1'), 'Id': 11},\n",
              " {'_id': ObjectId('653a79556adce16b55c6ccf2'), 'Id': 12},\n",
              " {'_id': ObjectId('653a79556adce16b55c6ccf3'), 'Id': 14},\n",
              " {'_id': ObjectId('653a79556adce16b55c6ccf4'), 'Id': 15},\n",
              " {'_id': ObjectId('653a79556adce16b55c6ccf5'), 'Id': 16},\n",
              " {'_id': ObjectId('653a79556adce16b55c6ccf6'), 'Id': 17},\n",
              " {'_id': ObjectId('653a79556adce16b55c6ccf7'), 'Id': 18},\n",
              " {'_id': ObjectId('653a79556adce16b55c6ccf8'), 'Id': 19},\n",
              " {'_id': ObjectId('653a79556adce16b55c6ccf9'), 'Id': 20},\n",
              " {'_id': ObjectId('653a79556adce16b55c6ccfa'), 'Id': 21}]"
            ]
          },
          "metadata": {},
          "execution_count": 42
        }
      ],
      "source": [
        "respuestas = db['posts'].aggregate( [\n",
        "    {'$project' : { 'Id' : True }},\n",
        "    {'$limit': 20} ])\n",
        "list(respuestas)"
      ]
    },
    {
      "cell_type": "markdown",
      "metadata": {
        "id": "dkaF-MXPXK4_"
      },
      "source": [
        "_Lookup_!"
      ]
    },
    {
      "cell_type": "code",
      "execution_count": 43,
      "metadata": {
        "id": "CFH1_XvOXK5A",
        "scrolled": true,
        "colab": {
          "base_uri": "https://localhost:8080/"
        },
        "outputId": "d5d5d136-3e5d-4226-f72b-374a36e68f99"
      },
      "outputs": [
        {
          "output_type": "execute_result",
          "data": {
            "text/plain": [
              "[{'_id': ObjectId('653a79556adce16b55c6cd07'),\n",
              "  'Id': 36,\n",
              "  'AcceptedAnswerId': 40,\n",
              "  'AnswerCount': 2,\n",
              "  'Body': '<p>¿Cuál es la diferencia entre un <code>inner</code> y un <code>outer join</code>?</p><br/><br/><p>Y ¿cuál es la función de los modificadores <code>left</code>, <code>right</code> o <code>full</code>?</p><br/>',\n",
              "  'ClosedDate': None,\n",
              "  'CommentCount': 0,\n",
              "  'CommunityOwnedDate': None,\n",
              "  'CreationDate': datetime.datetime(2015, 11, 2, 15, 31, 51, 453000),\n",
              "  'FavoriteCount': 14,\n",
              "  'LastActivityDate': datetime.datetime(2017, 7, 27, 18, 24, 16, 747000),\n",
              "  'LastEditDate': datetime.datetime(2017, 3, 4, 4, 23, 32, 177000),\n",
              "  'LastEditorDisplayName': '',\n",
              "  'LastEditorUserId': 29967,\n",
              "  'OwnerDisplayName': '',\n",
              "  'OwnerUserId': 21,\n",
              "  'ParentId': '',\n",
              "  'PostTypeId': 1,\n",
              "  'Score': 54,\n",
              "  'Tags': '<mysql><sql><join>',\n",
              "  'Title': '¿Cuál es la diferencia entre un inner y un outer join?',\n",
              "  'ViewCount': 6015,\n",
              "  'owner': [{'_id': ObjectId('653a795a6adce16b55c7f6f2'),\n",
              "    'Id': 21,\n",
              "    'AboutMe': '<p>Entrepreneur, software developer and traveler. :)</p><br/>',\n",
              "    'AccountId': 93263,\n",
              "    'Age': 42,\n",
              "    'CreationDate': datetime.datetime(2015, 10, 29, 13, 46, 46, 317000),\n",
              "    'DisplayName': 'jachguate',\n",
              "    'DownVotes': 24,\n",
              "    'LastAccessDate': datetime.datetime(2017, 8, 21, 13, 44, 25, 473000),\n",
              "    'Location': 'Guatemala',\n",
              "    'ProfileImageUrl': '',\n",
              "    'Reputation': 5204,\n",
              "    'UpVotes': 512,\n",
              "    'Views': 294,\n",
              "    'WebsiteUrl': 'http://jachguate.wordpress.com'}]},\n",
              " {'_id': ObjectId('653a79556adce16b55c6cd0b'),\n",
              "  'Id': 40,\n",
              "  'AcceptedAnswerId': '',\n",
              "  'AnswerCount': '',\n",
              "  'Body': '<p>Asumiendo que se está haciendo un <code>join</code> de columnas sin duplicados, lo cuál es un caso común:</p><br/><br/><ul><br/><li><p>Un <strong>inner join</strong> de A y B entregará el resultado de la intersección de los conjuntos A y B. En otras palabras, la parte <em>interna</em> –intersección– en un diagrama de Venn.</p></li><br/><li><p>Un <strong>full outer join</strong> entre A y B entregará el resultado de la unión de A y B. En otras palabras, la parte <em>externa</em> –unión– en un diagrama de Venn .</p></li><br/></ul><br/><br/><h1>Ejemplos:</h1><br/><br/><p>Supongamos que tenemos dos tablas, con una sola columna cada una y los siguientes datos:</p><br/><br/><pre><code>A    B<br/>-    -<br/>1    3<br/>2    4<br/>3    5<br/>4    6<br/></code></pre><br/><br/><p>Nota que (1,2) solo se encuentran en A, (3,4) son comunes y (5,6) solamente se encuentran en B.</p><br/><br/><h1>Inner Join</h1><br/><br/><p>Un inner join –utilizando cualquiera de las sintaxis de consulta equivalente– te entrega la intersección de ambas tablas, es decir, las filas que ambas tablas tienen en común.</p><br/><br/><pre><code>select * from a INNER JOIN b on a.a = b.b;<br/>select a.*, b.*  from a, b where a.a = b.b;<br/><br/>a | b<br/>--+--<br/>3 | 3<br/>4 | 4<br/></code></pre><br/><br/><h1>Left outer join</h1><br/><br/><p>Un <code>outer join</code> por la izquierda, te dará todas las filas de A, incluyendo las filas comunes entre A y B.</p><br/><br/><pre><code>select * from a LEFT OUTER JOIN b on a.a = b.b;<br/>select a.*,b.*  from a,b where a.a = b.b(+);<br/><br/>a |  b<br/>--+-----<br/>1 | null<br/>2 | null<br/>3 |    3<br/>4 |    4<br/></code></pre><br/><br/><h1>Right outer join</h1><br/><br/><p>Un <code>outer join</code> por la derecha te dará todas las filas de B, incluyendo las filas comunes con A.</p><br/><br/><pre><code>select * from a RIGHT OUTER JOIN b on a.a = b.b;<br/>select a.*,b.*  from a,b where a.a(+) = b.b;<br/><br/>a    |  b<br/>-----+----<br/>3    |  3<br/>4    |  4<br/>null |  5<br/>null |  6<br/></code></pre><br/><br/><h1>Full outer join</h1><br/><br/><p>Un <code>outer join</code> completo (full) te entregará la unión de A y B; es decir, todas las filas de A y todas las filas de B. Si una fila en A no tiene una fila correspondiente en B, la porción de B es null, y vice versa.</p><br/><br/><pre><code>select * from a FULL OUTER JOIN b on a.a = b.b;<br/><br/> a   |  b<br/>-----+-----<br/>   1 | null<br/>   2 | null<br/>   3 |    3<br/>   4 |    4<br/>null |    5<br/>null |    6<br/></code></pre><br/><br/><h1>Diagramas de Venn</h1><br/><br/><p>Esto mismo, podemos verlo con diagramas de Venn:</p><br/><br/><p><img src=\"https://upload.wikimedia.org/wikipedia/commons/9/9d/SQL_Joins.svg\" alt=\"Explicación visual de joins\"><br/>Imagen <a href=\"https://commons.wikimedia.org/wiki/File:SQL_Joins.svg\" rel=\"noreferrer\">SQL Joins.svg</a> de <a href=\"https://commons.wikimedia.org/wiki/User:Arbeck\" rel=\"noreferrer\">Arbeck</a>, compartida bajo licencia <a href=\"https://creativecommons.org/licenses/by/3.0/deed.en\" rel=\"noreferrer\">CC BY 3.0</a>.</p><br/>',\n",
              "  'ClosedDate': None,\n",
              "  'CommentCount': 4,\n",
              "  'CommunityOwnedDate': None,\n",
              "  'CreationDate': datetime.datetime(2015, 11, 2, 17, 8, 19, 893000),\n",
              "  'FavoriteCount': '',\n",
              "  'LastActivityDate': datetime.datetime(2017, 3, 4, 4, 26, 22, 527000),\n",
              "  'LastEditDate': datetime.datetime(2017, 3, 4, 4, 26, 22, 527000),\n",
              "  'LastEditorDisplayName': '',\n",
              "  'LastEditorUserId': 29967,\n",
              "  'OwnerDisplayName': '',\n",
              "  'OwnerUserId': 21,\n",
              "  'ParentId': 36,\n",
              "  'PostTypeId': 2,\n",
              "  'Score': 98,\n",
              "  'Tags': '',\n",
              "  'Title': '',\n",
              "  'ViewCount': '',\n",
              "  'owner': [{'_id': ObjectId('653a795a6adce16b55c7f6f2'),\n",
              "    'Id': 21,\n",
              "    'AboutMe': '<p>Entrepreneur, software developer and traveler. :)</p><br/>',\n",
              "    'AccountId': 93263,\n",
              "    'Age': 42,\n",
              "    'CreationDate': datetime.datetime(2015, 10, 29, 13, 46, 46, 317000),\n",
              "    'DisplayName': 'jachguate',\n",
              "    'DownVotes': 24,\n",
              "    'LastAccessDate': datetime.datetime(2017, 8, 21, 13, 44, 25, 473000),\n",
              "    'Location': 'Guatemala',\n",
              "    'ProfileImageUrl': '',\n",
              "    'Reputation': 5204,\n",
              "    'UpVotes': 512,\n",
              "    'Views': 294,\n",
              "    'WebsiteUrl': 'http://jachguate.wordpress.com'}]},\n",
              " {'_id': ObjectId('653a79556adce16b55c6cd2e'),\n",
              "  'Id': 94,\n",
              "  'AcceptedAnswerId': '',\n",
              "  'AnswerCount': '',\n",
              "  'Body': '<p>Si quieres mantener los cambios:</p><br/><br/><pre><code>git reset [--mixed] HEAD~1<br/></code></pre><br/><br/><p>Si además no quieres cargarte el commit (sólo mover el head al anterior):</p><br/><br/><pre><code>git reset --soft HEAD~1<br/></code></pre><br/><br/><p>Y si no quieres mantenerlos (y volver al estado del commit anterior, en la práctica, destruir el último commit completamente como si nunca hubiera existido):</p><br/><br/><pre><code>git reset --hard HEAD~1<br/></code></pre><br/>',\n",
              "  'ClosedDate': None,\n",
              "  'CommentCount': 2,\n",
              "  'CommunityOwnedDate': None,\n",
              "  'CreationDate': datetime.datetime(2015, 12, 1, 18, 36, 17, 250000),\n",
              "  'FavoriteCount': '',\n",
              "  'LastActivityDate': datetime.datetime(2015, 12, 1, 19, 10, 37, 377000),\n",
              "  'LastEditDate': datetime.datetime(2015, 12, 1, 19, 10, 37, 377000),\n",
              "  'LastEditorDisplayName': '',\n",
              "  'LastEditorUserId': 175,\n",
              "  'OwnerDisplayName': '',\n",
              "  'OwnerUserId': 175,\n",
              "  'ParentId': 90,\n",
              "  'PostTypeId': 2,\n",
              "  'Score': 44,\n",
              "  'Tags': '',\n",
              "  'Title': '',\n",
              "  'ViewCount': '',\n",
              "  'owner': [{'_id': ObjectId('653a795a6adce16b55c7f77f'),\n",
              "    'Id': 175,\n",
              "    'AboutMe': '<p>Thirty-something wannabe programmer from Murcia, Spain</p><br/><br/><p>Twitter: <a href=\"https://twitter.com/javiercampos\" rel=\"nofollow\">@javiercampos</a></p><br/>',\n",
              "    'AccountId': 26496,\n",
              "    'Age': 38,\n",
              "    'CreationDate': datetime.datetime(2015, 12, 1, 17, 13, 47, 890000),\n",
              "    'DisplayName': 'Jcl',\n",
              "    'DownVotes': 2,\n",
              "    'LastAccessDate': datetime.datetime(2017, 8, 24, 6, 47, 48, 937000),\n",
              "    'Location': 'Murcia, Spain',\n",
              "    'ProfileImageUrl': 'https://www.gravatar.com/avatar/8d6979892fcf604810eea4f9ac086079?s=128&d=identicon&r=PG',\n",
              "    'Reputation': 721,\n",
              "    'UpVotes': 2,\n",
              "    'Views': 23,\n",
              "    'WebsiteUrl': 'http://www.javiercampos.info'}]},\n",
              " {'_id': ObjectId('653a79556adce16b55c6cd62'),\n",
              "  'Id': 151,\n",
              "  'AcceptedAnswerId': '',\n",
              "  'AnswerCount': '',\n",
              "  'Body': '<p>Con esta expresión regular puedes validar cualquier dirección de correo elecrónico que contenga caracteres Unicode:</p><br/><br/><pre><code>/^(([^<>()[\\\\]\\\\.,;:\\\\s@\\\\\"]+(\\\\.[^<>()[\\\\]\\\\.,;:\\\\s@\\\\\"]+)*)|(\\\\\".+\\\\\"))@(([^<>()[\\\\]\\\\.,;:\\\\s@\\\\\"]+\\\\.)+[^<>()[\\\\]\\\\.,;:\\\\s@\\\\\"]{2,})$/i<br/></code></pre><br/><br/><p>Si lo pruebas en una consola de JavaScript:</p><br/><br/><pre><code>> emailRegex.test(\"abcde.fghi@gmail.com\");<br/>< true<br/>> emailRegex.test(\"germán@bla.com\");<br/>< true<br/></code></pre><br/><br/><p><a href=\"https://stackoverflow.com/a/46181\"><strong>Fuente</strong></a></p><br/><br/><hr><br/><br/><p>A partir de ahí, y como muy bien has mencionado, una expresión que se ajusta más a tus necesidades sería la siguiente:</p><br/><br/><pre><code>/^(?:[^<>()[\\\\].,;:\\\\s@\"]+(\\\\.[^<>()[\\\\].,;:\\\\s@\"]+)*|\"[^\\\\n\"]+\")@(?:[^<>()[\\\\].,;:\\\\s@\"]+\\\\.)+[^<>()[\\\\]\\\\.,;:\\\\s@\"]{2,63}$/i<br/></code></pre><br/>',\n",
              "  'ClosedDate': None,\n",
              "  'CommentCount': 2,\n",
              "  'CommunityOwnedDate': datetime.datetime(2017, 6, 22, 13, 57, 57, 983000),\n",
              "  'CreationDate': datetime.datetime(2015, 12, 1, 21, 13, 37, 470000),\n",
              "  'FavoriteCount': '',\n",
              "  'LastActivityDate': datetime.datetime(2017, 6, 22, 13, 57, 57, 983000),\n",
              "  'LastEditDate': datetime.datetime(2017, 6, 22, 13, 57, 57, 983000),\n",
              "  'LastEditorDisplayName': '',\n",
              "  'LastEditorUserId': 149,\n",
              "  'OwnerDisplayName': '',\n",
              "  'OwnerUserId': 149,\n",
              "  'ParentId': 142,\n",
              "  'PostTypeId': 2,\n",
              "  'Score': 47,\n",
              "  'Tags': '',\n",
              "  'Title': '',\n",
              "  'ViewCount': '',\n",
              "  'owner': [{'_id': ObjectId('653a795a6adce16b55c7f765'),\n",
              "    'Id': 149,\n",
              "    'AboutMe': '',\n",
              "    'AccountId': 6725052,\n",
              "    'Age': '',\n",
              "    'CreationDate': datetime.datetime(2015, 12, 1, 17, 6, 44, 570000),\n",
              "    'DisplayName': 'Hewbot',\n",
              "    'DownVotes': 0,\n",
              "    'LastAccessDate': datetime.datetime(2017, 6, 23, 11, 52, 48, 260000),\n",
              "    'Location': '',\n",
              "    'ProfileImageUrl': 'https://i.stack.imgur.com/qi2nd.png?s=128&g=1',\n",
              "    'Reputation': 960,\n",
              "    'UpVotes': 9,\n",
              "    'Views': 38,\n",
              "    'WebsiteUrl': ''}]},\n",
              " {'_id': ObjectId('653a79556adce16b55c6cd8b'),\n",
              "  'Id': 197,\n",
              "  'AcceptedAnswerId': '',\n",
              "  'AnswerCount': 10,\n",
              "  'Body': '<p>Unas veces los cálculos funcionan correctamente, pero otras veces no:</p><br/><br/><pre><code>> 0.1 + 0.1<br/>0.2 // correcto<br/>> 0.1 + 0.2<br/>0.30000000000000004 // ¿qué?<br/>> 10 * 0.67<br/>6.7 // correcto<br/>> 10 * 0.68<br/>6.800000000000001 // demasiado grande<br/>> 10 * 0.69<br/>6.8999999999999995 // demasiado pequeño<br/></code></pre><br/><br/><p>(Estos ejemplos están escritos en JavaScript, pero el mismo problema existe en muchos lenguajes de programación)</p><br/><br/><p>Estos cálculos son bastante fáciles: creo que todos podemos hacerlos en un momento. ¿Por qué mis programas no pueden hacer cálculos aritméticos correctamente, y qué puedo hacer si necesito resultados más precisos?</p><br/>',\n",
              "  'ClosedDate': None,\n",
              "  'CommentCount': 9,\n",
              "  'CommunityOwnedDate': None,\n",
              "  'CreationDate': datetime.datetime(2015, 12, 2, 6, 15, 7, 957000),\n",
              "  'FavoriteCount': 10,\n",
              "  'LastActivityDate': datetime.datetime(2017, 8, 13, 20, 26, 36, 760000),\n",
              "  'LastEditDate': datetime.datetime(2015, 12, 5, 20, 22, 47, 177000),\n",
              "  'LastEditorDisplayName': '',\n",
              "  'LastEditorUserId': 20,\n",
              "  'OwnerDisplayName': '',\n",
              "  'OwnerUserId': 416,\n",
              "  'ParentId': '',\n",
              "  'PostTypeId': 1,\n",
              "  'Score': 77,\n",
              "  'Tags': '<matemáticas><coma-flotante><lenguaje-agnóstico>',\n",
              "  'Title': '¿Por qué mis programas no pueden hacer cálculos aritméticos correctamente?',\n",
              "  'ViewCount': 1744,\n",
              "  'owner': [{'_id': ObjectId('653a795a6adce16b55c7f85f'),\n",
              "    'Id': 416,\n",
              "    'AboutMe': '<p><strong>Projects</strong></p><br/><br/><ul><br/><li><a href=\"http://peterolson.github.com/Pygmy/Docs/index.html\" rel=\"nofollow\">Pygmy</a></li><br/><li><a href=\"https://github.com/peterolson/BigInteger.js\" rel=\"nofollow\">BigInteger.js</a></li><br/><li><a href=\"https://github.com/peterolson/BigRational.js\" rel=\"nofollow\">BigRational.js</a></li><br/><li><a href=\"http://www.virtualtrebuchet.com/\" rel=\"nofollow\">Virtual Trebuchet</a></li><br/><li><a href=\"https://github.com/peterolson/Word-Math\" rel=\"nofollow\">Word Math</a></li><br/></ul><br/><br/><h2><img src=\"https://projecteuler.net/profile/peter.olson.png\" alt=\"enter image description here\"></h2><br/><br/><p>You can contact me at </p><br/><br/><pre><code>peter.e.c.olson+stackexchange@gmail.com<br/></code></pre><br/>',\n",
              "    'AccountId': 262054,\n",
              "    'Age': 22,\n",
              "    'CreationDate': datetime.datetime(2015, 12, 2, 0, 35, 33, 333000),\n",
              "    'DisplayName': 'Peter Olson',\n",
              "    'DownVotes': 0,\n",
              "    'LastAccessDate': datetime.datetime(2017, 8, 14, 14, 41, 39, 493000),\n",
              "    'Location': 'Qingdao, China',\n",
              "    'ProfileImageUrl': '',\n",
              "    'Reputation': 1900,\n",
              "    'UpVotes': 7,\n",
              "    'Views': 80,\n",
              "    'WebsiteUrl': 'http://www.virtualtrebuchet.com/'}]},\n",
              " {'_id': ObjectId('653a79556adce16b55c6cd8f'),\n",
              "  'Id': 204,\n",
              "  'AcceptedAnswerId': '',\n",
              "  'AnswerCount': '',\n",
              "  'Body': '<p>El problema viene de la limitación que los ordenadores tienen para representar números de <a href=\"https://es.wikipedia.org/wiki/Coma_flotante\">coma flotante</a> usando un número finito de bits.</p><br/><br/><p><a href=\"http://www.exploringbinary.com/why-0-point-1-does-not-exist-in-floating-point\">En este artículo en inglés</a> hay una muy buena explicación. Básicamente, para representar el número 0.1 en coma flotante necesitamos un número infinito de dígitos binarios:</p><br/><br/><p><a href=\"https://i.stack.imgur.com/e5fNJ.png\"><img src=\"https://i.stack.imgur.com/e5fNJ.png\" alt=\"Dividiendo 1 entre 10 en binario\"></a></p><br/><br/><p><em>Dividiendo 1 entre 10 en binario</em></p><br/><br/><p><a href=\"https://i.stack.imgur.com/rvPPD.png\"><img src=\"https://i.stack.imgur.com/rvPPD.png\" alt=\"1/10 en binario (primeros 1369 dígitos)\"></a></p><br/><br/><p><em>1/10 en binario (primeros 1369 dígitos)</em></p><br/><br/><p>Si suponemos que nuestro ordenador es capaz de almacenar hasta 53 dígitos, una vez truncado nuestro 0.1 queda representado en binario como:</p><br/><br/><p>0.0001100110011001100110011001100110011001100110011001101</p><br/><br/><p>...que en decimal es</p><br/><br/><p>0.1000000000000000055511151231257827021181583404541015625</p><br/><br/><p>Para este problema hay básicamente dos soluciones:</p><br/><br/><ul><br/><li>Usar un tipo decimal exacto en vez de coma flotante. Hay lenguajes que proporcionan estos tipos nativamente (por ejemplo, .NET tiene el tipo <a href=\"https://msdn.microsoft.com/en-us/library/364x0z75.aspx\">decimal</a>); para los que no, suele haber librerías especializadas para ello (por ejemplo <a href=\"https://github.com/MikeMcl/decimal.js\">decimal.js</a> para Javascript).</li><br/><li>Si el número de decimales se conoce por adelantado (por ejemplo al tratar con valores monetarios), los valores se pueden representar como enteros. Así, 123.45€ se representaría como 12345 céntimos. El punto decimal se añadiría al final, a la hora de mostrar el valor al usuario.</li><br/></ul><br/><br/><p>Un buen sitio con más información sobre este tema: <a href=\"http://puntoflotante.org\">http://puntoflotante.org</a></p><br/>',\n",
              "  'ClosedDate': None,\n",
              "  'CommentCount': 1,\n",
              "  'CommunityOwnedDate': None,\n",
              "  'CreationDate': datetime.datetime(2015, 12, 2, 7, 43, 50, 70000),\n",
              "  'FavoriteCount': '',\n",
              "  'LastActivityDate': datetime.datetime(2015, 12, 2, 9, 56, 34, 630000),\n",
              "  'LastEditDate': datetime.datetime(2015, 12, 2, 9, 56, 34, 630000),\n",
              "  'LastEditorDisplayName': '',\n",
              "  'LastEditorUserId': 23,\n",
              "  'OwnerDisplayName': '',\n",
              "  'OwnerUserId': 23,\n",
              "  'ParentId': 197,\n",
              "  'PostTypeId': 2,\n",
              "  'Score': 106,\n",
              "  'Tags': '',\n",
              "  'Title': '',\n",
              "  'ViewCount': '',\n",
              "  'owner': [{'_id': ObjectId('653a795a6adce16b55c7f6f4'),\n",
              "    'Id': 23,\n",
              "    'AboutMe': '<p><strong><em>Desarrollador en Stack Overflow</em></strong></p><br/><br/><p>Empecemos por lo importante: me encantan los <a href=\"http://en.wikipedia.org/wiki/MSX\" rel=\"nofollow\">ordenadores MSX</a> y el <a href=\"https://en.wikipedia.org/wiki/Renault_Twingo#Twingo_I_.281993.E2.80.932007.29\" rel=\"nofollow\">Renault Twingo clásico</a> (sólo el modelo 1993-2007; los modelos más nuevos son tan aburridos como cualquier otro coche).<br/></p><br/><br/><p>Y ahora la parte aburrida. Soy ingeniero de telecomunicaciones pero trabajo como programador, principalmente en C#. He hecho mucho desarrollo en Windows Forms en el pasado, también WPF y Silverlight, pero ahora estoy más metido en el desarrollo web (al principio sólo backend, pero ahora estoy en el mundo del frontend también).<br/></p><br/><br/><p><del>Cuando tengo tiempo libre me gusta</del> Cuando <em>tenía</em> tiempo libre me gustaba programar mi MSX Turbo-R en ensamblador de Z80. De hecho he desarrollado incluso <a href=\"http://konamiman.com/msx/msx-s.html#inl\" rel=\"nofollow\">una pila TCP/IP completa para MSX</a> (<a href=\"https://bitbucket.org/konamiman/msx/src/cf8fc0cc652e1ff79b1a2fc657b2f10d4e0c72fb/SRC/INL/?at=default\" rel=\"nofollow\">las fuentes están disponibles</a>, ¡échales un ojo!), que presenté como mi proyecto de final de carrera en la universidad, con muy buenos resultados.</p><br/><br/><p>Puedes ver mis proyectos de software aquí:<br/><br/><a href=\"http://www.konamiman.com\" rel=\"nofollow\">http://www.konamiman.com</a><br/><br/><a href=\"http://bitbucket.org/konamiman\" rel=\"nofollow\">http://bitbucket.org/konamiman</a></p><br/><br/><p>Y si quieres puedes escribirme: konamiman@stackoverflow.com</p><br/>',\n",
              "    'AccountId': 3201,\n",
              "    'Age': 43,\n",
              "    'CreationDate': datetime.datetime(2015, 10, 29, 14, 53, 36, 233000),\n",
              "    'DisplayName': 'Konamiman',\n",
              "    'DownVotes': 4,\n",
              "    'LastAccessDate': datetime.datetime(2017, 8, 21, 20, 20, 6, 683000),\n",
              "    'Location': 'Palma de Mallorca, Spain',\n",
              "    'ProfileImageUrl': 'https://i.stack.imgur.com/iqUR6.jpg?s=128&g=1',\n",
              "    'Reputation': 2673,\n",
              "    'UpVotes': 359,\n",
              "    'Views': 369,\n",
              "    'WebsiteUrl': 'http://www.konamiman.com'}]},\n",
              " {'_id': ObjectId('653a79556adce16b55c6cda3'),\n",
              "  'Id': 225,\n",
              "  'AcceptedAnswerId': 226,\n",
              "  'AnswerCount': 11,\n",
              "  'Body': '<p>Estoy creando un mini juego en el que el usuario intenta adivinar un nombre. Pero cuando quiero comparar dos cadenas de texto para ver si son iguales no parece funcionar.</p><br/><br/><pre><code>final String miNombre = \"Jordi\";<br/>Scanner input = new Scanner(System.in);<br/>System.out.println(\"Adivina mi nombre: \");<br/><br/>while (true) {<br/>    String intento = input.next();<br/>    if(intento == miNombre) {<br/>        System.out.println(\"Acertaste!\");<br/>        break;<br/>    } else {<br/>        System.out.println(\"Intentalo de nuevo!\");<br/>    }<br/>}<br/></code></pre><br/><br/><p>SALIDA:</p><br/><br/><pre><code>Adivina mi nombre: <br/>manuel<br/>Intentalo de nuevo!<br/>jordi<br/>Intentalo de nuevo!<br/>Jordi<br/>Intentalo de nuevo!<br/></code></pre><br/>',\n",
              "  'ClosedDate': None,\n",
              "  'CommentCount': 0,\n",
              "  'CommunityOwnedDate': None,\n",
              "  'CreationDate': datetime.datetime(2015, 12, 2, 12, 35, 37, 430000),\n",
              "  'FavoriteCount': 1,\n",
              "  'LastActivityDate': datetime.datetime(2017, 8, 10, 2, 50, 18, 473000),\n",
              "  'LastEditDate': datetime.datetime(2017, 8, 10, 2, 33, 50, 373000),\n",
              "  'LastEditorDisplayName': '',\n",
              "  'LastEditorUserId': 227,\n",
              "  'OwnerDisplayName': '',\n",
              "  'OwnerUserId': 517,\n",
              "  'ParentId': '',\n",
              "  'PostTypeId': 1,\n",
              "  'Score': 43,\n",
              "  'Tags': '<java><string><comparaciones>',\n",
              "  'Title': '¿Cómo comparar correctamente Strings (y objetos) en Java?',\n",
              "  'ViewCount': 27037,\n",
              "  'owner': [{'_id': ObjectId('653a795a6adce16b55c7f8b5'),\n",
              "    'Id': 517,\n",
              "    'AboutMe': '<p>Beer and programming freak.</p><br/><br/><p><a href=\"http://www.ibeernalia.com\" rel=\"nofollow noreferrer\">http://www.ibeernalia.com</a><br><br/><a href=\"http://www.xocdetrens.cat\" rel=\"nofollow noreferrer\">http://www.xocdetrens.cat</a><br><br/><a href=\"http://www.greenardo.cat\" rel=\"nofollow noreferrer\">http://www.greenardo.cat</a><br></p><br/>',\n",
              "    'AccountId': 4763924,\n",
              "    'Age': 36,\n",
              "    'CreationDate': datetime.datetime(2015, 12, 2, 12, 7, 58, 183000),\n",
              "    'DisplayName': 'Jordi Castilla',\n",
              "    'DownVotes': 168,\n",
              "    'LastAccessDate': datetime.datetime(2017, 8, 25, 10, 8, 31, 7000),\n",
              "    'Location': 'Barcelona',\n",
              "    'ProfileImageUrl': 'https://graph.facebook.com/100007829376909/picture?type=large',\n",
              "    'Reputation': 3329,\n",
              "    'UpVotes': 405,\n",
              "    'Views': 204,\n",
              "    'WebsiteUrl': 'http://www.ibeernalia.com'}]},\n",
              " {'_id': ObjectId('653a79556adce16b55c6cda4'),\n",
              "  'Id': 226,\n",
              "  'AcceptedAnswerId': '',\n",
              "  'AnswerCount': '',\n",
              "  'Body': '<p>En <code>Java</code> solo los tipos primitivos (Descritos en el <a href=\"https://docs.oracle.com/javase/specs/jls/se7/html/jls-4.html#jls-4.2\">JLS (§4.2)</a>, por ejemplo <code>int</code> o <code>char</code>) se comparan con <code>==</code>, los <code>String</code>s (y los demas objetos) en <code>Java</code> se comparan entre ellos con el metodo <code>equals</code>.</p><br/><br/><p><a href=\"http://docs.oracle.com/javase/7/docs/api/java/lang/String.html#equals(java.lang.Object)\"><code>String#equals(Object)</code></a></p><br/><br/><blockquote><br/>  <p>Compara este <code>String</code> con el objeto especificado. El resultado es <code>true</code> si, y solo si el argumento no es <code>null</code> y es un objeto del tipo <code>String</code> que representa la misma secuencia de caracteres que este objecto.</p><br/></blockquote><br/><br/><hr><br/><br/><ul><br/><li><a href=\"https://docs.oracle.com/javase/specs/jls/se8/html/jls-15.html#jls-15.21.3\">JLS (§15.21.3)</a> Si bien puede utilizarse <code>==</code> para comparar referencias de tipo <code>String</code>, una prueba de igualdad <strong>determina si los dos operandos refieren al mismo objeto <code>String</code></strong>. El resultado es <code>false</code> si los operandos son distintos objetos String, incluso si contienen la misma secuencia de caracteres.</li><br/></ul><br/><br/><hr><br/><br/><p>Por lo tanto tu comparacion debe ser:</p><br/><br/><pre><code>if(miNombre.equals(intento)) {<br/></code></pre><br/><br/><p><strong>SALIDA:</strong></p><br/><br/><pre><code>Adivina mi nombre: <br/>manuel<br/>Intentalo de nuevo!<br/>Jordi<br/>Acertaste!<br/></code></pre><br/><br/><p><strong>ACLARACIONES:</strong></p><br/><br/><ul><br/><li><p>He puesto la variable <code>miNombre</code> al principio de la comparación para evitar una <a href=\"http://docs.oracle.com/javase/7/docs/api/java/lang/NullPointerException.html\"><code>NullPointerException</code></a> si <code>intento == null</code>  (si, las comparaciones con <code>null</code> tambien se hacen con <code>==</code>).</p><br/><br/><p><strong>Como extra:</strong> si <code>null</code> es un valor válido en la representación (y por tanto queremos evitar una <a href=\"http://docs.oracle.com/javase/7/docs/api/java/lang/NullPointerException.html\"><code>NPE</code></a>), <code>Objects.equals</code> está disponible a partir de <code>Java 7</code> y se encarga de devolver true si ambas son <code>null</code> o <code>false</code> si sólo lo es una. </p></li><br/></ul><br/><br/><p></p><br/><br/><ul><br/><li><p>En este caso se puede usar el metodo <a href=\"http://docs.oracle.com/javase/7/docs/api/java/lang/String.html#equalsIgnoreCase(java.lang.String)\"><code>String#equalsIgnoreCase(Object)</code></a> que ignorara <code>MAYUSCULAS</code> o <code>MINUSCULAS</code> al hacer la comparacion:</p><br/><br/><pre><code>if(miNombre.equalsIgnoreCase(intento)) {       <br/></code></pre></li><br/><li><p><a href=\"https://docs.oracle.com/javase/specs/jls/se8/html/jls-15.html#jls-15.21\">JLS (§15.21)</a> Los operadores de igualdad (<code>==</code> y <code>!=</code>) se pueden utilizar para comparar dos operandos que son convertibles (§5.1.8) de tipo numérico, o los dos operandos de tipo <code>boolean</code> o <code>Boolean</code> o dos operandos que <code>></code> son de tipo de referencia o el tipo <code>null</code>. Todos los demás casos causan un error en tiempo de compilación.</p></li><br/></ul><br/>',\n",
              "  'ClosedDate': None,\n",
              "  'CommentCount': 2,\n",
              "  'CommunityOwnedDate': None,\n",
              "  'CreationDate': datetime.datetime(2015, 12, 2, 12, 35, 37, 430000),\n",
              "  'FavoriteCount': '',\n",
              "  'LastActivityDate': datetime.datetime(2015, 12, 16, 8, 7, 7, 77000),\n",
              "  'LastEditDate': datetime.datetime(2015, 12, 16, 8, 7, 7, 77000),\n",
              "  'LastEditorDisplayName': '',\n",
              "  'LastEditorUserId': 517,\n",
              "  'OwnerDisplayName': '',\n",
              "  'OwnerUserId': 517,\n",
              "  'ParentId': 225,\n",
              "  'PostTypeId': 2,\n",
              "  'Score': 69,\n",
              "  'Tags': '',\n",
              "  'Title': '',\n",
              "  'ViewCount': '',\n",
              "  'owner': [{'_id': ObjectId('653a795a6adce16b55c7f8b5'),\n",
              "    'Id': 517,\n",
              "    'AboutMe': '<p>Beer and programming freak.</p><br/><br/><p><a href=\"http://www.ibeernalia.com\" rel=\"nofollow noreferrer\">http://www.ibeernalia.com</a><br><br/><a href=\"http://www.xocdetrens.cat\" rel=\"nofollow noreferrer\">http://www.xocdetrens.cat</a><br><br/><a href=\"http://www.greenardo.cat\" rel=\"nofollow noreferrer\">http://www.greenardo.cat</a><br></p><br/>',\n",
              "    'AccountId': 4763924,\n",
              "    'Age': 36,\n",
              "    'CreationDate': datetime.datetime(2015, 12, 2, 12, 7, 58, 183000),\n",
              "    'DisplayName': 'Jordi Castilla',\n",
              "    'DownVotes': 168,\n",
              "    'LastAccessDate': datetime.datetime(2017, 8, 25, 10, 8, 31, 7000),\n",
              "    'Location': 'Barcelona',\n",
              "    'ProfileImageUrl': 'https://graph.facebook.com/100007829376909/picture?type=large',\n",
              "    'Reputation': 3329,\n",
              "    'UpVotes': 405,\n",
              "    'Views': 204,\n",
              "    'WebsiteUrl': 'http://www.ibeernalia.com'}]},\n",
              " {'_id': ObjectId('653a79556adce16b55c6ce02'),\n",
              "  'Id': 331,\n",
              "  'AcceptedAnswerId': 402,\n",
              "  'AnswerCount': 7,\n",
              "  'Body': '<p>Siempre he visto que en <code>JavaScript</code> hay:</p><br/><br/><ul><br/><li>asignaciones <code>=</code></li><br/><li>comparaciones <code>==</code> y <code>===</code></li><br/></ul><br/><br/><p>Creo entender que <code>==</code> hace algo parecido a comparar el valor de la variable y el <code>===</code> también compara el tipo (como un equals de java). </p><br/><br/><p><strong>¿Alguien podría confirmarme este punto y extenderlo?</strong>. Soy javero y el no tipado de javascript a veces me encanta y otras lo odio.</p><br/><br/><hr><br/><br/><p>¿Cuál es la manera correcta en javascript de comparar <code>undefined</code>, <code>null</code> y otros valores por defecto? </p><br/><br/><pre><code>variable == null<br/>variable === null<br/></code></pre><br/><br/><p>¿<strong><code>undefined</code></strong> se usa como cadena de texto o como palabra clave? ¿Cual de las siguientes comparaciones es la correcta para un elemento <code>html</code> sin <code>value</code>? (por ejemplo un label sin contenido)</p><br/><br/><pre><code>variable == \"undefined\"<br/>variable === \"undefined\"<br/>variable == undefined<br/>variable === undefined<br/></code></pre><br/>',\n",
              "  'ClosedDate': None,\n",
              "  'CommentCount': 0,\n",
              "  'CommunityOwnedDate': None,\n",
              "  'CreationDate': datetime.datetime(2015, 12, 3, 9, 45, 7, 97000),\n",
              "  'FavoriteCount': 11,\n",
              "  'LastActivityDate': datetime.datetime(2016, 11, 3, 14, 8, 15, 603000),\n",
              "  'LastEditDate': datetime.datetime(2015, 12, 18, 13, 41, 26, 843000),\n",
              "  'LastEditorDisplayName': '',\n",
              "  'LastEditorUserId': 20,\n",
              "  'OwnerDisplayName': '',\n",
              "  'OwnerUserId': 517,\n",
              "  'ParentId': '',\n",
              "  'PostTypeId': 1,\n",
              "  'Score': 48,\n",
              "  'Tags': '<javascript><comparaciones>',\n",
              "  'Title': 'Diferencias entre == y === (comparaciones en JavaScript)',\n",
              "  'ViewCount': 12849,\n",
              "  'owner': [{'_id': ObjectId('653a795a6adce16b55c7f8b5'),\n",
              "    'Id': 517,\n",
              "    'AboutMe': '<p>Beer and programming freak.</p><br/><br/><p><a href=\"http://www.ibeernalia.com\" rel=\"nofollow noreferrer\">http://www.ibeernalia.com</a><br><br/><a href=\"http://www.xocdetrens.cat\" rel=\"nofollow noreferrer\">http://www.xocdetrens.cat</a><br><br/><a href=\"http://www.greenardo.cat\" rel=\"nofollow noreferrer\">http://www.greenardo.cat</a><br></p><br/>',\n",
              "    'AccountId': 4763924,\n",
              "    'Age': 36,\n",
              "    'CreationDate': datetime.datetime(2015, 12, 2, 12, 7, 58, 183000),\n",
              "    'DisplayName': 'Jordi Castilla',\n",
              "    'DownVotes': 168,\n",
              "    'LastAccessDate': datetime.datetime(2017, 8, 25, 10, 8, 31, 7000),\n",
              "    'Location': 'Barcelona',\n",
              "    'ProfileImageUrl': 'https://graph.facebook.com/100007829376909/picture?type=large',\n",
              "    'Reputation': 3329,\n",
              "    'UpVotes': 405,\n",
              "    'Views': 204,\n",
              "    'WebsiteUrl': 'http://www.ibeernalia.com'}]},\n",
              " {'_id': ObjectId('653a79556adce16b55c6ce46'),\n",
              "  'Id': 402,\n",
              "  'AcceptedAnswerId': '',\n",
              "  'AnswerCount': '',\n",
              "  'Body': '<p>Los operadores <code>===</code> y <code>!==</code> son los operadores de comparación <em>estricta</em>. Esto significa que si los operandos tienen tipos diferentes, no son iguales. Por ejemplo,</p><br/><br/><pre><code>1 === \"1\" // false<br/>1 !== \"1\"  // true<br/>null === undefined // false<br/></code></pre><br/><br/><p>Los operadores <code>==</code> y <code>!=</code> son los operadores de comparación <em>relajada</em>. Es decir, si los operandos tienen tipos diferentes, JavaScript trata de convertirlos para que fueran comparables. Por ejemplo,</p><br/><br/><pre><code>1 == \"1\" // true<br/>1 != \"1\" // false<br/>null == undefined // true<br/></code></pre><br/><br/><p>Vale mencionar que el operador <code>==</code> no es <a href=\"https://es.wikipedia.org/wiki/Relaci%C3%B3n_transitiva\" rel=\"noreferrer\">transitivo</a>, al contrario que <code>===</code>.</p><br/><br/><pre><code>\"0\" == 0 // true<br/>0 == \"\"  // true<br/>\"0\" == \"\"// false<br/></code></pre><br/><br/><p>No es muy fácil recordar todas las reglas de la comparación relajada, y a veces funciona en una manera contraintuitiva. Por eso, yo recomiendo usar <code>===</code> en vez de <code>==</code>.</p><br/><br/><p>No recuerdo todos los pequeños detalles del operador <code>==</code>, entonces echemos un vistazo a la <a href=\"http://es5.github.io/#x11.9.3\" rel=\"noreferrer\">especificación, punto 11.9.3:</a></p><br/><br/><blockquote><br/>  <h1>El algoritmo de la comparación de igualdad abstracta</h1><br/>  <br/>  <p>La comparación <em>x == y</em>, donde <em>x</em> e <em>y</em> son valores, regresa <em>true</em> o <em>false</em>. Esta comparación se realiza de la siguiente manera:</p><br/>  <br/>  <ol><br/>  <li>Si <em>Type(x)</em> y <em>Type(y)</em> son los mismos,<br/>  <br/>  <ol><br/>  <li>Si <em>Type(x)</em> es <em>Undefined</em>, regresa <em>true</em>.</li><br/>  <li>Si <em>Type(x)</em> es <em>Null</em>, regresa <em>true</em>.</li><br/>  <li>Si <em>Type(x)</em> es <em>Number</em>,<br/>  <br/>  <ol><br/>  <li>Si <em>x</em> es <em>NaN</em>, regresa <em>false</em>.</li><br/>  <li>Si <em>y</em> es <em>NaN</em>, regresa <em>false</em>.</li><br/>  <li>Si <em>x</em> es el mismo valor de <em>Number</em> que <em>y</em>, regresa <em>true</em>.</li><br/>  <li>Si <em>x</em> es <em>+0</em> e <em>y</em> es <em>−0</em>, regresa <em>true</em>.</li><br/>  <li>Si <em>x</em> es <em>-0</em> e <em>y</em> es <em>+0</em>, regresa <em>true</em>.</li><br/>  <li>Regresa <em>false</em>.</li><br/>  </ol></li><br/>  <li>Si <em>Type(x)</em> es <em>String</em>, regresa <em>true</em> si <em>x</em> e <em>y</em> son exactamente la misma secuencia de caracteres (con la misma longitud y los mismos caracteres en las posiciones correspondientes). En el caso contrario, regresa <em>false</em>.</li><br/>  <li>Si <em>Type(x)</em> es <em>Boolean</em>, regresa <em>true</em>, si <em>x</em> e <em>y</em> ambos son <em>true</em> o ambos son <em>false</em>. En el caso contrario, regresa <em>false</em>.</li><br/>  <li>Regresa <em>true</em> si <em>x</em> e <em>y</em> refieren al mismo objeto. En el caso contrario, regresa <em>false</em>.</li><br/>  </ol></li><br/>  <li>Si <em>x</em> es <em>null</em> e <em>y</em> es <em>undefined</em>, regresa <em>true</em>.</li><br/>  <li>Si <em>x</em> es <em>undefined</em> e <em>y</em> es <em>null</em>, regresa <em>true</em>.</li><br/>  <li>Si <em>Type(x)</em> es <em>Number</em> y <em>Type(y)</em> es <em>String</em>,<br><br/>  regresa el resultado de la comparación <em>x == ToNumber(y)</em>.</li><br/>  <li>Si <em>Type(x)</em> es <em>String</em> y <em>Type(y)</em> es <em>Number</em>,<br><br/>  regresa el resultado de la comparación <em>ToNumber(x) == y</em>.</li><br/>  <li>Si <em>Type(x)</em> es <em>Boolean</em>, regresa el resultado de la comparación <em>ToNumber(x) == y</em>.</li><br/>  <li>Si <em>Type(y)</em> es <em>Boolean</em>, regresa el resultado de la comparación <em>x == ToNumber(y)</em>.</li><br/>  <li>Si <em>Type(x)</em> es <em>String</em> o <em>Number</em>, y <em>Type(y)</em> es <em>Object</em>,<br><br/>  regresa el resultado de la comparación <em>x == ToPrimitive(y)</em>.</li><br/>  <li>Si <em>Type(x)</em> es <em>Object</em> y <em>Type(y)</em> es <em>String</em> o <em>Number</em>,<br><br/>  regresa el resultado de la comparación <em>ToPrimitive(x) == y</em>.</li><br/>  <li>Regresa <em>false</em>.</li><br/>  </ol><br/></blockquote><br/><br/><hr><br/><br/><p>Esta respuesta es una traducción de <a href=\"https://ru.stackoverflow.com/a/431663/176684\">mi respuesta a la misma pregunta en el sitio ruso</a>.</p><br/>',\n",
              "  'ClosedDate': None,\n",
              "  'CommentCount': 0,\n",
              "  'CommunityOwnedDate': None,\n",
              "  'CreationDate': datetime.datetime(2015, 12, 4, 1, 51, 17, 207000),\n",
              "  'FavoriteCount': '',\n",
              "  'LastActivityDate': datetime.datetime(2015, 12, 18, 11, 40, 50, 483000),\n",
              "  'LastEditDate': datetime.datetime(2017, 4, 13, 12, 53, 35, 250000),\n",
              "  'LastEditorDisplayName': '',\n",
              "  'LastEditorUserId': -1,\n",
              "  'OwnerDisplayName': '',\n",
              "  'OwnerUserId': 416,\n",
              "  'ParentId': 331,\n",
              "  'PostTypeId': 2,\n",
              "  'Score': 49,\n",
              "  'Tags': '',\n",
              "  'Title': '',\n",
              "  'ViewCount': '',\n",
              "  'owner': [{'_id': ObjectId('653a795a6adce16b55c7f85f'),\n",
              "    'Id': 416,\n",
              "    'AboutMe': '<p><strong>Projects</strong></p><br/><br/><ul><br/><li><a href=\"http://peterolson.github.com/Pygmy/Docs/index.html\" rel=\"nofollow\">Pygmy</a></li><br/><li><a href=\"https://github.com/peterolson/BigInteger.js\" rel=\"nofollow\">BigInteger.js</a></li><br/><li><a href=\"https://github.com/peterolson/BigRational.js\" rel=\"nofollow\">BigRational.js</a></li><br/><li><a href=\"http://www.virtualtrebuchet.com/\" rel=\"nofollow\">Virtual Trebuchet</a></li><br/><li><a href=\"https://github.com/peterolson/Word-Math\" rel=\"nofollow\">Word Math</a></li><br/></ul><br/><br/><h2><img src=\"https://projecteuler.net/profile/peter.olson.png\" alt=\"enter image description here\"></h2><br/><br/><p>You can contact me at </p><br/><br/><pre><code>peter.e.c.olson+stackexchange@gmail.com<br/></code></pre><br/>',\n",
              "    'AccountId': 262054,\n",
              "    'Age': 22,\n",
              "    'CreationDate': datetime.datetime(2015, 12, 2, 0, 35, 33, 333000),\n",
              "    'DisplayName': 'Peter Olson',\n",
              "    'DownVotes': 0,\n",
              "    'LastAccessDate': datetime.datetime(2017, 8, 14, 14, 41, 39, 493000),\n",
              "    'Location': 'Qingdao, China',\n",
              "    'ProfileImageUrl': '',\n",
              "    'Reputation': 1900,\n",
              "    'UpVotes': 7,\n",
              "    'Views': 80,\n",
              "    'WebsiteUrl': 'http://www.virtualtrebuchet.com/'}]},\n",
              " {'_id': ObjectId('653a79566adce16b55c6f051'),\n",
              "  'Id': 10519,\n",
              "  'AcceptedAnswerId': '',\n",
              "  'AnswerCount': '',\n",
              "  'Body': '<h1>¿Qué es la inyección SQL?</h1><br/><br/><p>La inyección de SQL es un tipo de ataque informático que consiste en la infiltración de código intruso dentro de las sentencias/consultas a ejecutar en la base de datos. Esta infiltración suele ocurrir a través de los parámetros pasados por los usuarios a un programa o a través de un formulario web.</p><br/><br/><p>El objetivo de la intrusión suele ser malicioso y puede causar daños importantes: revelación de datos, modificación de contenido, suplantación de identidad, borrado y destrucción de datos o estructuras dentro de la base de datos...</p><br/><br/><p>Muchos programadores asumen que los usuarios siempre van a introducir datos válidos y que las consultas por tanto van a ser fiables, y no toman medidas especiales a la hora de armar sentencias que ejecutan en la base de datos. Eso hace sus aplicaciones vulnerables a este tipo de ataques.</p><br/><br/><p>Para encontrar <strong>más información en español sobre inyección SQL</strong> lee el <a href=\"https://es.wikipedia.org/wiki/Inyecci%C3%B3n_SQL\" rel=\"noreferrer\">artículo de la Wikipedia</a> (con ejemplos de resolución en diferentes lenguajes), la <a href=\"http://php.net/manual/es/security.database.sql-injection.php\" rel=\"noreferrer\">documentación oficial de PHP</a> o el <a href=\"https://www.owasp.org/index.php/Inyecci%C3%B3n_SQL\" rel=\"noreferrer\">sitio web de OWASP</a>.</p><br/><br/><blockquote><br/>  <p><strong>EJEMPLO</strong>: imagina que tienes una página web con un formulario para actualizar los datos del usuario en tu base de datos, pero no saneas esas entradas antes de utilizarlas. En PHP podrías tener algo como esto:</p><br/><br/><pre><code>$sql = \"UPDATE usuarios SET nombre = \\'\".$_POST[\"nombre\"].\"\\' WHERE id = \".$_POST[\"id\"];<br/></code></pre><br/>  <br/>  <p>Ahora imagina que el usuario malicioso escribe que su nombre es <code>Pepito\\' WHERE 1=1;--</code>. Tu sentencia SQL quedará así:</p><br/><br/><pre><code>UPDATE usuarios SET nombre = \\'Pepito\\' WHERE 1=1;--\\' WHERE id = 123<br/></code></pre><br/>  <br/>  <p>Los caracters <code>--</code> indican que lo que sigue es un comentario y se ignora en la base de datos, por lo que se ejecuta es simplemente esto:</p><br/><br/><pre><code>UPDATE usuarios SET nombre = \\'Pepito\\' WHERE 1=1;<br/></code></pre><br/>  <br/>  <p>El usuario malicioso ha inyectado código SQL y ha hecho que todos los usuarios en tu base de datos se llamen Pepito a partir de ahora. Si además permites múltiples sentencias a la misma vez, el usuario malicioso podría pasar algo como <code>\\'; DROP TABLE usuarios;--</code> y borrar toda la tabla, como se bromea (aunque no sería para broma) en esta <a href=\"http://xkcd.com/327/\" rel=\"noreferrer\">tira clásica de xkcd</a>:</p><br/>  <br/>  <p><img src=\"https://i.stack.imgur.com/cuTeF.png\" alt=\"introducir la descripción de la imagen aquí\"></p><br/></blockquote><br/><br/><hr><br/><br/><h1>¿Cómo puedo evitar la inyección SQL?</h1><br/><br/><p>Para evitar la inyección SQL basta con seguir una serie sencilla de directrices:</p><br/><br/><ul><br/><li><strong>DESCONFÍA siempre de las entradas del usuario</strong>. Preprocésalas, sanéalas o compruébalas, pero nunca las uses directamente. Debes asumir siempre que el usuario va a intentar atacar tu base de datos; queremos pensar que todos los usuarios son buenas personas, pero basta un único usuario malicioso para destruirlo todo.</li><br/><li><strong>EVITA los SQL dinámicos</strong>. Son el error más común a la hora de ejecutar sentencias a la base de datos y es lo que aprovechan los usuarios maliciosos para atacar tu código. La solución es fácil: no concatenes la consulta SQL con las entradas del usuario, y en su lugar</li><br/><li><strong>UTILIZA sentencias preparadas</strong> (también llamadas parametrizadas). Ofrecen una estrategia más eficiente y menos propensa a errores. Además, los principales sistemas de bases de datos modernos soportan sentencias preparadas con variables vinculadas.</li><br/><li><strong>LIMITA el acceso a la base de datos</strong>. No utilices superusuarios (root) sino usuarios con acceso personlizado/limitado a la base de datos (aunque esto no siempre está al alcance de todos los desarrolladores).</li><br/><li><p><strong>MODERNIZA tu código</strong>. Mantén tu código al día en materia de seguridad, no utilices métodos obsoletos o no recomendados. Hay motivos por los que están obsoletos. </p><br/><br/><p>Por ejemplo, un error relacionado con la modernización que se ve frecuentemente en StackOverflow es el caso particular de PHP y las funciones <code>mysql_*</code>, que deberían evitarse y usar <a href=\"http://php.net/manual/es/book.mysqli.php\" rel=\"noreferrer\">MySQLi (<code>mysqli_*</code>)</a> o <a href=\"http://php.net/manual/es/ref.pdo-mysql.php\" rel=\"noreferrer\">PDO</a> en su lugar. Para más información sobre ese tema, lee la pregunta <a href=\"https://es.stackoverflow.com/a/18233/127\">¿Cómo evitar la inyección SQL en PHP?</a></p></li><br/></ul><br/>',\n",
              "  'ClosedDate': None,\n",
              "  'CommentCount': 4,\n",
              "  'CommunityOwnedDate': datetime.datetime(2016, 5, 20, 4, 13, 1, 313000),\n",
              "  'CreationDate': datetime.datetime(2016, 5, 20, 4, 13, 1, 313000),\n",
              "  'FavoriteCount': '',\n",
              "  'LastActivityDate': datetime.datetime(2016, 9, 4, 5, 58, 18, 67000),\n",
              "  'LastEditDate': datetime.datetime(2017, 4, 13, 13, 0, 52, 473000),\n",
              "  'LastEditorDisplayName': '',\n",
              "  'LastEditorUserId': -1,\n",
              "  'OwnerDisplayName': '',\n",
              "  'OwnerUserId': 250,\n",
              "  'ParentId': 10518,\n",
              "  'PostTypeId': 2,\n",
              "  'Score': 42,\n",
              "  'Tags': '',\n",
              "  'Title': '',\n",
              "  'ViewCount': '',\n",
              "  'owner': [{'_id': ObjectId('653a795a6adce16b55c7f7c6'),\n",
              "    'Id': 250,\n",
              "    'AboutMe': '<p>Ingeniero software con experiencia en diferentes lenguajes y tecnologías: C, C++, C#, VB.Net, PHP, HTML, HTML5, CSS, CSS3, JavaScript, jQuery, Bootstrap, SQL...</p><br/><br/><p>En mi tiempo libre programo apps y juegos para móvil/tableta y aplicaciones web educativas. Por ejemplo: </p><br/><br/><ul><br/><li>90 Seconds: juego en el que hay que adivinar palabras asociadas a una categoría<br/><br/><ul><br/><li><a href=\"https://play.google.com/store/apps/details?id=com.alvaromontoro.ninetyseconds\" rel=\"nofollow noreferrer\">Android</a></li><br/><li><a href=\"https://itunes.apple.com/us/app/90/id1154368492\" rel=\"nofollow noreferrer\">iPhone/iPad</a> </li><br/><li><a href=\"http://rads.stackoverflow.com/amzn/click/B00UW537G2\" rel=\"nofollow noreferrer\">Amazon Fire</a></li><br/></ul></li><br/><li>Bubbles: app para bebés y niños pequeños que consiste en explotar pompas en la pantalla<br/><br/><ul><br/><li><a href=\"https://play.google.com/store/apps/details?id=com.studiokah.bubbles\" rel=\"nofollow noreferrer\">Android</a></li><br/><li><a href=\"https://itunes.apple.com/us/app/bubbles!!!/id1148467739\" rel=\"nofollow noreferrer\">iPhone/iPad</a></li><br/></ul></li><br/><li><a href=\"https://www.textivities.com\" rel=\"nofollow noreferrer\">Textivities</a>: plataforma de e-learning para estudiantes/profesores de lengua e idiomas.</li><br/><li><a href=\"http://kah.me\" rel=\"nofollow noreferrer\">Kah.me</a>: Un sencillo acortador de URLs.</li><br/></ul><br/>',\n",
              "    'AccountId': 4550651,\n",
              "    'Age': '',\n",
              "    'CreationDate': datetime.datetime(2015, 12, 1, 18, 7, 59, 433000),\n",
              "    'DisplayName': 'Alvaro Montoro',\n",
              "    'DownVotes': 157,\n",
              "    'LastAccessDate': datetime.datetime(2017, 8, 27, 1, 34, 34, 513000),\n",
              "    'Location': 'Austin, TX',\n",
              "    'ProfileImageUrl': 'https://i.stack.imgur.com/dK3SK.jpg?s=128&g=1',\n",
              "    'Reputation': 24064,\n",
              "    'UpVotes': 1320,\n",
              "    'Views': 1773,\n",
              "    'WebsiteUrl': 'http://www.alvaromontoro.com'}]},\n",
              " {'_id': ObjectId('653a79566adce16b55c70616'),\n",
              "  'Id': 18232,\n",
              "  'AcceptedAnswerId': 18233,\n",
              "  'AnswerCount': 5,\n",
              "  'Body': '<p>Las sentencias dinámicas son sentencias SQL que se crean como cadenas de texto (strings) y en las que se insertan/concatenan valores obtenidos de alguna fuente (normalmente proveniente del usuario), lo que puede hacer que sean vulnerables a inyección SQL si no se sanean las entradas, como por ejemplo:</p><br/><br/><pre><code>$id_usuario = $_POST[\"id\"];<br/><br/>mysql_query(\"SELECT * FROM usuarios WHERE id = $id_usuario\");<br/></code></pre><br/><br/><p>Eso es un ejemplo de una vulnerabilidad grave en la seguridad de una aplicación (web o no) porque si el usuario introdujese un valor como <code>1; DROP TABLE usuarios;--</code> nos encontraríamos con que la sentencia ejecutada sería:</p><br/><br/><pre><code>SELECT * FROM usuarios WHERE id = 1; DROP TABLE usuarios;--<br/></code></pre><br/><br/><p>Y se eliminaría la tabla Usuarios con todos los datos contenidos en ella. </p><br/><br/><p><strong>¿Cómo puedo evitar que la inyección SQL ocurra en PHP?</strong></p><br/>',\n",
              "  'ClosedDate': None,\n",
              "  'CommentCount': 1,\n",
              "  'CommunityOwnedDate': None,\n",
              "  'CreationDate': datetime.datetime(2016, 7, 31, 21, 3, 26, 190000),\n",
              "  'FavoriteCount': 33,\n",
              "  'LastActivityDate': datetime.datetime(2017, 6, 27, 21, 53, 34, 60000),\n",
              "  'LastEditDate': datetime.datetime(2017, 3, 4, 3, 8, 9, 33000),\n",
              "  'LastEditorDisplayName': '',\n",
              "  'LastEditorUserId': 29967,\n",
              "  'OwnerDisplayName': '',\n",
              "  'OwnerUserId': 250,\n",
              "  'ParentId': '',\n",
              "  'PostTypeId': 1,\n",
              "  'Score': 63,\n",
              "  'Tags': '<php><mysql><sql><seguridad><inyección-sql>',\n",
              "  'Title': '¿Cómo evitar la inyección SQL en PHP?',\n",
              "  'ViewCount': 7624,\n",
              "  'owner': [{'_id': ObjectId('653a795a6adce16b55c7f7c6'),\n",
              "    'Id': 250,\n",
              "    'AboutMe': '<p>Ingeniero software con experiencia en diferentes lenguajes y tecnologías: C, C++, C#, VB.Net, PHP, HTML, HTML5, CSS, CSS3, JavaScript, jQuery, Bootstrap, SQL...</p><br/><br/><p>En mi tiempo libre programo apps y juegos para móvil/tableta y aplicaciones web educativas. Por ejemplo: </p><br/><br/><ul><br/><li>90 Seconds: juego en el que hay que adivinar palabras asociadas a una categoría<br/><br/><ul><br/><li><a href=\"https://play.google.com/store/apps/details?id=com.alvaromontoro.ninetyseconds\" rel=\"nofollow noreferrer\">Android</a></li><br/><li><a href=\"https://itunes.apple.com/us/app/90/id1154368492\" rel=\"nofollow noreferrer\">iPhone/iPad</a> </li><br/><li><a href=\"http://rads.stackoverflow.com/amzn/click/B00UW537G2\" rel=\"nofollow noreferrer\">Amazon Fire</a></li><br/></ul></li><br/><li>Bubbles: app para bebés y niños pequeños que consiste en explotar pompas en la pantalla<br/><br/><ul><br/><li><a href=\"https://play.google.com/store/apps/details?id=com.studiokah.bubbles\" rel=\"nofollow noreferrer\">Android</a></li><br/><li><a href=\"https://itunes.apple.com/us/app/bubbles!!!/id1148467739\" rel=\"nofollow noreferrer\">iPhone/iPad</a></li><br/></ul></li><br/><li><a href=\"https://www.textivities.com\" rel=\"nofollow noreferrer\">Textivities</a>: plataforma de e-learning para estudiantes/profesores de lengua e idiomas.</li><br/><li><a href=\"http://kah.me\" rel=\"nofollow noreferrer\">Kah.me</a>: Un sencillo acortador de URLs.</li><br/></ul><br/>',\n",
              "    'AccountId': 4550651,\n",
              "    'Age': '',\n",
              "    'CreationDate': datetime.datetime(2015, 12, 1, 18, 7, 59, 433000),\n",
              "    'DisplayName': 'Alvaro Montoro',\n",
              "    'DownVotes': 157,\n",
              "    'LastAccessDate': datetime.datetime(2017, 8, 27, 1, 34, 34, 513000),\n",
              "    'Location': 'Austin, TX',\n",
              "    'ProfileImageUrl': 'https://i.stack.imgur.com/dK3SK.jpg?s=128&g=1',\n",
              "    'Reputation': 24064,\n",
              "    'UpVotes': 1320,\n",
              "    'Views': 1773,\n",
              "    'WebsiteUrl': 'http://www.alvaromontoro.com'}]},\n",
              " {'_id': ObjectId('653a79566adce16b55c70617'),\n",
              "  'Id': 18233,\n",
              "  'AcceptedAnswerId': '',\n",
              "  'AnswerCount': '',\n",
              "  'Body': '<blockquote><br/>  <h1>NO USES SENTENCIAS DINÁMICAS NI FUNCIONES <code>mysql_*</code></h1><br/>  <br/>  <p>Las funciones <code>mysql_*</code> (<code>mysql_connect</code>, <code>mysql_query</code>, etc.) son inseguras por naturaleza y su uso no sólo no está recomendado, sino que <strong>se consideran obsoletas y se han eliminado completamente a partir de PHP7</strong>.</p><br/>  <br/>  <p>Incluso los métodos nativos que existen en PHP para sanear las entradas de usuario (como <code>mysql_real_escape_string</code>) pueden presentar (raros) problemas y fallar en algunos casos como cuando se usan codificación de caracteres diferentes a UTF-8 junto a versiones no actualizadas de MySQL (en las <a href=\"http://php.net/manual/es/mysqli.real-escape-string.php\" rel=\"noreferrer\">páginas de PHP para estas funciones</a> se avisa de este riesgo).</p><br/></blockquote><br/><br/><hr><br/><br/><h1>Usa sentencias preparadas y consultas parametrizadas</h1><br/><br/><p>Aunque se podrían sanear las entradas usando métodos como <code>mysqli_real_escape_string</code>, es más recomendable la utilización de sentencias preparadas o parametrizadas. Las sentencias preparadas te permitirán ejecutar la misma sentencia con gran eficiencia.</p><br/><br/><p>En PHP, tienes dos alternativas principales: PDO y  MySQLi. Hay varias diferencias entre ambas, pero la principal es que PDO se puede usar con diferentes tipos de base de datos (dependiendo del driver utilizado) mientras que MySQLi es exclusivamente para bases de datos MySQL. Es por ello que recomendaría PDO sobre MySQLi.</p><br/><br/><h2>PDO</h2><br/><br/><p>Los marcadores de posición (que indican dónde se sustituirá una cadena por su valor), se pueden definir bien usando un signo de interrogación (<code>?</code>) o bien usando un nombre (generalmente empezando con <code>:</code>). Personalmente prefiero usar un nombre, porque eso me ayuda a encontrar posibles errores en caso de tener múltiples variables.</p><br/><br/><p>Aquí dejo un ejemplo para el código de la pregunta:</p><br/><br/><pre><code>// la variable $pdo contendrá el objeto con la conexión PDO<br/>$pdo = new PDO(\\'mysql:host=mihost;dbname=basedatos\\', \"usuario\", \"contraseña\");<br/><br/>$id_usuario = $_POST[\"id\"];<br/><br/>$sentencia = $pdo->prepare(\"SELECT * FROM usuarios WHERE id = :idusuario\");<br/>$sentencia=$pdo->setAttribute(PDO::ATTR_EMULATE_PREPARES, false);<br/>$sentencia->bindParam(\":idusuario\", $id_usuario, PDO::PARAM_INT);<br/>$sentencia->execute();<br/></code></pre><br/><br/><p>En este caso, <code>:idusuario</code> se sustituirá por el valor de <code>$_POST[\"id\"]</code> de forma segura, y cuando hace el <em>bind</em> se indica que la variable es de tipo entero (<code>PDO::PARAM_INT</code>).</p><br/><br/><blockquote><br/>  <p>Nota: si la variable es una cadena de texto se usará <code>PDO::PARAM_STR</code> y no hace falta poner las comillas en la sentencia SQL; al especificarle a PHP que es una cadena, las añadirá automáticamente al hacer el <em>bind</em>.</p><br/></blockquote><br/><br/><p>En caso de que existan varias variables a incluir en la sentencia SQL, se debe incluir un único parámetro para cada uno de los valores que se usan en la sentencia. Del ejemplo anterior, el <code>:idusuario</code> puede usarse una única vez en la consulta que se esta preparando. Si fuera necesario usar el \"idusuario\" de nuevo en la consulta, se debe crear otro parámetro con el valor de <code>$id_usuario</code>.</p><br/><br/><pre><code>$pdo = new PDO(\\'mysql:host=mihost;dbname=basedatos\\', \"usuario\", \"contraseña\");<br/><br/>$id_usuario = $_POST[\"id\"];<br/><br/>$sentencia = $pdo->prepare(\"UPDATE usuarios SET id = :idusuario WHERE id = :idusuario1\");<br/>$sentencia=$pdo->setAttribute(PDO::ATTR_EMULATE_PREPARES, false);<br/>$sentencia->bindParam(\":idusuario\", $id_usuario, PDO::PARAM_INT);<br/>$sentencia->bindParam(\":idusuario1\", $id_usuario, PDO::PARAM_INT);<br/>$sentencia->execute();<br/></code></pre><br/><br/><h2>MySQLi</h2><br/><br/><p>Este método tiene dos interfaces: una procedural y otra orientada a objetos. La interfaz procedural es muy parecida a <code>mysql_*</code>, y por ello la gente que migra desde <code>mysql_*</code> puede sentirse atraída por la facilidad que <code>mysqli_*</code> ofrece. Aunque, de nuevo personalmente, optaría por la versión POO.</p><br/><br/><blockquote><br/>  <p>Nota: aunque las funciones <code>mysqli_*</code> suelen ser parecidas a las <code>mysql_*</code>, en algunos casos pueden tener diferentes parámetros de entrada o diferentes salidas, lo que puede llevar a algo de confusión al principio.</p><br/></blockquote><br/><br/><p>El ejemplo de la pregunta quedaría así con MySQLi en su interfaz orientada a objetos:</p><br/><br/><pre><code>// en $mysqli tendremos la conexión MySQLi<br/>$mysqli = new mysqli(\"mihost\", \"usuario\", \"contraseña\", \"basedatos\");<br/><br/>$id_usuario = $_POST[\"id\"];<br/><br/>$sentencia = $mysqli->prepare(\"SELECT * FROM usuarios WHERE id = ?\");<br/>$sentencia->bind_param(\"i\", $id_usuario );<br/>$sentencia->execute();<br/></code></pre><br/><br/><p>Como se puede ver, es bastante parecido a PDO (cambia un poco cómo se especifica el tipo de valor, <code>i</code> para enteros y <code>s</code> para cadenas, pero la idea es similar).</p><br/><br/><p>En la versión procedural de MySQLi, el código equivalente sería:</p><br/><br/><pre><code>// en $conn tendríamos la conexión a la base de datos con MySQLi<br/>$conn = mysqli_connect(\"mihost\", \"usuario\", \"contraseña\", \"basedatos\");<br/><br/>$id_usuario = $_POST[\"id\"];<br/><br/>$sentencia = mysqli_prepare(\"SELECT * FROM usuarios WHERE id = ?\");<br/>mysqli_stmt_bind_param($sentencia, \"i\", $id_usuario);<br/>mysqli_stmt_execute($sentencia);<br/></code></pre><br/><br/><hr><br/><br/><p>Fuente y bibliografía para más información en español:</p><br/><br/><ul><br/><li><a href=\"http://php.net/manual/es/mysqli.quickstart.prepared-statements.php\" rel=\"noreferrer\">Página oficial de PHP sobre sentencias preparadas</a></li><br/><li><a href=\"http://php.net/manual/es/pdo.prepared-statements.php\" rel=\"noreferrer\">Página oficial de PHP sobre sentencias preparadas en PDO</a></li><br/><li><a href=\"https://es.wikipedia.org/wiki/Inyecci%C3%B3n_SQL\" rel=\"noreferrer\">Artículo en Wikipedia sobre la <strong>inyección SQL y cómo evitarla en PHP y otros lenguajes</strong></a></li><br/></ul><br/>',\n",
              "  'ClosedDate': None,\n",
              "  'CommentCount': 3,\n",
              "  'CommunityOwnedDate': datetime.datetime(2016, 7, 31, 21, 3, 26, 190000),\n",
              "  'CreationDate': datetime.datetime(2016, 7, 31, 21, 3, 26, 190000),\n",
              "  'FavoriteCount': '',\n",
              "  'LastActivityDate': datetime.datetime(2017, 6, 27, 21, 53, 34, 60000),\n",
              "  'LastEditDate': datetime.datetime(2017, 6, 27, 21, 53, 34, 60000),\n",
              "  'LastEditorDisplayName': '',\n",
              "  'LastEditorUserId': 47532,\n",
              "  'OwnerDisplayName': '',\n",
              "  'OwnerUserId': 250,\n",
              "  'ParentId': 18232,\n",
              "  'PostTypeId': 2,\n",
              "  'Score': 55,\n",
              "  'Tags': '',\n",
              "  'Title': '',\n",
              "  'ViewCount': '',\n",
              "  'owner': [{'_id': ObjectId('653a795a6adce16b55c7f7c6'),\n",
              "    'Id': 250,\n",
              "    'AboutMe': '<p>Ingeniero software con experiencia en diferentes lenguajes y tecnologías: C, C++, C#, VB.Net, PHP, HTML, HTML5, CSS, CSS3, JavaScript, jQuery, Bootstrap, SQL...</p><br/><br/><p>En mi tiempo libre programo apps y juegos para móvil/tableta y aplicaciones web educativas. Por ejemplo: </p><br/><br/><ul><br/><li>90 Seconds: juego en el que hay que adivinar palabras asociadas a una categoría<br/><br/><ul><br/><li><a href=\"https://play.google.com/store/apps/details?id=com.alvaromontoro.ninetyseconds\" rel=\"nofollow noreferrer\">Android</a></li><br/><li><a href=\"https://itunes.apple.com/us/app/90/id1154368492\" rel=\"nofollow noreferrer\">iPhone/iPad</a> </li><br/><li><a href=\"http://rads.stackoverflow.com/amzn/click/B00UW537G2\" rel=\"nofollow noreferrer\">Amazon Fire</a></li><br/></ul></li><br/><li>Bubbles: app para bebés y niños pequeños que consiste en explotar pompas en la pantalla<br/><br/><ul><br/><li><a href=\"https://play.google.com/store/apps/details?id=com.studiokah.bubbles\" rel=\"nofollow noreferrer\">Android</a></li><br/><li><a href=\"https://itunes.apple.com/us/app/bubbles!!!/id1148467739\" rel=\"nofollow noreferrer\">iPhone/iPad</a></li><br/></ul></li><br/><li><a href=\"https://www.textivities.com\" rel=\"nofollow noreferrer\">Textivities</a>: plataforma de e-learning para estudiantes/profesores de lengua e idiomas.</li><br/><li><a href=\"http://kah.me\" rel=\"nofollow noreferrer\">Kah.me</a>: Un sencillo acortador de URLs.</li><br/></ul><br/>',\n",
              "    'AccountId': 4550651,\n",
              "    'Age': '',\n",
              "    'CreationDate': datetime.datetime(2015, 12, 1, 18, 7, 59, 433000),\n",
              "    'DisplayName': 'Alvaro Montoro',\n",
              "    'DownVotes': 157,\n",
              "    'LastAccessDate': datetime.datetime(2017, 8, 27, 1, 34, 34, 513000),\n",
              "    'Location': 'Austin, TX',\n",
              "    'ProfileImageUrl': 'https://i.stack.imgur.com/dK3SK.jpg?s=128&g=1',\n",
              "    'Reputation': 24064,\n",
              "    'UpVotes': 1320,\n",
              "    'Views': 1773,\n",
              "    'WebsiteUrl': 'http://www.alvaromontoro.com'}]},\n",
              " {'_id': ObjectId('653a79566adce16b55c7106f'),\n",
              "  'Id': 22393,\n",
              "  'AcceptedAnswerId': '',\n",
              "  'AnswerCount': '',\n",
              "  'Body': '<blockquote><br/>  <p>Me preguntaba que me impide utilizar la palabra \"año\" y quisiera conocer sus opiniones al respecto: lo bueno, lo malo y lo feo; cualquier opinión o comentario al respecto me resultará útil.</p><br/></blockquote><br/><br/><h3>1) Trabajar con un equipo internacional.</h3><br/><br/><p>Cuando trabajas en un equipo internacional, utilizar según qué caracteres puede ser una pesadilla para otros miembros del equipo; no todos <a href=\"https://www.terena.org/activities/multiling/ml-mua/test/kbd-all.html\" rel=\"noreferrer\">los teclados</a> tienen la misma facilidad para acceder a (por ejemplo) nuestra amada N con peineta; así que si tú usas este teclado:</p><br/><br/><p><img src=\"https://www.terena.org/activities/multiling/ml-mua/test/img/kbd_spanish.gif\"/></p><br/><br/><p>Y tu compañero de trabajo Norteamericano usa este:<br/><img src=\"https://www.terena.org/activities/multiling/ml-mua/test/img/kbd_usa.gif\"/></p><br/><br/><p>Para tu compañero va a ser un problema acceder a la <code>Ñ</code>. Y si trabajas con equipos que tienen alfabetos muy diferentes el problema crece exponencialmente:</p><br/><br/><pre><code>int 入玉口千 = 0xFf800000;<br/>int 人王ロ干 = 0xF8000000;<br/></code></pre><br/><br/><p>Te juro que ambas variables son diferentes, fíjate bien en los nombres. Yo la verdad es que no tengo buen ojo para el Japonés, así que no creo que pueda usar la variable correcta.</p><br/><br/><pre><code>Decimal año = 2000; // 365 días<br/>Decimal ano = 2016; // Parte de mi anatomía<br/></code></pre><br/><br/><p>Para mí es muy evidente la diferencia entre ambas cosas, tal vez otros compañeros de trabajo de otros países no lo tengan tan claro.</p><br/><br/><pre><code>bool flag = false; // это не является необходимым<br/></code></pre><br/><br/><p>Nunca sabré qué pretendía decir mi compañero Pavlov Provotorov.</p><br/><br/><pre><code>public void Iͬͩͩ̽ͦ̍҉̣͙ņ̨̠̩͈̰͎̹̼̎̊͑̌̀vͪ͐ͮ̒ͣ͒͡͏̠̤̱̪̥ợ̟͔ͭ̃͌c͙̣̱̏̿ͯ̓̅̋͛a̵̝̲͚̭̗ͬ̊ͅ_̷̱̻̤̪̝̥̠͉̂̐͊ͣ͡͝ͅâ̬̱̳̮͆ͭ̕͢ͅl̟͕̳̣ͯͦ̎ͯ̄ͩ͗ͯ̕̕͞_̽ͪ̇ͫ̆҉̧̱͚̻̝̠d̮̗̜͈̝̩̦͆̓̑͐e͂҉̩̩͓͠m̛̠̣͈̠̩̂̂͋̅ô̧͍͑͌͛n̂͏͙̭i̧͉̋ͤ̏̐̍͊͘o̶͕̹̳̟͇͇̝͉ͮͩ͋͆()<br/></code></pre><br/><br/><p>No quiero ni pensar qué puede hacer esta función.</p><br/><br/><pre><code>bool  = check_error();<br/>if () { // shit happens<br/></code></pre><br/><br/><p>A alguien le parecerá gracioso, <a href=\"https://ux.stackexchange.com/questions/106050/is-unicode-pile-of-poo-considered-nsfw\">a mi me parece de mal gusto</a>.</p><br/><br/><h3>2) Compañeros excesivamente apegados a la correctitud.</h3><br/><br/><p>Yo me he encontrado con problemas como el de la <code>Ñ</code> con compañeros de trabajo matemáticos que escribían código como este:</p><br/><br/><pre><code>double π = 3.14159265;<br/></code></pre><br/><br/><p>Aún siendo π el símbolo correcto para esa constante, escribirlo en el código es <strike>peor que un grano en el culo</strike> incómodo; yo solía tener un archivo de texto abierto con los símbolos que no podía escribir para copia-pegarlos cuando lo necesitaba; pero eso no hacía mi vida más fácil ni cómoda.</p><br/><br/><p>Bueno, pero los IDE ayudan a solucionar este problema ¿no?, supón que tienes:</p><br/><br/><pre><code>class MathConstants<br/>{<br/>    public const double π = 3.14159265;<br/>    public const double e = 2.71828;<br/>    public const double α = ...<br/>    public const double δ = ...<br/>    public const double φ = ...<br/>    public const double γ = ...<br/>    public const double λ = ...<br/>}<br/></code></pre><br/><br/><p>Cabría esperar que escribiendo en el IDE <code>MathConstants.</code> me saliera tras el punto <code>.</code> una lista de las constantes matemáticas y así me ahorro de escribirlas, pero en la mayoría de IDE que usaba por aquel entonces en el mejor de los casos salía una lista de carácteres desconocidos (<code>?</code> o <code>□</code>), incluso usé una versión de Eclipse que se cerraba (¡sin guardar los archivos modificados!) si abría una lista de miembros de un objeto con identificadores <em>extraños</em>, así que acabé cambiando el código a:</p><br/><br/><pre><code>class MathConstants<br/>{<br/>    public const double Pi              = 3.14159265;<br/>    public const double Euler           = 2.71828;<br/>    public const double Phi             = ...<br/>    public const double EulerMascheroni = ...<br/>    public const double Conway          = ...<br/>}<br/></code></pre><br/><br/><p>Que además de ser más amigable con el IDE, hacía que no tuviera que aprenderme el alfabeto griego y es más explicativo que variables de una sola letra.</p><br/><br/><h3>3) La codificación y los sistemas de versionado.</h3><br/><br/><p>Otro problema que he vivido con <em>caracteres extraños</em> en el código fuente (ya sea en comentarios como en identificadores) es que al subir el código al sistema de <a href=\"https://es.wikipedia.org/wiki/Control_de_versiones\" rel=\"noreferrer\">control de versiones</a>, los archivos con <em>caracteres extraños</em> se corrompían y al hacer check-out o update todo dejaba de compilar.</p><br/><br/><p>Normalmente este problema provenía de las diferentes codificaciones de archivo de texto entre plataformas (suelo trabajar en Windows y alojar el servidor de versionado en Linux) se soluciona configurando adecuadamente el sistema de control de versiones y teniendo en cuenta las características de la plataforma en que el servidor de código está alojado... o simplemente no usando <em>caracteres extraños</em>.</p><br/><br/><h3>Resumen.</h3><br/><br/><p>La letra <code>Ñ</code> <code>ñ</code> es sólo la punta del iceberg en un problema algo más complejo que es el uso de caracteres unicode en código fuente. Estos caracteres pueden dar lugar a problemas sin que añadan una mejora significativa a la calidad del código, así que su uso puede considerarse una pequeña mejora a cambio de un gran problema.</p><br/><br/><p>Por otro lado, si permitimos letras del alfabeto español como la eñe o la ce con cedilla (<code>ç</code>), no tenemos motivos para prohibir letras en otros idiomas, lo cuál fácilmente escala a problemas mayores. Si trabajamos en un equipo internacional algunos programadores se sentirán más cómodos programando en su idioma y eso es bueno para ellos y malo para el equipo (lo siento Pavlov, no aguanto tus comentarios en cirílico)... y esto sin contar que cada país puede tener teclados diferentes o que el IDE que usemos puede no estar preparado para trabajar con estos caracteres o que incluso estos caracteres <em>vuelvan loco</em> al compilador.</p><br/><br/><p>Y aunque no trabajemos en un equipo internacional, hay que considerar que la mayoría de documentación sobre programación se encuentra en Inglés, si tenemos código escrito con caracteres exclusivos en nuestro idioma hará más difícil para la comunidad internacional entender nuestro código cuando pidamos ayuda sobre el mismo.</p><br/><br/><h3>Conclusión.</h3><br/><br/><p>Yo no veo una ventaja significativa en usar <code>Ñ</code> o cualquier otro caracter exótico en el código fuente, pero siempre que todas las personas que trabajen con dicho código estén cómodas tampoco veo motivo para prohibirlo.</p><br/>',\n",
              "  'ClosedDate': None,\n",
              "  'CommentCount': 12,\n",
              "  'CommunityOwnedDate': None,\n",
              "  'CreationDate': datetime.datetime(2016, 9, 2, 9, 20, 14, 843000),\n",
              "  'FavoriteCount': '',\n",
              "  'LastActivityDate': datetime.datetime(2017, 3, 22, 10, 30, 21, 200000),\n",
              "  'LastEditDate': datetime.datetime(2017, 4, 13, 12, 32, 23, 123000),\n",
              "  'LastEditorDisplayName': '',\n",
              "  'LastEditorUserId': -1,\n",
              "  'OwnerDisplayName': '',\n",
              "  'OwnerUserId': 2742,\n",
              "  'ParentId': 22360,\n",
              "  'PostTypeId': 2,\n",
              "  'Score': 52,\n",
              "  'Tags': '',\n",
              "  'Title': '',\n",
              "  'ViewCount': '',\n",
              "  'owner': [{'_id': ObjectId('653a795a6adce16b55c7fef4'),\n",
              "    'Id': 2742,\n",
              "    'AboutMe': '<h3>Sobre <em>PaperBirdMaster</em></h3><br/><br/><hr><br/><br/><p>Soy un programador fanático de C++. Procuro mantenerme al día con todas las novedades del lenguaje desde sus nuevas características a los nuevos estándares.</p><br/><br/><p>También tengo conocimientos de Java, C, C#, Basic (VB y VBA) y Objective-C (aunque desearía no saber nada de este último).</p><br/><br/><p>Intento llevar, sin mucho éxito, un <a href=\"http://vitaminacpp.wordpress.com\" rel=\"nofollow noreferrer\">Blog sobre C++</a>.</p><br/><br/><h3>Echa un vistazo a las intervenciones de las que me siento más orgulloso</h3><br/><br/><hr><br/><br/><ul><br/><li><a href=\"http://es.stackoverflow.com/a/22393/2742\">Opiniones sobre uso de Ñ en nombre de variables en C#</a>.</li><br/><li><a href=\"http://es.stackoverflow.com/a/22158/2742\">En c++ aparece la advertencia “warning: comparison between signed and unsigned integer expressions [-Wsign-compare]”</a>.</li><br/><li><a href=\"http://es.stackoverflow.com/a/15902/2742\">Estructura con métodos estáticos y propiedades estáticas</a>.</li><br/><li><a href=\"http://es.stackoverflow.com/a/2528/2742\">¿Son iguales class y typename en el contexto de template?</a>.</li><br/></ul><br/><br/><h3>Mis <a href=\"https://es.meta.stackoverflow.com/questions/317/qu%c3%a9-es-una-publicaci%c3%b3n-wiki-de-comunidad\">Wikis de comunidad</a></h3><br/><br/><hr><br/><br/><ul><br/><li><a href=\"https://es.stackoverflow.com/questions/90360/por-qu%c3%a9-sizeof-de-un-dato-no-es-igual-al-sizeof-de-sus-miembros\">¿Por qué <code>sizeof</code> de un dato no es igual al <code>sizeof</code> de sus miembros?</a>.</li><br/><li><a href=\"https://es.stackoverflow.com/questions/83318/qu%c3%a9-es-sfinae\">¿Qué es SFINAE?</a>.</li><br/><li><a href=\"http://es.stackoverflow.com/questions/24544/me-falla-un-c%c3%b3digo-completamente-v%c3%a1lido-en-los-punteros-begin-y-end\">Me falla un código completamente válido en los punteros <code>_begin</code> y <code>_end</code></a>.</li><br/><li><a href=\"http://es.stackoverflow.com/questions/15499/cu%c3%a1les-son-las-nuevas-caracter%c3%adsticas-de-c17\">¿Cuáles son las nuevas características de C++17?</a>.</li><br/><li><a href=\"http://es.stackoverflow.com/questions/61306/qu%c3%a9-son-las-rvalues-lvalues-xvalues-glvalues-y-prvalues\">¿Qué son las rvalues, lvalues, xvalues, glvalues, y prvalues?</a></li><br/><li><a href=\"http://es.stackoverflow.com/questions/60624/no-se-encuentra-la-funci%c3%b3n-p%c3%bablica-de-un-objeto\">No se encuentra la función pública de un objeto</a>.</li><br/><li><a href=\"http://es.stackoverflow.com/questions/54180/en-qu%c3%a9-escenario-debo-usar-cada-contenedor-stl\">¿En qué escenario debo usar cada contenedor STL?</a>.</li><br/></ul><br/>',\n",
              "    'AccountId': 233694,\n",
              "    'Age': 37,\n",
              "    'CreationDate': datetime.datetime(2016, 1, 13, 15, 17, 27, 873000),\n",
              "    'DisplayName': 'PaperBirdMaster',\n",
              "    'DownVotes': 22,\n",
              "    'LastAccessDate': datetime.datetime(2017, 8, 26, 13, 28, 9, 947000),\n",
              "    'Location': 'Barcelona, Spain',\n",
              "    'ProfileImageUrl': 'https://i.stack.imgur.com/YIsuL.jpg?s=128&g=1',\n",
              "    'Reputation': 8984,\n",
              "    'UpVotes': 385,\n",
              "    'Views': 422,\n",
              "    'WebsiteUrl': 'http://vitaminacpp.wordpress.com'}]},\n",
              " {'_id': ObjectId('653a79566adce16b55c7195a'),\n",
              "  'Id': 25094,\n",
              "  'AcceptedAnswerId': '',\n",
              "  'AnswerCount': '',\n",
              "  'Body': '<p>En primer lugar, el script es una etiqueta de HTML que debe ser incluida en el header o en el body, no puede incluirse fuera, por esa razon no puedes acceder a Jquery.</p><br/><br/><p>Debes reemplazar:</p><br/><br/><pre><code></body><br/><script src=\"https://code.jquery.com/jquery-3.1.0.js\"></script><br/></code></pre><br/><br/><p>Por esto:</p><br/><br/><pre><code><script src=\"https://code.jquery.com/jquery-3.1.0.js\"></script> <br/></body><br/></code></pre><br/><br/><h3>¿Cuál es el mejor lugar para color las etiquetas script?</h3><br/><br/><p><strong>Debes evitar poner los scripts en el header.</strong> El renderizado e interpretacion del <code>HTML</code> se realiza a medida que el navegador encuentra los elementos en tu documento <code>HTML</code>. Por lo tanto si encuentra en la cabecera una etiqueta <code>script</code>, pues tendrá que esperar a que el navegador cargue el <code>script</code> para continuar con el renderizado de la pagina por lo que verías el navegador con la pantalla en blanco, comportamiento que uno desea evitar.</p><br/><br/><blockquote><br/>  <p>Adicionalmente, el comportamiento de los scripts se ven afectados por<br/>  el uso de los atributos <strong>async y defer</strong>.</p><br/></blockquote><br/><br/><p><a href=\"https://i.stack.imgur.com/NCLcp.png\"><img src=\"https://i.stack.imgur.com/NCLcp.png\" alt=\"introducir la descripción de la imagen aquí\"></a></p><br/><br/><h3>Etiqueta Script sin ningun atributo</h3><br/><br/><p>Cuando definimos una etiqueta <code>script</code> sin ningún atributo el <code>HTML</code> será interpretado hasta que encuentre la etiqueta <code>script</code>, en ese punto la interpretación se detendrá y solicitará el <code>archivo js</code>(en caso sea externo), una vez que tengamos cargado el archivo entonces este sera ejecutado antes de que se continue interpretando el <code>HTML</code>. <br/><a href=\"https://i.stack.imgur.com/Hg9Zx.png\"><img src=\"https://i.stack.imgur.com/Hg9Zx.png\" alt=\"introducir la descripción de la imagen aquí\"></a></p><br/><br/><h3>Async</h3><br/><br/><p>El atributo <code>async</code> permite que el navegador descargue el archivo <code>script asíncronamente</code>(de ahí el nombre,sorprendente no?) y continuar con la interpretación del <code>HTML</code>, a penas termine con la descarga interrumpirá la interpretación para empezar la ejecución del <code>script</code> e inmediatamente después continuará con el proceso de interpretación.<br/><a href=\"https://i.stack.imgur.com/wAQit.png\"><img src=\"https://i.stack.imgur.com/wAQit.png\" alt=\"introducir la descripción de la imagen aquí\"></a></p><br/><br/><h3>Defer</h3><br/><br/><p>El atributo <code>defer</code> a diferencia de <code>async</code>, aplaza(defer) la ejecución del <code>script</code> después de que la interpretación del <code>HTML</code> ha concluido, la descarga se realiza de forma asíncrona igual que en el caso anterior pero defer nos <strong>garantiza ejecutar los scripts en el orden</strong> en el que aparecen en nuestro documento, a diferencia de <code>async</code> que los ejecuta a penas termina de descargar.<br/><a href=\"https://i.stack.imgur.com/efiNw.png\"><img src=\"https://i.stack.imgur.com/efiNw.png\" alt=\"introducir la descripción de la imagen aquí\"></a></p><br/><br/><h3>¿Cómo decidir entre usar async o defer?</h3><br/><br/><p>Te recomiendo leer <a href=\"https://somostechies.com/async-vs-defer\">https://somostechies.com/async-vs-defer</a>.</p><br/>',\n",
              "  'ClosedDate': None,\n",
              "  'CommentCount': 1,\n",
              "  'CommunityOwnedDate': None,\n",
              "  'CreationDate': datetime.datetime(2016, 9, 26, 17, 37, 59, 817000),\n",
              "  'FavoriteCount': '',\n",
              "  'LastActivityDate': datetime.datetime(2016, 9, 26, 19, 9, 0, 353000),\n",
              "  'LastEditDate': datetime.datetime(2016, 9, 26, 19, 9, 0, 353000),\n",
              "  'LastEditorDisplayName': '',\n",
              "  'LastEditorUserId': 2007,\n",
              "  'OwnerDisplayName': '',\n",
              "  'OwnerUserId': 2007,\n",
              "  'ParentId': 25088,\n",
              "  'PostTypeId': 2,\n",
              "  'Score': 46,\n",
              "  'Tags': '',\n",
              "  'Title': '',\n",
              "  'ViewCount': '',\n",
              "  'owner': [{'_id': ObjectId('653a795a6adce16b55c7fcc1'),\n",
              "    'Id': 2007,\n",
              "    'AboutMe': '<p><strong>Certified Xamarin Mobile Developer</strong>, MCTS, .Net Developer with UX in mind, UX enthusiast, mobile addict and clean code lover. Author on <strong><a href=\"https://somostechies.com\" rel=\"nofollow noreferrer\">https://somostechies.com</a></strong></p><br/>',\n",
              "    'AccountId': 1922202,\n",
              "    'Age': 25,\n",
              "    'CreationDate': datetime.datetime(2015, 12, 17, 19, 6, 3, 573000),\n",
              "    'DisplayName': 'Jesus Angulo',\n",
              "    'DownVotes': 25,\n",
              "    'LastAccessDate': datetime.datetime(2017, 8, 25, 0, 40, 15, 143000),\n",
              "    'Location': 'Lima, Peru',\n",
              "    'ProfileImageUrl': 'https://i.stack.imgur.com/NY91O.jpg',\n",
              "    'Reputation': 1171,\n",
              "    'UpVotes': 50,\n",
              "    'Views': 49,\n",
              "    'WebsiteUrl': 'https://somostechies.com'}]},\n",
              " {'_id': ObjectId('653a79566adce16b55c726b7'),\n",
              "  'Id': 29177,\n",
              "  'AcceptedAnswerId': 29198,\n",
              "  'AnswerCount': 14,\n",
              "  'Body': '<p>La mayoría de nosotros decimos, (muchas veces sin saber realmente),</p><br/><br/><blockquote><br/>  <p>“No utilizar variables globales”</p><br/></blockquote><br/><br/><hr><br/><br/><p><a href=\"http://martinfowler.com/\">Martin Fowler</a> expresa en unos de sus libros, <a href=\"https://www.amazon.co.uk/gp/product/0321127420/ref=as_li_ss_tl?ie=UTF8&tag=mundogeek-21&linkCode=as2&camp=1634&creative=19450&creativeASIN=0321127420\">Patterns of Enterprise Application Architecture</a>, que </p><br/><br/><blockquote><br/>  <p>“cualquier variable global es siempre culpable hasta que se demuestre<br/>  lo contrario”</p><br/></blockquote><br/><br/><ul><br/><li>¿Por qué es una mala practica usar variables globales?</li><br/><li>¿Realmente son perjudiciales?</li><br/><li>¿O se trata sólo de <strike>un odio irracional</strike> prejuicios por parte de los <em>puristas</em>?</li><br/></ul><br/><br/><p><em>Fuente:</em> <a href=\"http://mundogeek.net/archivos/2011/07/12/variables-globales/\">mundogeek.net - Variables globales</a></p><br/>',\n",
              "  'ClosedDate': None,\n",
              "  'CommentCount': 8,\n",
              "  'CommunityOwnedDate': None,\n",
              "  'CreationDate': datetime.datetime(2016, 10, 21, 14, 44, 13, 743000),\n",
              "  'FavoriteCount': 18,\n",
              "  'LastActivityDate': datetime.datetime(2017, 4, 28, 10, 58, 27, 70000),\n",
              "  'LastEditDate': datetime.datetime(2016, 10, 21, 21, 50),\n",
              "  'LastEditorDisplayName': '',\n",
              "  'LastEditorUserId': 227,\n",
              "  'OwnerDisplayName': '',\n",
              "  'OwnerUserId': 6491,\n",
              "  'ParentId': '',\n",
              "  'PostTypeId': 1,\n",
              "  'Score': 53,\n",
              "  'Tags': '<variables><variables-globales><patrones-de-diseño>',\n",
              "  'Title': '¿Por qué es considerado una mala práctica utilizar variables globales?',\n",
              "  'ViewCount': 1784,\n",
              "  'owner': [{'_id': ObjectId('653a795a6adce16b55c809c2'),\n",
              "    'Id': 6491,\n",
              "    'AboutMe': '<blockquote><br/>  <p><em>Everything should be made as simple as possible, but not simpler.</em></p><br/></blockquote><br/><br/><p><sup><em>-Albert Einstein-</em></sup></p><br/><br/><p><strong>#freelancer</strong></p><br/><br/><p><strong>#drummer</strong></p><br/>',\n",
              "    'AccountId': 2399059,\n",
              "    'Age': 41,\n",
              "    'CreationDate': datetime.datetime(2016, 5, 11, 1, 1, 54, 537000),\n",
              "    'DisplayName': 'aldanux',\n",
              "    'DownVotes': 246,\n",
              "    'LastAccessDate': datetime.datetime(2017, 8, 26, 20, 27, 22, 203000),\n",
              "    'Location': 'Málaga, Spain',\n",
              "    'ProfileImageUrl': 'https://i.stack.imgur.com/QG1Ic.png',\n",
              "    'Reputation': 5862,\n",
              "    'UpVotes': 901,\n",
              "    'Views': 297,\n",
              "    'WebsiteUrl': 'https://danielarroyo.es/'}]},\n",
              " {'_id': ObjectId('653a79566adce16b55c726c9'),\n",
              "  'Id': 29198,\n",
              "  'AcceptedAnswerId': '',\n",
              "  'AnswerCount': '',\n",
              "  'Body': '<h1>Impacto del cambio</h1><br/><br/><p>El problema de las variables globales es que crea dependencias ocultas. Cuando se trata de aplicaciones grandes, ni tú mismo sabes/recuerdas/tienes claro los objetos que tienes y sus relaciones.</p><br/><br/><p>Entonces, no puedes tener una noción clara de cuántos objetos están usando tu variable global. ¿Y si quieres cambiar algo de la variable global, por ejemplo, el significado de cada uno de sus valores posibles, o su tipo? ¿A cuántas clases o unidades de compilación afectará dicho cambio? Si la cantidad es pequeña, quizás merezca la pena realizar el cambio. Si el impacto será grande, quizás merezca la pena buscar otra solución.</p><br/><br/><p>Pero, ¿cuál es el impacto? Debido a que una variable global puede ser usada en cualquier punto del código, puede llegar a ser muy difícil medirlo.</p><br/><br/><p>Además, siempre se intenta que una variable tenga el tiempo de vida más corto posible, para que la cantidad de código que hace uso de esa variable sea el mínimo posible, y así entender mejor su propósito, y quién lo modifica.</p><br/><br/><p>Una variable global dura lo que dure el programa, y por tanto, cualquiera puede hacer uso de la variable, bien para leerla, o aún peor, para cambiar su valor, haciendo más difícil saber qué valor tendrá la variable en cualquier punto del programa dado.</p><br/><br/><h1>Orden de destrucción</h1><br/><br/><p>Otro problema es el orden de destrucción. Las variables siempre se destruyen en orden inverso a su creación, sean variables locales o globales/estáticas (una excepción son los tipos primitivos, <code>int</code>, <code>enum</code>s, etc, que nunca se destruyen si son globales/estáticos hasta que acaba el programa).</p><br/><br/><p>El problema, es que es difícil saber el orden de construcción de las variables globales (o estáticas). En principio, es indeterminado.</p><br/><br/><p>Si todas tus variables globales/estáticas están en una sola unidad de compilación (es decir, que solo tengas un <code>.cpp</code>), entonces el orden de construcción es el mismo que el de escritura (es decir, variables definidas antes, se construyen antes).</p><br/><br/><p>Pero si tienes más de un <code>.cpp</code> cada uno con sus propias variables globales/estáticas, es indeterminado el orden de construcción global. Eso sí, el orden en cada unidad de compilación (cada <code>.cpp</code>) en particular, se respeta: si la variable global <code>A</code> va definida antes que <code>B</code>, <code>A</code> se construirá antes que <code>B</code>, pero puede que entre <code>A</code> y <code>B</code> se inicialicen variables de otros <code>.cpp</code>. Por ejemplo, si tienes tres unidades con las siguientes variables globales/estáticas:</p><br/><br/><p><a href=\"https://i.stack.imgur.com/JErZP.png\" rel=\"noreferrer\"><img src=\"https://i.stack.imgur.com/JErZP.png\" alt=\"introducir la descripción de la imagen aquí\"></a></p><br/><br/><p>En el ejecutable podría crearse en este orden (o en cualquier otro orden siempre que se respete el órden relativo dentro de cada <code>.cpp</code>):</p><br/><br/><p><a href=\"https://i.stack.imgur.com/o3y6K.png\" rel=\"noreferrer\"><img src=\"https://i.stack.imgur.com/o3y6K.png\" alt=\"introducir la descripción de la imagen aquí\"></a></p><br/><br/><p>¿Por qué esto es importante? Porque si hay relaciones entre los diferentes objetos globales estáticos, por ejemplo, que unos usen a otros en sus destructores, quizás, en el destructor de una variable global, utilizas otro objeto global de otra unidad de compilación que resulta que ya está destruído (al haberse construído después).</p><br/><br/><h1>Dependencias ocultas y <em>test cases</em></h1><br/><br/><p>He intentado buscar la fuente que voy a utilizar en este ejemplo, pero no la encuentro (de todas formas, era para ejemplificar el uso de singletones, aunque el ejemplo es aplicable a variables globales y estáticas). Las dependencias ocultas también crean nuevos problemas relacionados con controlar el comportamiento de un objeto, si éste depende del estado de una variable global.</p><br/><br/><p>Imagina que tienes un sistema de pago, y quieres probarlo para ver cómo funciona, dado que necesitas hacer cambios, y el código es de otra persona (o tuyo, pero de hace unos años). Abres un nuevo <code>main</code>, y llamas a la función correspondiente de tu objeto global que provee un servicio de pago bancario con tarjeta, y resulta que introduces tus datos y te hacen un cobro. ¿Cómo, en una simple prueba, he utilizado una versión de producción? ¿Cómo puedo hacer un simple test de pago?</p><br/><br/><p>Después de preguntar a otros compañeros de trabajo, resulta que tienes que \"marcar a true\", un <code>bool</code> global que indica si estamos en modo de pruebas o no, antes de comenzar el proceso de cobro. Tu objeto que provee el servicio de pago depende de otro objeto que provee el modo de pago, y esa dependencia ocurre de manera invisible para el programador.</p><br/><br/><p>En otras palabras, las variables globales (o singletones), hacen imposible pasar a \"modo test\", dado que las variables globales no se pueden sustituir por instancias \"de testeo\" (a no ser que modifiques el código donde se crea o define dicha variable global, pero asumimos que los test se hacen sin modificar el código madre).</p><br/><br/><h1>Solución</h1><br/><br/><p>Ésto se soluciona mediante lo que se llama <em>dependency injection</em>, que consiste en pasar como parámetro todas las dependencias que un objeto necesite en su constructor o en el método correspondiente. De esta manera, el programador <strong>vé</strong> lo que tiene que pasarle, dado que tiene que escribirlo en código, haciendo ganar mucho tiempo a los desarrolladores.</p><br/><br/><p>Si hay demasiados objetos globales, y hay demasiados parámetros en las funciones que las necesitan, siempre puede agrupar tus \"objetos globales\" en una clase, estilo <em>factoría</em>, que construya y devuelva la instancia del \"objeto global\" (simulado) que quieres, pasando la factoría como parámetro a los objetos que necesiten dicho objeto global como dependencia.</p><br/><br/><p>Si pasas a modo test, siempre puedes crear una factoría de testeo (que devuelva versiones diferentes de los mismos objetos), y pasarla como parámetro sin tener que modificar la clase destino.</p><br/><br/><h1>¿Pero siempre es malo?</h1><br/><br/><p>No necesariamente, puede haber buenos usos para variables globales. Por ejemplo, valores constantes (el valor de PI). Al ser un valor constante, no hay riesgo de no saber su valor en un punto dado del programa por cualquier tipo de modificación desde otro módulo. Además, los valores constantes tienden a ser primitivos y es poco probable que cambie su definición.</p><br/><br/><p>Es más cómodo, en ese caso, hacer uso de variables globales para no tener que estar pasando las variables como parámetros, simplificando las firmas de las funciones.</p><br/><br/><p>Otro pueden ser servicios \"globales\" no intrusivos, como una clase de logging (guardar en un fichero lo que pasa, cosa que suele ser opcional y configurable en un programa, y por tanto, no afecta al comportamiento nuclear de la aplicación), o <code>std::cout</code>, <code>std::cin</code> o <code>std::cerr</code>, que también son objetos globales.</p><br/><br/><p>Cualquier otra cosa, aunque su tiempo de vida coincida casi con el del programa, pasalo siempre como parámetro. Incluso, la variable podría ser global en un módulo, solo en él sin que ningún otro tenga acceso, pero que, en cualquier caso, las dependencias estén presentes siempre como parámetros.</p><br/>',\n",
              "  'ClosedDate': None,\n",
              "  'CommentCount': 8,\n",
              "  'CommunityOwnedDate': None,\n",
              "  'CreationDate': datetime.datetime(2016, 10, 21, 16, 16, 2, 103000),\n",
              "  'FavoriteCount': '',\n",
              "  'LastActivityDate': datetime.datetime(2017, 3, 21, 15, 39, 3, 20000),\n",
              "  'LastEditDate': datetime.datetime(2017, 3, 21, 15, 39, 3, 20000),\n",
              "  'LastEditorDisplayName': '',\n",
              "  'LastEditorUserId': 16744,\n",
              "  'OwnerDisplayName': '',\n",
              "  'OwnerUserId': 17110,\n",
              "  'ParentId': 29177,\n",
              "  'PostTypeId': 2,\n",
              "  'Score': 62,\n",
              "  'Tags': '',\n",
              "  'Title': '',\n",
              "  'ViewCount': '',\n",
              "  'owner': [{'_id': ObjectId('653a795b6adce16b55c823e4'),\n",
              "    'Id': 17110,\n",
              "    'AboutMe': '',\n",
              "    'AccountId': 1999735,\n",
              "    'Age': '',\n",
              "    'CreationDate': datetime.datetime(2016, 10, 12, 15, 36, 32, 473000),\n",
              "    'DisplayName': 'Peregring-lk',\n",
              "    'DownVotes': 5,\n",
              "    'LastAccessDate': datetime.datetime(2017, 8, 21, 1, 49, 28, 343000),\n",
              "    'Location': '',\n",
              "    'ProfileImageUrl': 'https://www.gravatar.com/avatar/f3b30f8ee9338ee3d87152343ceb0665?s=128&d=identicon&r=PG',\n",
              "    'Reputation': 1787,\n",
              "    'UpVotes': 47,\n",
              "    'Views': 54,\n",
              "    'WebsiteUrl': 'http://freealgview.blogspot.com/'}]},\n",
              " {'_id': ObjectId('653a79566adce16b55c79acc'),\n",
              "  'Id': 66292,\n",
              "  'AcceptedAnswerId': 66294,\n",
              "  'AnswerCount': 5,\n",
              "  'Body': '<p>¿Cómo funciona este código? Quisiera una explicación detallada si es posible y saber dónde hay documentación al respecto.</p><br/><br/><p><div class=\"snippet\" data-lang=\"js\" data-hide=\"false\" data-console=\"true\" data-babel=\"false\"><br/><div class=\"snippet-code\"><br/><pre class=\"snippet-code-js lang-js prettyprint-override\"><code>if (!+[]+!+[] == 2) {<br/>  document.write(\\'Somos iguales\\');<br/>}<br/>else {<br/>  document.write(\\'Somos distintos\\');<br/>}</code></pre><br/></div><br/></div><br/></p><br/>',\n",
              "  'ClosedDate': None,\n",
              "  'CommentCount': 3,\n",
              "  'CommunityOwnedDate': None,\n",
              "  'CreationDate': datetime.datetime(2017, 4, 28, 22, 59, 26, 877000),\n",
              "  'FavoriteCount': 13,\n",
              "  'LastActivityDate': datetime.datetime(2017, 7, 14, 8, 19, 57, 487000),\n",
              "  'LastEditDate': datetime.datetime(2017, 6, 24, 15, 33, 45, 10000),\n",
              "  'LastEditorDisplayName': '',\n",
              "  'LastEditorUserId': 65,\n",
              "  'OwnerDisplayName': '',\n",
              "  'OwnerUserId': 38304,\n",
              "  'ParentId': '',\n",
              "  'PostTypeId': 1,\n",
              "  'Score': 42,\n",
              "  'Tags': '<javascript>',\n",
              "  'Title': '¿Cómo funciona el condicional if (!+[]+!+[] == 2) en JavaScript?',\n",
              "  'ViewCount': 1122,\n",
              "  'owner': [{'_id': ObjectId('653a795b6adce16b55c86fcd'),\n",
              "    'Id': 38304,\n",
              "    'AboutMe': '',\n",
              "    'AccountId': 10707250,\n",
              "    'Age': '',\n",
              "    'CreationDate': datetime.datetime(2017, 4, 17, 20, 27, 13, 870000),\n",
              "    'DisplayName': 'Eduardo Sebastian',\n",
              "    'DownVotes': 15,\n",
              "    'LastAccessDate': datetime.datetime(2017, 8, 27, 1, 15, 17, 753000),\n",
              "    'Location': '',\n",
              "    'ProfileImageUrl': 'https://graph.facebook.com/124343891443581/picture?type=large',\n",
              "    'Reputation': 1356,\n",
              "    'UpVotes': 117,\n",
              "    'Views': 258,\n",
              "    'WebsiteUrl': ''}]},\n",
              " {'_id': ObjectId('653a79566adce16b55c79ace'),\n",
              "  'Id': 66294,\n",
              "  'AcceptedAnswerId': '',\n",
              "  'AnswerCount': '',\n",
              "  'Body': '<p>Un <code>Array</code> vacio es igual a <code>false</code></p><br/><br/><pre><code>[] == false<br/></code></pre><br/><br/><p>el contrario de <code>false</code> es <code>true</code></p><br/><br/><pre><code>!false == true<br/></code></pre><br/><br/><p><code>true</code> es igual a 1, <code>false</code> es igual a 0</p><br/><br/><pre><code>true == 1<br/>false == 0<br/></code></pre><br/><br/><p>entonces </p><br/><br/><pre><code>true + true == 2<br/></code></pre><br/><br/><p><div class=\"snippet\" data-lang=\"js\" data-hide=\"false\" data-console=\"true\" data-babel=\"false\"><br/><div class=\"snippet-code\"><br/><pre class=\"snippet-code-js lang-js prettyprint-override\"><code>function probar(){<br/>    console.log([] == false);<br/>    console.log(!false == true);<br/>    console.log(true == 1)<br/>    console.log(false == 0)<br/>    console.log(true + true == 2)<br/>}</code></pre><br/><pre class=\"snippet-code-html lang-html prettyprint-override\"><code><button onClick=\"probar()\">probar</button></code></pre><br/></div><br/></div><br/></p><br/>',\n",
              "  'ClosedDate': None,\n",
              "  'CommentCount': 13,\n",
              "  'CommunityOwnedDate': None,\n",
              "  'CreationDate': datetime.datetime(2017, 4, 28, 23, 16, 55, 243000),\n",
              "  'FavoriteCount': '',\n",
              "  'LastActivityDate': datetime.datetime(2017, 7, 14, 8, 19, 57, 487000),\n",
              "  'LastEditDate': datetime.datetime(2017, 7, 14, 8, 19, 57, 487000),\n",
              "  'LastEditorDisplayName': '',\n",
              "  'LastEditorUserId': 30870,\n",
              "  'OwnerDisplayName': '',\n",
              "  'OwnerUserId': 35772,\n",
              "  'ParentId': 66292,\n",
              "  'PostTypeId': 2,\n",
              "  'Score': 41,\n",
              "  'Tags': '',\n",
              "  'Title': '',\n",
              "  'ViewCount': '',\n",
              "  'owner': [{'_id': ObjectId('653a795b6adce16b55c869d8'),\n",
              "    'Id': 35772,\n",
              "    'AboutMe': '<p>Usuario promedio de internet</p><br/>',\n",
              "    'AccountId': 6473935,\n",
              "    'Age': 30,\n",
              "    'CreationDate': datetime.datetime(2017, 4, 5, 21, 35, 34, 650000),\n",
              "    'DisplayName': 'Jorge Arturo Juarez',\n",
              "    'DownVotes': 26,\n",
              "    'LastAccessDate': datetime.datetime(2017, 8, 25, 21, 51, 35, 820000),\n",
              "    'Location': 'Guanajuato, México',\n",
              "    'ProfileImageUrl': 'https://graph.facebook.com/10205423757766434/picture?type=large',\n",
              "    'Reputation': 2241,\n",
              "    'UpVotes': 62,\n",
              "    'Views': 139,\n",
              "    'WebsiteUrl': ''}]},\n",
              " {'_id': ObjectId('653a79566adce16b55c79ad0'),\n",
              "  'Id': 66296,\n",
              "  'AcceptedAnswerId': '',\n",
              "  'AnswerCount': '',\n",
              "  'Body': '<p><strong><code>JSFuck</code></strong> es un estilo de programación esotérico y educativo basado en las partes atómicas de <code>JavaScript</code>.</p><br/><br/><p>Algunas reglas  para recordar:</p><br/><br/><ul><br/><li><p>Precediendo con <code>!</code> convertimos a valor <code>Booleano</code></p><br/><br/><pre><code>console.log(![])   // return false<br/></code></pre></li><br/><li><p>Precediendo con <code>+</code>  convertimos a número</p><br/><br/><pre><code>console.log(+[])  // return 0<br/></code></pre></li><br/><li><p>Adición <code>[]</code> convertimos a Cadena</p><br/><br/><pre><code>console.log([]+[])  // return  \"\"<br/></code></pre></li><br/></ul><br/><br/><blockquote><br/>  <p>Por qué muestra el Mensaje son Iguales?</p><br/></blockquote><br/><br/><ul><br/><li><code>!+[]</code> al anteponer el signo más se convierte en número , <code>+[] = 0</code> la negación <code>(!)</code> de <strong>0 es 1.</strong></li><br/></ul><br/><br/><p>Luego al realizar la suma  <code>!+[]    +   !+[]</code> es decir <code>1+1 = 2</code> </p><br/><br/><p>Referencias </p><br/><br/><ul><br/><li><a href=\"http://www.jsfuck.com/\" rel=\"noreferrer\">http://www.jsfuck.com/</a></li><br/><li><a href=\"http://patriciopalladino.com/blog/2012/08/09/non-alphanumeric-javascript.html\" rel=\"noreferrer\">http://patriciopalladino.com/blog/2012/08/09/non-alphanumeric-javascript.html</a></li><br/><li><a href=\"http://www.jazcash.com/a-javascript-journey-with-only-six-characters/\" rel=\"noreferrer\">http://www.jazcash.com/a-javascript-journey-with-only-six-characters/</a></li><br/></ul><br/>',\n",
              "  'ClosedDate': None,\n",
              "  'CommentCount': 12,\n",
              "  'CommunityOwnedDate': None,\n",
              "  'CreationDate': datetime.datetime(2017, 4, 28, 23, 24, 10, 323000),\n",
              "  'FavoriteCount': '',\n",
              "  'LastActivityDate': datetime.datetime(2017, 4, 28, 23, 24, 10, 323000),\n",
              "  'LastEditDate': None,\n",
              "  'LastEditorDisplayName': '',\n",
              "  'LastEditorUserId': '',\n",
              "  'OwnerDisplayName': '',\n",
              "  'OwnerUserId': 12864,\n",
              "  'ParentId': 66292,\n",
              "  'PostTypeId': 2,\n",
              "  'Score': 41,\n",
              "  'Tags': '',\n",
              "  'Title': '',\n",
              "  'ViewCount': '',\n",
              "  'owner': [{'_id': ObjectId('653a795b6adce16b55c81676'),\n",
              "    'Id': 12864,\n",
              "    'AboutMe': '<p>Newbie</p><br/>',\n",
              "    'AccountId': 8688425,\n",
              "    'Age': 24,\n",
              "    'CreationDate': datetime.datetime(2016, 8, 16, 17, 15, 14, 757000),\n",
              "    'DisplayName': 'Dev. Joel',\n",
              "    'DownVotes': 5,\n",
              "    'LastAccessDate': datetime.datetime(2017, 8, 23, 15, 10, 8, 460000),\n",
              "    'Location': 'Perú',\n",
              "    'ProfileImageUrl': 'https://i.stack.imgur.com/zlqtH.jpg?s=128&g=1',\n",
              "    'Reputation': 8980,\n",
              "    'UpVotes': 472,\n",
              "    'Views': 491,\n",
              "    'WebsiteUrl': ''}]},\n",
              " {'_id': ObjectId('653a79566adce16b55c7da9a'),\n",
              "  'Id': 87842,\n",
              "  'AcceptedAnswerId': '',\n",
              "  'AnswerCount': '',\n",
              "  'Body': '<p>Hola, mi nombre es Álvaro Montoro, soy un Ingeniero Informático español aunque actualmente vivo y trabajo en los Estados Unidos, en la capital del estado de Texas: Austin.</p><br/><br/><p>Tengo experiencia en diferentes ámbitos de programación: back-end, front-end, bases de datos, seguridad... y en bastantes lenguajes: PHP, Java, C#, Visual Basic, C/C++, JavaScript... lo que hace que me mueva por un grupo variado de etiquetas (aunque prefiera las de programación web) y se refleja en la medalla <a href=\"https://es.stackoverflow.com/help/badges/15/generalist\"><code>generalista</code></a> (de momento el único que la tiene).</p><br/><br/><p>Pros:</p><br/><br/><ul><br/><li>Paso bastante tiempo en SOes (he visitado el sitio 594 días, 384 consecutivos ).</li><br/><li>He estado en el sitio desde Area 51 y cuento con experiencia en otros sitios de SE (no como moderador).</li><br/><li>Me gusta guiarme por las reglas del Centro de Ayuda.</li><br/></ul><br/><br/><p>Contras:</p><br/><br/><ul><br/><li>Aunque activo en chat y meta, debería ser más activo.</li><br/><li>Cuento con experiencia en otros sitios de SE, lo que hace que a veces use la misma vara de medir que usaría en otros sitios.</li><br/><li>Me gusta guiarme por las reglas del Centro de Ayuda... y a veces hay que ser más paciente y flexible.</li><br/></ul><br/>',\n",
              "  'ClosedDate': None,\n",
              "  'CommentCount': 12,\n",
              "  'CommunityOwnedDate': datetime.datetime(2017, 7, 18, 20, 7, 26, 473000),\n",
              "  'CreationDate': datetime.datetime(2017, 7, 18, 20, 7, 26, 473000),\n",
              "  'FavoriteCount': '',\n",
              "  'LastActivityDate': datetime.datetime(2017, 7, 20, 15, 58, 45, 867000),\n",
              "  'LastEditDate': datetime.datetime(2017, 7, 20, 15, 58, 45, 867000),\n",
              "  'LastEditorDisplayName': '',\n",
              "  'LastEditorUserId': 250,\n",
              "  'OwnerDisplayName': '',\n",
              "  'OwnerUserId': 250,\n",
              "  'ParentId': '',\n",
              "  'PostTypeId': 6,\n",
              "  'Score': 174,\n",
              "  'Tags': '',\n",
              "  'Title': '',\n",
              "  'ViewCount': '',\n",
              "  'owner': [{'_id': ObjectId('653a795a6adce16b55c7f7c6'),\n",
              "    'Id': 250,\n",
              "    'AboutMe': '<p>Ingeniero software con experiencia en diferentes lenguajes y tecnologías: C, C++, C#, VB.Net, PHP, HTML, HTML5, CSS, CSS3, JavaScript, jQuery, Bootstrap, SQL...</p><br/><br/><p>En mi tiempo libre programo apps y juegos para móvil/tableta y aplicaciones web educativas. Por ejemplo: </p><br/><br/><ul><br/><li>90 Seconds: juego en el que hay que adivinar palabras asociadas a una categoría<br/><br/><ul><br/><li><a href=\"https://play.google.com/store/apps/details?id=com.alvaromontoro.ninetyseconds\" rel=\"nofollow noreferrer\">Android</a></li><br/><li><a href=\"https://itunes.apple.com/us/app/90/id1154368492\" rel=\"nofollow noreferrer\">iPhone/iPad</a> </li><br/><li><a href=\"http://rads.stackoverflow.com/amzn/click/B00UW537G2\" rel=\"nofollow noreferrer\">Amazon Fire</a></li><br/></ul></li><br/><li>Bubbles: app para bebés y niños pequeños que consiste en explotar pompas en la pantalla<br/><br/><ul><br/><li><a href=\"https://play.google.com/store/apps/details?id=com.studiokah.bubbles\" rel=\"nofollow noreferrer\">Android</a></li><br/><li><a href=\"https://itunes.apple.com/us/app/bubbles!!!/id1148467739\" rel=\"nofollow noreferrer\">iPhone/iPad</a></li><br/></ul></li><br/><li><a href=\"https://www.textivities.com\" rel=\"nofollow noreferrer\">Textivities</a>: plataforma de e-learning para estudiantes/profesores de lengua e idiomas.</li><br/><li><a href=\"http://kah.me\" rel=\"nofollow noreferrer\">Kah.me</a>: Un sencillo acortador de URLs.</li><br/></ul><br/>',\n",
              "    'AccountId': 4550651,\n",
              "    'Age': '',\n",
              "    'CreationDate': datetime.datetime(2015, 12, 1, 18, 7, 59, 433000),\n",
              "    'DisplayName': 'Alvaro Montoro',\n",
              "    'DownVotes': 157,\n",
              "    'LastAccessDate': datetime.datetime(2017, 8, 27, 1, 34, 34, 513000),\n",
              "    'Location': 'Austin, TX',\n",
              "    'ProfileImageUrl': 'https://i.stack.imgur.com/dK3SK.jpg?s=128&g=1',\n",
              "    'Reputation': 24064,\n",
              "    'UpVotes': 1320,\n",
              "    'Views': 1773,\n",
              "    'WebsiteUrl': 'http://www.alvaromontoro.com'}]},\n",
              " {'_id': ObjectId('653a79566adce16b55c7dac8'),\n",
              "  'Id': 87895,\n",
              "  'AcceptedAnswerId': '',\n",
              "  'AnswerCount': '',\n",
              "  'Body': '<p>Mi nombre es Gonzalo Bianchi. Soy un analista de sistemas con 20 años de experiencia en el rubro y 41 años de edad en la vida. Empece a programar cuando tenia 12, en una linda commodore 64. Tambien maneje grupos (administre) viejos grupos de Yahoo y me ocupe de controlar BBS y sitios de intercambios de mensajes (antes que existiera internet).</p><br/><br/><p>Participo en varios sitios de la red. Mi cuenta en StackOverflow en ingles, tiene mas de 8 años de vida. </p><br/><br/><p>Me gustaría que el sitio aumentara su base de usuarios con usuarios expertos. Para ello lo mejor es trabajar sobre las preguntas, para mejorarlas.</p><br/><br/><p><strong>PROs:</strong></p><br/><br/><p>Tiempo para trabajar en el sitio, como pueden ver los que me ven seguido por el chat.<br/>Capacidad para explicar a los nuevos usuarios como se usa el sitio, como se ve en los montones de comentarios que hago.<br/>Antiguedad. Aunque a veces parece malo tener un viejo alrededor, una voz con experiencia nunca es mala.</p><br/><br/><p><strong>CONTRAS:</strong></p><br/><br/><p>No conozco todas las tecnologías mas modernas (sobre todo android).</p><br/><br/><p>Poco activo en las colas (no corro a corregir).</p><br/><br/><p>Pocas medallas de edicion (prefiero esperar a que OP haga algo al respecto, antes que correr a corregirle la pregunta).</p><br/>',\n",
              "  'ClosedDate': None,\n",
              "  'CommentCount': 7,\n",
              "  'CommunityOwnedDate': datetime.datetime(2017, 7, 18, 23, 6, 0, 533000),\n",
              "  'CreationDate': datetime.datetime(2017, 7, 18, 23, 6, 0, 533000),\n",
              "  'FavoriteCount': '',\n",
              "  'LastActivityDate': datetime.datetime(2017, 7, 18, 23, 6, 0, 533000),\n",
              "  'LastEditDate': datetime.datetime(2017, 7, 18, 23, 6, 0, 533000),\n",
              "  'LastEditorDisplayName': '',\n",
              "  'LastEditorUserId': 324,\n",
              "  'OwnerDisplayName': '',\n",
              "  'OwnerUserId': 324,\n",
              "  'ParentId': '',\n",
              "  'PostTypeId': 6,\n",
              "  'Score': 42,\n",
              "  'Tags': '',\n",
              "  'Title': '',\n",
              "  'ViewCount': '',\n",
              "  'owner': [{'_id': ObjectId('653a795a6adce16b55c7f80d'),\n",
              "    'Id': 324,\n",
              "    'AboutMe': \"<p>I'm a programmer since I was 10. I usually work with .net but I'm open to every language that can be used.</p><br/>\",\n",
              "    'AccountId': 27810,\n",
              "    'Age': 41,\n",
              "    'CreationDate': datetime.datetime(2015, 12, 1, 19, 42, 45, 683000),\n",
              "    'DisplayName': 'gbianchi',\n",
              "    'DownVotes': 91,\n",
              "    'LastAccessDate': datetime.datetime(2017, 8, 27, 2, 43, 7, 640000),\n",
              "    'Location': 'Argentina',\n",
              "    'ProfileImageUrl': 'https://www.gravatar.com/avatar/60c1c02359c6b6081774e0a8a2d1d599?s=128&d=identicon&r=PG',\n",
              "    'Reputation': 2733,\n",
              "    'UpVotes': 524,\n",
              "    'Views': 429,\n",
              "    'WebsiteUrl': 'http://none'}]},\n",
              " {'_id': ObjectId('653a79566adce16b55c7dad2'),\n",
              "  'Id': 87905,\n",
              "  'AcceptedAnswerId': '',\n",
              "  'AnswerCount': '',\n",
              "  'Body': '<p>¡Hola buenas madrugadas! :D Mi nombre es Fredy Guibert, soy de Trujillo, Perú y siempre le vamos con todo el power 2.0!!! Me encuentran por estos lares de StackOverflow como @fredyfx, trabajo como ingeniero de Software, vivo y disfruto mucho de la programación y del poder de la red para aprender y compartir conocimiento. </p><br/><br/><p>Cuando era estudiante universitario inicié una Comunidad Académica en Tecnologías Microsoft con fines educativos y de investigación, una comunidad de estudiantes para estudiantes; hoy en día lleva 9 años viva y muy activa gracias a cada integrante y a todas las actividades que se realizan :D </p><br/><br/><p>Crecí y sigo creciendo profesionalmente entre comunidades locales y online con el apoyo de gente que comparte conocimiento con muchísimo gusto, por lo cual le tengo un cariño muy especial a sitios como StackOverflow.</p><br/><br/><p>Actualmente llevo más de 1 año y medio en StackOverflow en Español. Puedo aportar moderando comentarios, publicaciones, preguntas, respuestas, ayudar a un mejor balance entre los usuarios, siempre busco crear un ambiente fresh, tengo paciencia para guiar a los nuevos y todo esto como agradecimiento a quienes publicaron conocimiento libre en la red :D</p><br/>',\n",
              "  'ClosedDate': None,\n",
              "  'CommentCount': 5,\n",
              "  'CommunityOwnedDate': datetime.datetime(2017, 7, 19, 0, 37, 40, 917000),\n",
              "  'CreationDate': datetime.datetime(2017, 7, 19, 0, 37, 40, 917000),\n",
              "  'FavoriteCount': '',\n",
              "  'LastActivityDate': datetime.datetime(2017, 7, 19, 6, 56, 56, 707000),\n",
              "  'LastEditDate': datetime.datetime(2017, 7, 19, 6, 56, 56, 707000),\n",
              "  'LastEditorDisplayName': '',\n",
              "  'LastEditorUserId': 822,\n",
              "  'OwnerDisplayName': '',\n",
              "  'OwnerUserId': 822,\n",
              "  'ParentId': '',\n",
              "  'PostTypeId': 6,\n",
              "  'Score': 62,\n",
              "  'Tags': '',\n",
              "  'Title': '',\n",
              "  'ViewCount': '',\n",
              "  'owner': [{'_id': ObjectId('653a795a6adce16b55c7f9aa'),\n",
              "    'Id': 822,\n",
              "    'AboutMe': '<p>Hola buenas madrugadas, mi nombre es <strong>Fredy Guibert</strong> y aquí le vamos siempre <strong><em>Con todo el power 2.0!</em></strong> Me encantan las tecnologías Microsoft :D Con el apoyo de mis amigos iniciamos una comunidad académica llamada \"<strong>UPAO.net</strong>\" en el 2008 cuando estábamos en 1er ciclo de la universidad. Realizamos varias actividades como eventos en auditorio, talleres, festivales de instalación, que buenos tiempos!  <strong>Desde la creación de la comunidad siempre hemos estado activos</strong>, se mantiene con vida de manera consecutiva año tras año gracias a sus integrantes que comparten las mismas ganas de \"aprender para compartir\" lema que tenemos instalado en el <strong>C:\\\\orazón</strong> y en el <strong>C:\\\\erebro</strong> :D</p><br/><br/><p>Tuve la oportunidad de ser <strong>Microsoft Student Partner en Perú</strong> del 2010 al 2013 y fue una de las mejores experiencias de mi vida! Actualmente Microsoft Certified Professional, próximamente MCSA: Web Applications, después MCSD: App Builder Solutions Developer y <strong>en algún punto de mi vida lograré ser: \"MVP en ASP.net/IIS\" con enfoque en ASP.net MVC + Azure.</strong> </p><br/><br/><p>Me encuentran generalmente en estos lares de la red, al igual que en twitter, apoyando en lo que pueda a diversas comunidades :D</p><br/>',\n",
              "    'AccountId': 4438214,\n",
              "    'Age': '',\n",
              "    'CreationDate': datetime.datetime(2015, 12, 6, 3, 0, 50, 200000),\n",
              "    'DisplayName': 'fredyfx',\n",
              "    'DownVotes': 32,\n",
              "    'LastAccessDate': datetime.datetime(2017, 8, 25, 23, 42, 54, 187000),\n",
              "    'Location': 'Trujillo, La Libertad, Peru',\n",
              "    'ProfileImageUrl': '',\n",
              "    'Reputation': 5264,\n",
              "    'UpVotes': 706,\n",
              "    'Views': 573,\n",
              "    'WebsiteUrl': 'http://www.fredyfx.com'}]},\n",
              " {'_id': ObjectId('653a79566adce16b55c7db16'),\n",
              "  'Id': 87995,\n",
              "  'AcceptedAnswerId': '',\n",
              "  'AnswerCount': '',\n",
              "  'Body': '<p>Me llamo @lois6b, soy de España, tengo 24 años y trabajo como desarrollador de aplicaciones y soporte. </p><br/><br/><p>Llevo 9 meses participando día a día en el Chat, publicando preguntas y respuestas tanto en el sitio principal como en Meta y moderando gracias a los privilegios adquiridos. </p><br/><br/><p>Pros</p><br/><br/><ul><br/><li><p>Moderar es casi la totalidad de mis actos en el sitio: Votar, Editar posts, reportar, publicar comentarios para guiar a los nuevos, limpiar la cola de revisión..</p></li><br/><li><p>Estoy en España (GMT+1/+2) y desde bien temprano estoy revisando el sitio en general, aportando mi granito de arena. Y conectado en el chat (lo cual me hizo ganarme el apodo de Madrugator).  9h diarias mínimo aunque menos los fines de semana.</p></li><br/><li><p>Ganas.  Este sitio es grandioso con una comunidad excelente y quisiera verlo crecer y desarrollarse y ayudar activamente a que esto suceda. </p></li><br/></ul><br/><br/><p>Contras</p><br/><br/><ul><br/><li>Tengo mucho que aprender. El mundo de la moderación es difuso para los usuarios. Pero solo queda aprender y mejorar. </li><br/></ul><br/><br/><p>Métricas</p><br/><br/><ul><br/><li>1,095 ediciones.</li><br/><li>201 reportes útiles.</li><br/><li>1,735 votos emitidos.</li><br/><li>548 votos de cierre.</li><br/><li>231/288 días visitados. (80,2%)</li><br/><li>1,220 comentarios.</li><br/></ul><br/>',\n",
              "  'ClosedDate': None,\n",
              "  'CommentCount': 4,\n",
              "  'CommunityOwnedDate': datetime.datetime(2017, 7, 19, 14, 32, 46, 530000),\n",
              "  'CreationDate': datetime.datetime(2017, 7, 19, 14, 32, 46, 530000),\n",
              "  'FavoriteCount': '',\n",
              "  'LastActivityDate': datetime.datetime(2017, 7, 21, 11, 33, 25, 203000),\n",
              "  'LastEditDate': datetime.datetime(2017, 7, 21, 11, 33, 25, 203000),\n",
              "  'LastEditorDisplayName': '',\n",
              "  'LastEditorUserId': 15855,\n",
              "  'OwnerDisplayName': '',\n",
              "  'OwnerUserId': 15855,\n",
              "  'ParentId': '',\n",
              "  'PostTypeId': 6,\n",
              "  'Score': 94,\n",
              "  'Tags': '',\n",
              "  'Title': '',\n",
              "  'ViewCount': '',\n",
              "  'owner': [{'_id': ObjectId('653a795b6adce16b55c81f66'),\n",
              "    'Id': 15855,\n",
              "    'AboutMe': '<p>Orgulloso moderador electo :D </p><br/><br/><p>Ante cualquier problema/opinión sobre cualquier accion de moderacion con la que no se esté de acuerdo, contactame por el chat general o a mi correo ^^</p><br/><br/><p>Si necesitais contactarme: lois.soes@gmail.com</p><br/>',\n",
              "    'AccountId': 3654008,\n",
              "    'Age': 24,\n",
              "    'CreationDate': datetime.datetime(2016, 10, 6, 11, 13, 14, 263000),\n",
              "    'DisplayName': 'lois6b',\n",
              "    'DownVotes': 548,\n",
              "    'LastAccessDate': datetime.datetime(2017, 8, 26, 9, 23, 6, 713000),\n",
              "    'Location': 'Spain, España',\n",
              "    'ProfileImageUrl': 'https://i.stack.imgur.com/FFsXj.png?s=128&g=1',\n",
              "    'Reputation': 4965,\n",
              "    'UpVotes': 1351,\n",
              "    'Views': 933,\n",
              "    'WebsiteUrl': ''}]},\n",
              " {'_id': ObjectId('653a79566adce16b55c7de18'),\n",
              "  'Id': 89929,\n",
              "  'AcceptedAnswerId': '',\n",
              "  'AnswerCount': '',\n",
              "  'Body': '<p>Hola a tod@s, mi nombre es Jorge Boșca (<a href=\"https://es.stackoverflow.com/users/95/jorgesys\">Jorgesys</a>), ingeniero en telecomunicaciones, actualmente trabajo en México.</p><br/><br/><p><strong>Pros:</strong></p><br/><br/><ul><br/><li><p>Aún siendo usuario, trato de implicarme en las tareas de moderación, tarea que considero importante para que SOes sea el mejor sitio  IT de habla hispana.</p></li><br/><li><p>Regularmente asisto al sitio en inglés y en español.</p></li><br/><li><p>Considero importante se lleven a cabo las reglas definidas en el Centro de ayuda.</p></li><br/><li><p>Deseos de llevar este sitio al mejor nivel.</p></li><br/><li><p>Soy una persona nocturna así que no tendría problema en estar activo en horas en las que en Europa es de día.</p></li><br/></ul><br/><br/><p><strong>Contras:</strong></p><br/><br/><ul><br/><li><p>No experiencia en moderación, aunque tengo experiencia en administración.</p></li><br/><li><p>Como muchos de nosotros tenemos que trabajar para sustentar nuestra vida en este planeta, sería en ocasiones imposible estar las 24 horas del día moderando, puedo realizarlo después de mi jornada laboral y weekends. </p></li><br/><li><p>No he estado muy activo en META, lo cual sin duda cambiaría al ser moderador.</p></li><br/></ul><br/>',\n",
              "  'ClosedDate': None,\n",
              "  'CommentCount': 8,\n",
              "  'CommunityOwnedDate': datetime.datetime(2017, 7, 23, 18, 3, 53, 727000),\n",
              "  'CreationDate': datetime.datetime(2017, 7, 23, 18, 3, 53, 727000),\n",
              "  'FavoriteCount': '',\n",
              "  'LastActivityDate': datetime.datetime(2017, 7, 25, 16, 57, 41, 187000),\n",
              "  'LastEditDate': datetime.datetime(2017, 7, 25, 16, 57, 41, 187000),\n",
              "  'LastEditorDisplayName': '',\n",
              "  'LastEditorUserId': 95,\n",
              "  'OwnerDisplayName': '',\n",
              "  'OwnerUserId': 95,\n",
              "  'ParentId': '',\n",
              "  'PostTypeId': 6,\n",
              "  'Score': 89,\n",
              "  'Tags': '',\n",
              "  'Title': '',\n",
              "  'ViewCount': '',\n",
              "  'owner': [{'_id': ObjectId('653a795a6adce16b55c7f733'),\n",
              "    'Id': 95,\n",
              "    'AboutMe': '<p><a href=\"/questions/tagged/java\" class=\"post-tag\" title=\"mostrar preguntas con la etiqueta \"java\"\" rel=\"tag\">java</a> <a href=\"/questions/tagged/c%2b%2b\" class=\"post-tag\" title=\"mostrar preguntas con la etiqueta \"c++\"\" rel=\"tag\">c++</a> <a href=\"/questions/tagged/python\" class=\"post-tag\" title=\"mostrar preguntas con la etiqueta \"python\"\" rel=\"tag\">python</a> <a href=\"/questions/tagged/c%23\" class=\"post-tag\" title=\"mostrar preguntas con la etiqueta \"c#\"\" rel=\"tag\">c#</a> <a href=\"/questions/tagged/android\" class=\"post-tag\" title=\"mostrar preguntas con la etiqueta \"android\"\" rel=\"tag\">android</a>  <a href=\"/questions/tagged/ios\" class=\"post-tag\" title=\"mostrar preguntas con la etiqueta \"ios\"\" rel=\"tag\">ios</a> <a href=\"/questions/tagged/swift\" class=\"post-tag\" title=\"mostrar preguntas con la etiqueta \"swift\"\" rel=\"tag\">swift</a> <a href=\"/questions/tagged/.net\" class=\"post-tag\" title=\"mostrar preguntas con la etiqueta \".net\"\" rel=\"tag\">.net</a>  <a href=\"/questions/tagged/software-development\" class=\"post-tag\" title=\"mostrar preguntas con la etiqueta \"software-development\"\" rel=\"tag\">software-development</a> <a href=\"/questions/tagged/pmp\" class=\"post-tag\" title=\"mostrar preguntas con la etiqueta \"pmp\"\" rel=\"tag\">pmp</a> <a href=\"/questions/tagged/agile\" class=\"post-tag\" title=\"mostrar preguntas con la etiqueta \"agile\"\" rel=\"tag\">agile</a> <a href=\"/questions/tagged/peace\" class=\"post-tag\" title=\"mostrar preguntas con la etiqueta \"peace\"\" rel=\"tag\">peace</a> <a href=\"/questions/tagged/romania\" class=\"post-tag\" title=\"mostrar preguntas con la etiqueta \"romania\"\" rel=\"tag\">romania</a> <a href=\"/questions/tagged/mexico\" class=\"post-tag\" title=\"mostrar preguntas con la etiqueta \"mexico\"\" rel=\"tag\">mexico</a> <a href=\"/questions/tagged/books\" class=\"post-tag\" title=\"mostrar preguntas con la etiqueta \"books\"\" rel=\"tag\">books</a>  <a href=\"/questions/tagged/music\" class=\"post-tag\" title=\"mostrar preguntas con la etiqueta \"music\"\" rel=\"tag\">music</a> <a href=\"/questions/tagged/brother\" class=\"post-tag\" title=\"mostrar preguntas con la etiqueta \"brother\"\" rel=\"tag\">brother</a> <a href=\"/questions/tagged/family\" class=\"post-tag\" title=\"mostrar preguntas con la etiqueta \"family\"\" rel=\"tag\">family</a> <a href=\"/questions/tagged/elena-iris\" class=\"post-tag\" title=\"mostrar preguntas con la etiqueta \"elena-iris\"\" rel=\"tag\">elena-iris</a> <a href=\"/questions/tagged/everything-you-can-imagine\" class=\"post-tag\" title=\"mostrar preguntas con la etiqueta \"everything-you-can-imagine\"\" rel=\"tag\">everything-you-can-imagine</a></p><br/><br/><p><li><a href=\"http://www.linkedin.com\" rel=\"nofollow noreferrer\">Linkedin</a>.<br/><li><a href=\"http://twitter.com\" rel=\"nofollow noreferrer\">Twitter</a>.<br/><li><a href=\"http://www.facebook.com\" rel=\"nofollow noreferrer\">Facebook</a>.<br/><li><a href=\"http://www.cplusplus.com\" rel=\"nofollow noreferrer\">My favourite website</a>.</p><br/><br/><hr><br/><br/><p>ᕦ /͠- ‿ ͝-\\\\ ᕥ</p><br/><br/><p><br/>  GLOBAL PEACE<br/></p><br/><br/><hr><br/><br/><p><p>Un mensaje en cinci unu doi ... : <b>c7981471524003af209e7bfdcc4069493465aa46f8deac20afb5aeb4b64255d984dd30bbca61133e6912b02e98c87297f4e6787aba19368ab626d957edc8b3a1</b></p><br/><br/><hr><br/><br/><p>15/Dic<br/>15/Feb<br/>26/May<br/>5/Aug</p><br/><br/><h1>SOreadytohelp</h1><br/>',\n",
              "    'AccountId': 91056,\n",
              "    'Age': 30,\n",
              "    'CreationDate': datetime.datetime(2015, 12, 1, 16, 53, 9, 890000),\n",
              "    'DisplayName': 'Jorgesys',\n",
              "    'DownVotes': 537,\n",
              "    'LastAccessDate': datetime.datetime(2017, 8, 27, 2, 59, 41, 197000),\n",
              "    'Location': 'México City / Iasi, Romania',\n",
              "    'ProfileImageUrl': 'https://i.stack.imgur.com/v6tw0.jpg',\n",
              "    'Reputation': 39591,\n",
              "    'UpVotes': 3787,\n",
              "    'Views': 4487,\n",
              "    'WebsiteUrl': 'http://www.cplusplus.com/'}]}]"
            ]
          },
          "metadata": {},
          "execution_count": 43
        }
      ],
      "source": [
        "respuestas = posts.aggregate( [\n",
        "        {'$match': { 'Score' : {'$gte': 40}}},\n",
        "        {'$lookup': {\n",
        "            'from': \"users\",\n",
        "            'localField': \"OwnerUserId\",\n",
        "            'foreignField': \"Id\",\n",
        "            'as': \"owner\"}\n",
        "        }\n",
        "        ])\n",
        "list(respuestas)"
      ]
    },
    {
      "cell_type": "markdown",
      "metadata": {
        "id": "UoBeNpgdXK5D"
      },
      "source": [
        "El `$lookup` genera un _array_ con todos los resultados. El operador `$arrayElementAt` accede al primer elemento."
      ]
    },
    {
      "cell_type": "code",
      "execution_count": 44,
      "metadata": {
        "id": "Kbg5QWiaXK5D",
        "colab": {
          "base_uri": "https://localhost:8080/"
        },
        "outputId": "69993052-2aa0-41ed-98f8-c779d8761aee"
      },
      "outputs": [
        {
          "output_type": "execute_result",
          "data": {
            "text/plain": [
              "[{'_id': ObjectId('653a79556adce16b55c6cd07'),\n",
              "  'Id': 36,\n",
              "  'Score': 54,\n",
              "  'owner': [{'DisplayName': 'jachguate'}],\n",
              "  'username': 'jachguate'},\n",
              " {'_id': ObjectId('653a79556adce16b55c6cd0b'),\n",
              "  'Id': 40,\n",
              "  'Score': 98,\n",
              "  'owner': [{'DisplayName': 'jachguate'}],\n",
              "  'username': 'jachguate'},\n",
              " {'_id': ObjectId('653a79556adce16b55c6cd2e'),\n",
              "  'Id': 94,\n",
              "  'Score': 44,\n",
              "  'owner': [{'DisplayName': 'Jcl'}],\n",
              "  'username': 'Jcl'},\n",
              " {'_id': ObjectId('653a79556adce16b55c6cd62'),\n",
              "  'Id': 151,\n",
              "  'Score': 47,\n",
              "  'owner': [{'DisplayName': 'Hewbot'}],\n",
              "  'username': 'Hewbot'},\n",
              " {'_id': ObjectId('653a79556adce16b55c6cd8b'),\n",
              "  'Id': 197,\n",
              "  'Score': 77,\n",
              "  'owner': [{'DisplayName': 'Peter Olson'}],\n",
              "  'username': 'Peter Olson'},\n",
              " {'_id': ObjectId('653a79556adce16b55c6cd8f'),\n",
              "  'Id': 204,\n",
              "  'Score': 106,\n",
              "  'owner': [{'DisplayName': 'Konamiman'}],\n",
              "  'username': 'Konamiman'},\n",
              " {'_id': ObjectId('653a79556adce16b55c6cda3'),\n",
              "  'Id': 225,\n",
              "  'Score': 43,\n",
              "  'owner': [{'DisplayName': 'Jordi Castilla'}],\n",
              "  'username': 'Jordi Castilla'},\n",
              " {'_id': ObjectId('653a79556adce16b55c6cda4'),\n",
              "  'Id': 226,\n",
              "  'Score': 69,\n",
              "  'owner': [{'DisplayName': 'Jordi Castilla'}],\n",
              "  'username': 'Jordi Castilla'},\n",
              " {'_id': ObjectId('653a79556adce16b55c6ce02'),\n",
              "  'Id': 331,\n",
              "  'Score': 48,\n",
              "  'owner': [{'DisplayName': 'Jordi Castilla'}],\n",
              "  'username': 'Jordi Castilla'},\n",
              " {'_id': ObjectId('653a79556adce16b55c6ce46'),\n",
              "  'Id': 402,\n",
              "  'Score': 49,\n",
              "  'owner': [{'DisplayName': 'Peter Olson'}],\n",
              "  'username': 'Peter Olson'},\n",
              " {'_id': ObjectId('653a79566adce16b55c6f051'),\n",
              "  'Id': 10519,\n",
              "  'Score': 42,\n",
              "  'owner': [{'DisplayName': 'Alvaro Montoro'}],\n",
              "  'username': 'Alvaro Montoro'},\n",
              " {'_id': ObjectId('653a79566adce16b55c70616'),\n",
              "  'Id': 18232,\n",
              "  'Score': 63,\n",
              "  'owner': [{'DisplayName': 'Alvaro Montoro'}],\n",
              "  'username': 'Alvaro Montoro'},\n",
              " {'_id': ObjectId('653a79566adce16b55c70617'),\n",
              "  'Id': 18233,\n",
              "  'Score': 55,\n",
              "  'owner': [{'DisplayName': 'Alvaro Montoro'}],\n",
              "  'username': 'Alvaro Montoro'},\n",
              " {'_id': ObjectId('653a79566adce16b55c7106f'),\n",
              "  'Id': 22393,\n",
              "  'Score': 52,\n",
              "  'owner': [{'DisplayName': 'PaperBirdMaster'}],\n",
              "  'username': 'PaperBirdMaster'},\n",
              " {'_id': ObjectId('653a79566adce16b55c7195a'),\n",
              "  'Id': 25094,\n",
              "  'Score': 46,\n",
              "  'owner': [{'DisplayName': 'Jesus Angulo'}],\n",
              "  'username': 'Jesus Angulo'},\n",
              " {'_id': ObjectId('653a79566adce16b55c726b7'),\n",
              "  'Id': 29177,\n",
              "  'Score': 53,\n",
              "  'owner': [{'DisplayName': 'aldanux'}],\n",
              "  'username': 'aldanux'},\n",
              " {'_id': ObjectId('653a79566adce16b55c726c9'),\n",
              "  'Id': 29198,\n",
              "  'Score': 62,\n",
              "  'owner': [{'DisplayName': 'Peregring-lk'}],\n",
              "  'username': 'Peregring-lk'},\n",
              " {'_id': ObjectId('653a79566adce16b55c79acc'),\n",
              "  'Id': 66292,\n",
              "  'Score': 42,\n",
              "  'owner': [{'DisplayName': 'Eduardo Sebastian'}],\n",
              "  'username': 'Eduardo Sebastian'},\n",
              " {'_id': ObjectId('653a79566adce16b55c79ace'),\n",
              "  'Id': 66294,\n",
              "  'Score': 41,\n",
              "  'owner': [{'DisplayName': 'Jorge Arturo Juarez'}],\n",
              "  'username': 'Jorge Arturo Juarez'},\n",
              " {'_id': ObjectId('653a79566adce16b55c79ad0'),\n",
              "  'Id': 66296,\n",
              "  'Score': 41,\n",
              "  'owner': [{'DisplayName': 'Dev. Joel'}],\n",
              "  'username': 'Dev. Joel'},\n",
              " {'_id': ObjectId('653a79566adce16b55c7da9a'),\n",
              "  'Id': 87842,\n",
              "  'Score': 174,\n",
              "  'owner': [{'DisplayName': 'Alvaro Montoro'}],\n",
              "  'username': 'Alvaro Montoro'},\n",
              " {'_id': ObjectId('653a79566adce16b55c7dac8'),\n",
              "  'Id': 87895,\n",
              "  'Score': 42,\n",
              "  'owner': [{'DisplayName': 'gbianchi'}],\n",
              "  'username': 'gbianchi'},\n",
              " {'_id': ObjectId('653a79566adce16b55c7dad2'),\n",
              "  'Id': 87905,\n",
              "  'Score': 62,\n",
              "  'owner': [{'DisplayName': 'fredyfx'}],\n",
              "  'username': 'fredyfx'},\n",
              " {'_id': ObjectId('653a79566adce16b55c7db16'),\n",
              "  'Id': 87995,\n",
              "  'Score': 94,\n",
              "  'owner': [{'DisplayName': 'lois6b'}],\n",
              "  'username': 'lois6b'},\n",
              " {'_id': ObjectId('653a79566adce16b55c7de18'),\n",
              "  'Id': 89929,\n",
              "  'Score': 89,\n",
              "  'owner': [{'DisplayName': 'Jorgesys'}],\n",
              "  'username': 'Jorgesys'}]"
            ]
          },
          "metadata": {},
          "execution_count": 44
        }
      ],
      "source": [
        "respuestas = db.posts.aggregate( [\n",
        "        {'$match': { 'Score' : {'$gte': 40}}},\n",
        "        {'$lookup': {\n",
        "            'from': \"users\",\n",
        "            'localField': \"OwnerUserId\",\n",
        "            'foreignField': \"Id\",\n",
        "            'as': \"owner\"}\n",
        "        },\n",
        "        { '$project' :\n",
        "        {\n",
        "            'Id' : True,\n",
        "            'Score' : True,\n",
        "            'username' : {'$arrayElemAt' : ['$owner.DisplayName', 0]},\n",
        "            'owner.DisplayName'  : True\n",
        "        }}\n",
        "        ])\n",
        "list(respuestas)"
      ]
    },
    {
      "cell_type": "markdown",
      "metadata": {
        "id": "5fJwA3gMXK5F"
      },
      "source": [
        "`$unwind` también puede usarse. \"Desdobla\" cada fila por cada elemento del array. En este caso, como sabemos que el array sólo contiene un elemento, sólo habrá una fila por fila original, pero sin el _array_. Finalmente se puede proyectar el campo que se quiera."
      ]
    },
    {
      "cell_type": "code",
      "execution_count": 45,
      "metadata": {
        "id": "vNuMIDTMXK5F",
        "colab": {
          "base_uri": "https://localhost:8080/"
        },
        "outputId": "7392d58d-6b0b-45d7-b018-0f90ac07c789"
      },
      "outputs": [
        {
          "output_type": "execute_result",
          "data": {
            "text/plain": [
              "[{'_id': ObjectId('653a79556adce16b55c6cd07'),\n",
              "  'Id': 36,\n",
              "  'Score': 54,\n",
              "  'username': 'jachguate'},\n",
              " {'_id': ObjectId('653a79556adce16b55c6cd0b'),\n",
              "  'Id': 40,\n",
              "  'Score': 98,\n",
              "  'username': 'jachguate'},\n",
              " {'_id': ObjectId('653a79556adce16b55c6cd2e'),\n",
              "  'Id': 94,\n",
              "  'Score': 44,\n",
              "  'username': 'Jcl'},\n",
              " {'_id': ObjectId('653a79556adce16b55c6cd62'),\n",
              "  'Id': 151,\n",
              "  'Score': 47,\n",
              "  'username': 'Hewbot'},\n",
              " {'_id': ObjectId('653a79556adce16b55c6cd8b'),\n",
              "  'Id': 197,\n",
              "  'Score': 77,\n",
              "  'username': 'Peter Olson'},\n",
              " {'_id': ObjectId('653a79556adce16b55c6cd8f'),\n",
              "  'Id': 204,\n",
              "  'Score': 106,\n",
              "  'username': 'Konamiman'},\n",
              " {'_id': ObjectId('653a79556adce16b55c6cda3'),\n",
              "  'Id': 225,\n",
              "  'Score': 43,\n",
              "  'username': 'Jordi Castilla'},\n",
              " {'_id': ObjectId('653a79556adce16b55c6cda4'),\n",
              "  'Id': 226,\n",
              "  'Score': 69,\n",
              "  'username': 'Jordi Castilla'},\n",
              " {'_id': ObjectId('653a79556adce16b55c6ce02'),\n",
              "  'Id': 331,\n",
              "  'Score': 48,\n",
              "  'username': 'Jordi Castilla'},\n",
              " {'_id': ObjectId('653a79556adce16b55c6ce46'),\n",
              "  'Id': 402,\n",
              "  'Score': 49,\n",
              "  'username': 'Peter Olson'},\n",
              " {'_id': ObjectId('653a79566adce16b55c6f051'),\n",
              "  'Id': 10519,\n",
              "  'Score': 42,\n",
              "  'username': 'Alvaro Montoro'},\n",
              " {'_id': ObjectId('653a79566adce16b55c70616'),\n",
              "  'Id': 18232,\n",
              "  'Score': 63,\n",
              "  'username': 'Alvaro Montoro'},\n",
              " {'_id': ObjectId('653a79566adce16b55c70617'),\n",
              "  'Id': 18233,\n",
              "  'Score': 55,\n",
              "  'username': 'Alvaro Montoro'},\n",
              " {'_id': ObjectId('653a79566adce16b55c7106f'),\n",
              "  'Id': 22393,\n",
              "  'Score': 52,\n",
              "  'username': 'PaperBirdMaster'},\n",
              " {'_id': ObjectId('653a79566adce16b55c7195a'),\n",
              "  'Id': 25094,\n",
              "  'Score': 46,\n",
              "  'username': 'Jesus Angulo'},\n",
              " {'_id': ObjectId('653a79566adce16b55c726b7'),\n",
              "  'Id': 29177,\n",
              "  'Score': 53,\n",
              "  'username': 'aldanux'},\n",
              " {'_id': ObjectId('653a79566adce16b55c726c9'),\n",
              "  'Id': 29198,\n",
              "  'Score': 62,\n",
              "  'username': 'Peregring-lk'},\n",
              " {'_id': ObjectId('653a79566adce16b55c79acc'),\n",
              "  'Id': 66292,\n",
              "  'Score': 42,\n",
              "  'username': 'Eduardo Sebastian'},\n",
              " {'_id': ObjectId('653a79566adce16b55c79ace'),\n",
              "  'Id': 66294,\n",
              "  'Score': 41,\n",
              "  'username': 'Jorge Arturo Juarez'},\n",
              " {'_id': ObjectId('653a79566adce16b55c79ad0'),\n",
              "  'Id': 66296,\n",
              "  'Score': 41,\n",
              "  'username': 'Dev. Joel'},\n",
              " {'_id': ObjectId('653a79566adce16b55c7da9a'),\n",
              "  'Id': 87842,\n",
              "  'Score': 174,\n",
              "  'username': 'Alvaro Montoro'},\n",
              " {'_id': ObjectId('653a79566adce16b55c7dac8'),\n",
              "  'Id': 87895,\n",
              "  'Score': 42,\n",
              "  'username': 'gbianchi'},\n",
              " {'_id': ObjectId('653a79566adce16b55c7dad2'),\n",
              "  'Id': 87905,\n",
              "  'Score': 62,\n",
              "  'username': 'fredyfx'},\n",
              " {'_id': ObjectId('653a79566adce16b55c7db16'),\n",
              "  'Id': 87995,\n",
              "  'Score': 94,\n",
              "  'username': 'lois6b'},\n",
              " {'_id': ObjectId('653a79566adce16b55c7de18'),\n",
              "  'Id': 89929,\n",
              "  'Score': 89,\n",
              "  'username': 'Jorgesys'}]"
            ]
          },
          "metadata": {},
          "execution_count": 45
        }
      ],
      "source": [
        "respuestas = db.posts.aggregate( [\n",
        "        {'$match': { 'Score' : {'$gte': 40}}},\n",
        "        {'$lookup': {\n",
        "            'from': \"users\",\n",
        "            'localField': \"OwnerUserId\",\n",
        "            'foreignField': \"Id\",\n",
        "            'as': \"owner\"}\n",
        "        },\n",
        "        { '$unwind': '$owner'},\n",
        "        { '$project' :\n",
        "         {\n",
        "             'Id' : True,\n",
        "             'Score': True,\n",
        "             'username': '$owner.DisplayName'\n",
        "         }\n",
        "        }\n",
        "        ])\n",
        "list(respuestas)"
      ]
    },
    {
      "cell_type": "markdown",
      "metadata": {
        "id": "nGQdY8W9XK5I"
      },
      "source": [
        "Se pueden crear más índices, de tipos `ASCENDING`, `DESCENDING`, `HASHED`, y otros geoespaciales. https://api.mongodb.com/python/current/api/pymongo/collection.html#pymongo.collection.Collection.create_index"
      ]
    },
    {
      "cell_type": "code",
      "execution_count": null,
      "metadata": {
        "id": "4w4la0MhXK5K"
      },
      "outputs": [],
      "source": [
        "posts.create_index([('Id', pymongo.HASHED)])"
      ]
    },
    {
      "cell_type": "markdown",
      "metadata": {
        "id": "zrIqOPuLXK5M"
      },
      "source": [
        "## EJERCICIO: Separar en dos colecciones las preguntas de las respuestas"
      ]
    },
    {
      "cell_type": "code",
      "execution_count": null,
      "metadata": {
        "id": "_2c_HBO_XK5N"
      },
      "outputs": [],
      "source": []
    },
    {
      "cell_type": "markdown",
      "metadata": {
        "id": "OR0aB5K-XK5R"
      },
      "source": [
        "## EJERCICIO: Con Agregación, mostrar las consulta RQ1 de la sesión 2"
      ]
    },
    {
      "cell_type": "code",
      "execution_count": null,
      "metadata": {
        "id": "8KrKiRl1XK5R"
      },
      "outputs": [],
      "source": []
    }
  ],
  "metadata": {
    "colab": {
      "name": "sesion3.ipynb",
      "provenance": [],
      "include_colab_link": true
    },
    "kernelspec": {
      "display_name": "Python 3 (ipykernel)",
      "language": "python",
      "name": "python3"
    },
    "language_info": {
      "codemirror_mode": {
        "name": "ipython",
        "version": 3
      },
      "file_extension": ".py",
      "mimetype": "text/x-python",
      "name": "python",
      "nbconvert_exporter": "python",
      "pygments_lexer": "ipython3",
      "version": "3.9.6"
    }
  },
  "nbformat": 4,
  "nbformat_minor": 0
}